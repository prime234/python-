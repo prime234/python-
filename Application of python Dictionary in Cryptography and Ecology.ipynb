{
 "cells": [
  {
   "cell_type": "code",
   "execution_count": 1,
   "metadata": {},
   "outputs": [
    {
     "data": {
      "text/plain": [
       "'HIJKLMNOPQRSTUVWXYZABCDEFG'"
      ]
     },
     "execution_count": 1,
     "metadata": {},
     "output_type": "execute_result"
    }
   ],
   "source": [
    "#密码是一种口令或密文，主要功能是保证信息安全。加密实现明文信息到密文信息的转换，解密则是密文到明文的转换。\n",
    "#凯撒密码(Caesar cipher)。曾用于进行军事情报的交换。原理是将明文字母偏移一定数量位置形成密文。\n",
    "#例如：\n",
    "#明文：ABCDEF\n",
    "#如果将明文字母向右偏移四位，则A->E,F->D.即\n",
    "#密文：EFABCD\n",
    "#·明文码字母作为键，对应位置视为0-5的数字，偏移位置为n;密文码字母作为对应明文码字母(键)的值,有以下公式得到密文字母的对应位置：\n",
    "#(index + n) mod 6\n",
    "#明文码plain_text,密文码cipher_text,加密字典encode_dict\n",
    "plain_code = 'ABCDEFGHIJKLMNOPQRSTUVWXYZ'\n",
    "encode_dict = {}#先创建一个空的加密字典\n",
    "cipher_text = ''#用于存储输入的密文码\n",
    "for alpha in plain_code:\n",
    "    plain_idx = plain_code.index(alpha)#获取明文码字母位置\n",
    "    cipher_idx = (plain_idx + 7) % 26  #计算对应密文码字母的位置(index+7) mod 26\n",
    "    encode_dict[alpha] = plain_code[cipher_idx]#将密文码字母作为值存储在字典中\n",
    "    cipher_text += encode_dict[alpha] #输出密文码字母\n",
    "cipher_text"
   ]
  },
  {
   "cell_type": "code",
   "execution_count": 2,
   "metadata": {},
   "outputs": [],
   "source": [
    "#字典在此过程中的作用是提供一个可以用于密码储存的空间。\n",
    "#当需要加密的文字过长，加密字典可以使加密过程更为高效，避免了在同样密码规则下新加密字典的创建。"
   ]
  },
  {
   "cell_type": "code",
   "execution_count": 3,
   "metadata": {},
   "outputs": [],
   "source": [
    "#完整加密过程\n",
    "#·首先建立一个专门产生加密字典的函数endict_dict,用于之后大段文本的加密过程。\n",
    "#·参数step指偏移位置。\n",
    "def encoded_dict(step):\n",
    "    plain_code = 'ABCDEFGHIJKLMNOPQRSTUVWXYZ'\n",
    "    encode_dict = {}\n",
    "    for alpha in plain_code:\n",
    "        plain_idx = plain_code.index(alpha)\n",
    "        cipher_idx = (plain_idx + step) % 26\n",
    "        encode_dict[alpha] = plain_code[cipher_idx]\n",
    "    return encode_dict"
   ]
  },
  {
   "cell_type": "code",
   "execution_count": 4,
   "metadata": {},
   "outputs": [],
   "source": [
    "#加密过程函数caesar_encode。\n",
    "#key_dict指密匙，及加密字典，用于明文字母与密文字母的转换。\n",
    "#输入加密的文本，输出加密后的文本。\n",
    "def caesar_encode(plain_txt,key_dict):\n",
    "    plain_txt = plain_txt.upper()\n",
    "    cipher_txt = ''\n",
    "    for txt in plain_txt:\n",
    "        if txt in key_dict.keys():\n",
    "            cipher_txt += key_dict[txt]\n",
    "        else:\n",
    "            cipher_txt += txt  #如果不是字母元素，则保留，不需要加密\n",
    "    return cipher_txt"
   ]
  },
  {
   "cell_type": "code",
   "execution_count": 5,
   "metadata": {},
   "outputs": [],
   "source": [
    "#加密实践 Songs Offerings《吉檀迦利·第一章》\n",
    "plain_text = 'Thou hast made me endless, such is thy pleasure. This frail vessel thou emptiest again and again, and fillest it ever with fresh life.This little flute of a reed thou hast carried over hills and dales, and hast breathed through it melodies eternally new.At the immortal touch of thy hands my little heart loses its limits in joy and gives birth to utterance ineffable. Thy infinite gifts come to me only on these very small hands of mine.Ages pass, and stoll thou pourest, and still there is room to fill.'#未加密文本"
   ]
  },
  {
   "cell_type": "code",
   "execution_count": 6,
   "metadata": {},
   "outputs": [
    {
     "data": {
      "text/plain": [
       "{'A': 'P',\n",
       " 'B': 'Q',\n",
       " 'C': 'R',\n",
       " 'D': 'S',\n",
       " 'E': 'T',\n",
       " 'F': 'U',\n",
       " 'G': 'V',\n",
       " 'H': 'W',\n",
       " 'I': 'X',\n",
       " 'J': 'Y',\n",
       " 'K': 'Z',\n",
       " 'L': 'A',\n",
       " 'M': 'B',\n",
       " 'N': 'C',\n",
       " 'O': 'D',\n",
       " 'P': 'E',\n",
       " 'Q': 'F',\n",
       " 'R': 'G',\n",
       " 'S': 'H',\n",
       " 'T': 'I',\n",
       " 'U': 'J',\n",
       " 'V': 'K',\n",
       " 'W': 'L',\n",
       " 'X': 'M',\n",
       " 'Y': 'N',\n",
       " 'Z': 'O'}"
      ]
     },
     "execution_count": 6,
     "metadata": {},
     "output_type": "execute_result"
    }
   ],
   "source": [
    "encode_dict = encoded_dict(15)#获取偏移15位恺撒密码的加密字典\n",
    "encode_dict"
   ]
  },
  {
   "cell_type": "code",
   "execution_count": 7,
   "metadata": {},
   "outputs": [
    {
     "data": {
      "text/plain": [
       "'IWDJ WPHI BPST BT TCSATHH, HJRW XH IWN EATPHJGT. IWXH UGPXA KTHHTA IWDJ TBEIXTHI PVPXC PCS PVPXC, PCS UXAATHI XI TKTG LXIW UGTHW AXUT.IWXH AXIIAT UAJIT DU P GTTS IWDJ WPHI RPGGXTS DKTG WXAAH PCS SPATH, PCS WPHI QGTPIWTS IWGDJVW XI BTADSXTH TITGCPAAN CTL.PI IWT XBBDGIPA IDJRW DU IWN WPCSH BN AXIIAT WTPGI ADHTH XIH AXBXIH XC YDN PCS VXKTH QXGIW ID JIITGPCRT XCTUUPQAT. IWN XCUXCXIT VXUIH RDBT ID BT DCAN DC IWTHT KTGN HBPAA WPCSH DU BXCT.PVTH EPHH, PCS HIDAA IWDJ EDJGTHI, PCS HIXAA IWTGT XH GDDB ID UXAA.'"
      ]
     },
     "execution_count": 7,
     "metadata": {},
     "output_type": "execute_result"
    }
   ],
   "source": [
    "cipher_text = caesar_encode(plain_text,encode_dict)\n",
    "cipher_text #加密文本"
   ]
  },
  {
   "cell_type": "code",
   "execution_count": 8,
   "metadata": {},
   "outputs": [],
   "source": [
    "#·解密\n",
    "#解密字典的获取与加密字典的获取类似，但字母内字母键对应的字母值有所不同。\n",
    "#加密字典中，加密字母位置通过：(index + n) mod 26\n",
    "#解密字典中，解密字母位置通过：(index - n) mod 26\n",
    "#获取解密字典\n",
    "def decode_dict(step):\n",
    "    cipher_code = 'ABCDEFGHIJKLMNOPQRSTUVWXYZ'\n",
    "    decode_dict = {}\n",
    "    for alpha in cipher_code:\n",
    "        cipher_idx = cipher_code.index(alpha)\n",
    "        plain_idx = (cipher_idx - step) % 26\n",
    "        decode_dict[alpha] = cipher_code[plain_idx]\n",
    "    return decode_dict"
   ]
  },
  {
   "cell_type": "code",
   "execution_count": 9,
   "metadata": {},
   "outputs": [],
   "source": [
    "#解密函数，获取解密后的文本\n",
    "def caesar_decode(cipher_txt,key_dict):\n",
    "    cipher_txt = cipher_txt.upper()\n",
    "    plain_txt = ''\n",
    "    for txt in cipher_txt:\n",
    "        if txt in key_dict.keys():\n",
    "            plain_txt += key_dict[txt]\n",
    "        else:\n",
    "            plain_txt += txt\n",
    "    return plain_txt"
   ]
  },
  {
   "cell_type": "code",
   "execution_count": 10,
   "metadata": {},
   "outputs": [
    {
     "data": {
      "text/plain": [
       "'IWDJ WPHI BPST BT TCSATHH, HJRW XH IWN EATPHJGT. IWXH UGPXA KTHHTA IWDJ TBEIXTHI PVPXC PCS PVPXC, PCS UXAATHI XI TKTG LXIW UGTHW AXUT.IWXH AXIIAT UAJIT DU P GTTS IWDJ WPHI RPGGXTS DKTG WXAAH PCS SPATH, PCS WPHI QGTPIWTS IWGDJVW XI BTADSXTH TITGCPAAN CTL.PI IWT XBBDGIPA IDJRW DU IWN WPCSH BN AXIIAT WTPGI ADHTH XIH AXBXIH XC YDN PCS VXKTH QXGIW ID JIITGPCRT XCTUUPQAT. IWN XCUXCXIT VXUIH RDBT ID BT DCAN DC IWTHT KTGN HBPAA WPCSH DU BXCT.PVTH EPHH, PCS HIDAA IWDJ EDJGTHI, PCS HIXAA IWTGT XH GDDB ID UXAA.'"
      ]
     },
     "execution_count": 10,
     "metadata": {},
     "output_type": "execute_result"
    }
   ],
   "source": [
    "cipher_text #加密文本"
   ]
  },
  {
   "cell_type": "code",
   "execution_count": 11,
   "metadata": {},
   "outputs": [
    {
     "data": {
      "text/plain": [
       "{'A': 'L',\n",
       " 'B': 'M',\n",
       " 'C': 'N',\n",
       " 'D': 'O',\n",
       " 'E': 'P',\n",
       " 'F': 'Q',\n",
       " 'G': 'R',\n",
       " 'H': 'S',\n",
       " 'I': 'T',\n",
       " 'J': 'U',\n",
       " 'K': 'V',\n",
       " 'L': 'W',\n",
       " 'M': 'X',\n",
       " 'N': 'Y',\n",
       " 'O': 'Z',\n",
       " 'P': 'A',\n",
       " 'Q': 'B',\n",
       " 'R': 'C',\n",
       " 'S': 'D',\n",
       " 'T': 'E',\n",
       " 'U': 'F',\n",
       " 'V': 'G',\n",
       " 'W': 'H',\n",
       " 'X': 'I',\n",
       " 'Y': 'J',\n",
       " 'Z': 'K'}"
      ]
     },
     "execution_count": 11,
     "metadata": {},
     "output_type": "execute_result"
    }
   ],
   "source": [
    "decode_dict = decode_dict(15)\n",
    "decode_dict #解密字典"
   ]
  },
  {
   "cell_type": "code",
   "execution_count": 12,
   "metadata": {},
   "outputs": [
    {
     "data": {
      "text/plain": [
       "'THOU HAST MADE ME ENDLESS, SUCH IS THY PLEASURE. THIS FRAIL VESSEL THOU EMPTIEST AGAIN AND AGAIN, AND FILLEST IT EVER WITH FRESH LIFE.THIS LITTLE FLUTE OF A REED THOU HAST CARRIED OVER HILLS AND DALES, AND HAST BREATHED THROUGH IT MELODIES ETERNALLY NEW.AT THE IMMORTAL TOUCH OF THY HANDS MY LITTLE HEART LOSES ITS LIMITS IN JOY AND GIVES BIRTH TO UTTERANCE INEFFABLE. THY INFINITE GIFTS COME TO ME ONLY ON THESE VERY SMALL HANDS OF MINE.AGES PASS, AND STOLL THOU POUREST, AND STILL THERE IS ROOM TO FILL.'"
      ]
     },
     "execution_count": 12,
     "metadata": {},
     "output_type": "execute_result"
    }
   ],
   "source": [
    "decoded_text = caesar_decode(cipher_text,decode_dict)\n",
    "decoded_text #解密文本"
   ]
  },
  {
   "cell_type": "code",
   "execution_count": 13,
   "metadata": {},
   "outputs": [],
   "source": [
    "#·DNA(脱氧核糖核酸)信息获取\n",
    "#由含氮碱基，脱氧核糖,磷酸组成。\n",
    "#碱基分为：腺嘌呤A，鸟嘌呤G，胸腺嘧啶T，胞嘧啶C\n",
    "#碱基对A-T C-G6890-"
   ]
  },
  {
   "cell_type": "code",
   "execution_count": 14,
   "metadata": {},
   "outputs": [],
   "source": [
    "#GenBank数据库中提供了id为AL772265.5的小老鼠染色体2号上的DNA序列，我们以其中一段序列为例进行信息获取。\n",
    "#完整序列可见：https://www.ncbi.nlm.nih.gov/nuccore/AL772265.5?report=fasta"
   ]
  },
  {
   "cell_type": "code",
   "execution_count": 17,
   "metadata": {},
   "outputs": [],
   "source": [
    "mouse_dna = 'GAATTCATTTTGAAAGGCATCACTGACCGTCCTGAGATGCAGGCCCCACTCTTTGGGTTGCTCTTCATTATCTATCTGATCTCAGCAGTGGGTAATTTGGGCATCATCATTATTACTAACGTGGGCTCCAGGCTCTGCATACCCATGTACTTTTTTTCTCAAACATCTGGCTTTCACTGATCTTGGATATTCTACAGCCATTGGACCAAAAATGTTAGTTAATTTTGTTGCAGAGAATAATTCAGTCTCCTATTACCTTTGTGCTACACAGTTAGCTTGCTTTCTTCTTTTTATTACTTGTGAACTTTTAATTTTTTCTTCAATGTCCTATGACCGTTATGTGCCTATATGTAACCCTCTTCTCTATACTGTCATCATGTCACAAAGAATATGTTGGGTACTTGTGGCAGTCCCATATATCTACAGTGTATTTGTATCTCTAATTGTCACAATAAGGTTATTCACTTTATCCTTTTGTGGCTACAATATCATCAATCTTTTTTTCTGTGATTGTATCCCATTAATATCTTTGCTCTGTTCAAATACACATGAGGTTGAAGTGATAATTAGGTTCTATGCAACATTTGATTTGATTTCCTCTCTTCTGGTCGTCCTTGTGTCTTATCTGTTTATTCTCATAACTATTCTGAGGATGAAATCTGCTGCAGGCAGACGCAAGGCTTTTTCAACCTGTGGGTCTCACCTCACTGTGGTCAGTGTCTTCTATGGGACTTTGATATTTATGTATGTGCAGCCTAAGTACAGTCAAACATTTGAGACTGATAAAGTGTCTTCCATATTTTACACACTTGTTATCCCAATGTTGAATCCCTTGATCTATTCCTTGAGGAATAAAGATGCAAAAGATGCCATAGAAAGAACCTGGAAAAAGATAGTTACCAGTTTTTCTTAAAGGTTGCATACAAATATAGCCATGACAATCCATTTCTATTGTAAACCTACTTTGGTTTCCTCATAGAAAAGACAAATAGGATCAATATATATTACTTCTGTTTGAATTTTGGGTACTAATCTAACTTTTTTATTATAATTATATTAGAGAAGAAAAGAAAAGTGCCCTTGCTTTCCTTCAGGGGGAAGGGAGAATTTAAATAGCAGGACTTGAGTACACTCTGTATAGAGTAGTATCACGTTGAGTGTCAAGTGATCACAAATGTGTGTCATTGAGTTTTATGATGTCTGGGAAAGCCAAAGAGACTTTGAATTGTTTGTGTAGTTTATTAACATTTCAGTGAAAAAAAATGTAGGGTCCATTGTGTGTTTATTTCTGTTTTTCTATGGTGTATAGAGGCAGGCTTTCTATTTTAGGCTACAATTCATTTATATGTGTTGCCTTCAAATGAAATTTGATTATGACACCAAACTTCTAATTTCAGTTCATTATTTAAGAGTCTTTTATTAAAATATGTTAAAGTACGTATTCCTTATGATAAATTTATTTACATACTTTATTTCTTAAGTGTTCTTTCTTTTATATATGAAACTGCTCACTCTCCATATTTGACCTTACAGTAGGCAA'"
   ]
  },
  {
   "cell_type": "code",
   "execution_count": 18,
   "metadata": {},
   "outputs": [
    {
     "data": {
      "text/plain": [
       "{'GAA': 11,\n",
       " 'TTC': 18,\n",
       " 'ATT': 19,\n",
       " 'TTG': 15,\n",
       " 'AAA': 14,\n",
       " 'GGC': 7,\n",
       " 'ATC': 11,\n",
       " 'ACT': 7,\n",
       " 'GAC': 5,\n",
       " 'CGT': 3,\n",
       " 'CCT': 6,\n",
       " 'GAG': 7,\n",
       " 'ATG': 4,\n",
       " 'CAG': 8,\n",
       " 'GCC': 3,\n",
       " 'CCA': 4,\n",
       " 'CTC': 7,\n",
       " 'TTT': 29,\n",
       " 'GGG': 3,\n",
       " 'TAT': 20,\n",
       " 'CTG': 6,\n",
       " 'TCA': 5,\n",
       " 'GCA': 5,\n",
       " 'GTG': 7,\n",
       " 'GGT': 6,\n",
       " 'AAT': 17,\n",
       " 'AAC': 7,\n",
       " 'TCC': 3,\n",
       " 'AGG': 5,\n",
       " 'TGC': 8,\n",
       " 'ATA': 11,\n",
       " 'CCC': 6,\n",
       " 'TAC': 12,\n",
       " 'TCT': 19,\n",
       " 'CAA': 6,\n",
       " 'ACA': 8,\n",
       " 'CAC': 8,\n",
       " 'TGA': 14,\n",
       " 'TGG': 6,\n",
       " 'AGC': 3,\n",
       " 'CAT': 12,\n",
       " 'ACC': 3,\n",
       " 'GTT': 14,\n",
       " 'AGT': 11,\n",
       " 'TAA': 9,\n",
       " 'TGT': 21,\n",
       " 'AGA': 6,\n",
       " 'CTA': 11,\n",
       " 'TTA': 14,\n",
       " 'CTT': 10,\n",
       " 'GTC': 6,\n",
       " 'CCG': 1,\n",
       " 'AAG': 10,\n",
       " 'GCT': 3,\n",
       " 'GAT': 7,\n",
       " 'TAG': 5,\n",
       " 'ACG': 1,\n",
       " 'GTA': 4,\n",
       " 'GGA': 2,\n",
       " 'A': 1}"
      ]
     },
     "execution_count": 18,
     "metadata": {},
     "output_type": "execute_result"
    }
   ],
   "source": [
    "dna_dict = {}\n",
    "for idx in range(0,len(mouse_dna),3):\n",
    "    seq = mouse_dna[idx:idx+3]\n",
    "    if seq not in dna_dict:\n",
    "        dna_dict[seq] = 1\n",
    "    else:\n",
    "        dna_dict[seq] +=1\n",
    "dna_dict"
   ]
  },
  {
   "cell_type": "code",
   "execution_count": 19,
   "metadata": {},
   "outputs": [],
   "source": [
    "#从字典dna_dict中可以直观展现序列中每个密码子的个数。"
   ]
  },
  {
   "cell_type": "code",
   "execution_count": 20,
   "metadata": {},
   "outputs": [],
   "source": [
    "#·DNA转录\n",
    "#DNA转录是遗传信息从DNA转移到RNA的过程。 在此过程中，DNA的一条链作为模版序列，在RNA聚合酶的作用下形成与模版序列互补的mRNA。\n",
    "#RNA（核糖核酸）同样有是四种碱基：\n",
    "#腺嘌呤 A\n",
    "#尿嘧啶 U\n",
    "#鸟嘌呤 G\n",
    "#胞嘧啶 C\n",
    "#DNA转录时的碱基配对原则是：\n",
    "#A - U\n",
    "#T - A\n",
    "#C - G\n",
    "#G - C"
   ]
  },
  {
   "cell_type": "code",
   "execution_count": 21,
   "metadata": {},
   "outputs": [],
   "source": [
    "dna_dna = {'A':'T','T':'A','G':'C','C':'G'}#DNA模板配对字典\n",
    "dna_rna = {'A':'U','T':'A','G':'C','C':'G'}#DNA转录碱基配对字典"
   ]
  },
  {
   "cell_type": "code",
   "execution_count": 22,
   "metadata": {},
   "outputs": [
    {
     "data": {
      "text/plain": [
       "'GAAUUCAUUUUGAAAGGCAUCACUGACCGUCCUGAGAUGCAGGCCCCACUCUUUGGGUUGCUCUUCAUUAUCUAUCUGAUCUCAGCAGUGGGUAAUUUGGGCAUCAUCAUUAUUACUAACGUGGGCUCCAGGCUCUGCAUACCCAUGUACUUUUUUUCUCAAACAUCUGGCUUUCACUGAUCUUGGAUAUUCUACAGCCAUUGGACCAAAAAUGUUAGUUAAUUUUGUUGCAGAGAAUAAUUCAGUCUCCUAUUACCUUUGUGCUACACAGUUAGCUUGCUUUCUUCUUUUUAUUACUUGUGAACUUUUAAUUUUUUCUUCAAUGUCCUAUGACCGUUAUGUGCCUAUAUGUAACCCUCUUCUCUAUACUGUCAUCAUGUCACAAAGAAUAUGUUGGGUACUUGUGGCAGUCCCAUAUAUCUACAGUGUAUUUGUAUCUCUAAUUGUCACAAUAAGGUUAUUCACUUUAUCCUUUUGUGGCUACAAUAUCAUCAAUCUUUUUUUCUGUGAUUGUAUCCCAUUAAUAUCUUUGCUCUGUUCAAAUACACAUGAGGUUGAAGUGAUAAUUAGGUUCUAUGCAACAUUUGAUUUGAUUUCCUCUCUUCUGGUCGUCCUUGUGUCUUAUCUGUUUAUUCUCAUAACUAUUCUGAGGAUGAAAUCUGCUGCAGGCAGACGCAAGGCUUUUUCAACCUGUGGGUCUCACCUCACUGUGGUCAGUGUCUUCUAUGGGACUUUGAUAUUUAUGUAUGUGCAGCCUAAGUACAGUCAAACAUUUGAGACUGAUAAAGUGUCUUCCAUAUUUUACACACUUGUUAUCCCAAUGUUGAAUCCCUUGAUCUAUUCCUUGAGGAAUAAAGAUGCAAAAGAUGCCAUAGAAAGAACCUGGAAAAAGAUAGUUACCAGUUUUUCUUAAAGGUUGCAUACAAAUAUAGCCAUGACAAUCCAUUUCUAUUGUAAACCUACUUUGGUUUCCUCAUAGAAAAGACAAAUAGGAUCAAUAUAUAUUACUUCUGUUUGAAUUUUGGGUACUAAUCUAACUUUUUUAUUAUAAUUAUAUUAGAGAAGAAAAGAAAAGUGCCCUUGCUUUCCUUCAGGGGGAAGGGAGAAUUUAAAUAGCAGGACUUGAGUACACUCUGUAUAGAGUAGUAUCACGUUGAGUGUCAAGUGAUCACAAAUGUGUGUCAUUGAGUUUUAUGAUGUCUGGGAAAGCCAAAGAGACUUUGAAUUGUUUGUGUAGUUUAUUAACAUUUCAGUGAAAAAAAAUGUAGGGUCCAUUGUGUGUUUAUUUCUGUUUUUCUAUGGUGUAUAGAGGCAGGCUUUCUAUUUUAGGCUACAAUUCAUUUAUAUGUGUUGCCUUCAAAUGAAAUUUGAUUAUGACACCAAACUUCUAAUUUCAGUUCAUUAUUUAAGAGUCUUUUAUUAAAAUAUGUUAAAGUACGUAUUCCUUAUGAUAAAUUUAUUUACAUACUUUAUUUCUUAAGUGUUCUUUCUUUUAUAUAUGAAACUGCUCACUCUCCAUAUUUGACCUUACAGUAGGCAA'"
      ]
     },
     "execution_count": 22,
     "metadata": {},
     "output_type": "execute_result"
    }
   ],
   "source": [
    "dna_copy = ''\n",
    "for base in mouse_dna:\n",
    "    dna_copy += dna_dna[base]#生成DNA转录模板\n",
    "rna_seq = ''\n",
    "for base in dna_copy:\n",
    "    rna_seq += dna_rna[base]#生成RNA序列\n",
    "rna_seq#DNA转录后RNA序列"
   ]
  },
  {
   "cell_type": "code",
   "execution_count": 23,
   "metadata": {},
   "outputs": [],
   "source": [
    "#·转译蛋白质\n",
    "#DNA转译是指将DNA转录后的RNA上的遗传信息合成蛋白质。\n",
    "#转录后生成的mRNA上携带密码子，每一个密码子对应一种蛋白质。 从起始密码子开始合成蛋白质，当碰到终止密码时，合成结束。\n",
    "\n",
    "#假设起始密码子为'AUG'，终止密码子为'UAG'，通过字典数据结构来实现该DNA片段的转译。"
   ]
  },
  {
   "cell_type": "code",
   "execution_count": 24,
   "metadata": {},
   "outputs": [],
   "source": [
    "protein_table = {'UUU': 'F', 'CUU': 'L', 'AUU': 'I', 'GUU': 'V', 'UUC': 'F', 'CUC': 'L', 'AUC': 'I', 'GUC': 'V', 'UUA': 'L', 'CUA': 'L', 'AUA': 'I', 'GUA': 'V', 'UUG': 'L', 'CUG': 'L', 'AUG': 'M', 'GUG': 'V','UCU': 'S', 'CCU': 'P', 'ACU': 'T', 'GCU': 'A', 'UCC': 'S', 'CCC': 'P', 'ACC': 'T', 'GCC': 'A', 'UCA': 'S', 'CCA': 'P', 'ACA': 'T', 'GCA': 'A', 'UCG': 'S', 'CCG': 'P', 'ACG': 'T', 'GCG': 'A', 'UAU': 'Y', 'CAU': 'H', 'AAU': 'N', 'GAU': 'D', 'UAC': 'Y', 'CAC': 'H', 'AAC': 'N', 'GAC': 'D', 'UAA': 'STOP', 'CAA': 'Q', 'AAA': 'K', 'GAA': 'E', 'UAG': 'STOP', 'CAG': 'Q', 'AAG': 'K', 'GAG': 'E', 'UGU': 'C', 'CGU': 'R', 'AGU': 'S', 'GGU': 'G', 'UGC': 'C', 'CGC': 'R', 'AGC': 'S', 'GGC': 'G', 'UGA': 'STOP', 'CGA': 'R', 'AGA': 'R', 'GGA': 'G', 'UGG': 'W', 'CGG': 'R', 'AGG': 'R', 'GGG': 'G'}\n",
    "#protein_table是氨基酸密码子对照表\n",
    "#以密码子为键、蛋白质为值的字典"
   ]
  },
  {
   "cell_type": "code",
   "execution_count": 25,
   "metadata": {},
   "outputs": [
    {
     "data": {
      "text/plain": [
       "'QAPLFGLLFIIYLISAVGNLGIIIITNVGSRLCIPMYFFSQTSGFHSTOPSWIFYSHWTKNVS'"
      ]
     },
     "execution_count": 25,
     "metadata": {},
     "output_type": "execute_result"
    }
   ],
   "source": [
    "start_code = 'AUG' #起始密码子\n",
    "stop_code = 'UAG'  #终止密码子\n",
    "start_idx = rna_seq.find(start_code)+3 #寻找起始密码子的位置\n",
    "stop_idx = rna_seq.find(stop_code)+3   #寻找终止密码子的位置\n",
    "protein_seq = ''\n",
    "for idx in range(start_idx,stop_idx,3): #从起始密码子开始，到终止密码子结束\n",
    "    seq = rna_seq[idx:idx+3]\n",
    "    protein_seq += protein_table[seq]\n",
    "protein_seq#转译后产生的蛋白质序列。"
   ]
  },
  {
   "cell_type": "code",
   "execution_count": 26,
   "metadata": {},
   "outputs": [],
   "source": [
    "#总结：字典能够在涉及到值的替换（密码表）或者获取特定信息（基因序列配对）时提供一种快速简单的实现方式。\n",
    "#·从哪里跌倒，就在哪里趴下，休息一会儿你会发现新大陆的！Bye~"
   ]
  },
  {
   "cell_type": "code",
   "execution_count": null,
   "metadata": {},
   "outputs": [],
   "source": []
  }
 ],
 "metadata": {
  "kernelspec": {
   "display_name": "Python 3",
   "language": "python",
   "name": "python3"
  },
  "language_info": {
   "codemirror_mode": {
    "name": "ipython",
    "version": 3
   },
   "file_extension": ".py",
   "mimetype": "text/x-python",
   "name": "python",
   "nbconvert_exporter": "python",
   "pygments_lexer": "ipython3",
   "version": "3.7.4"
  }
 },
 "nbformat": 4,
 "nbformat_minor": 2
}
