{
 "cells": [
  {
   "cell_type": "markdown",
   "metadata": {
    "pycharm": {
     "name": "#%% md\n"
    }
   },
   "source": [
    "### 1. 初步探索   \n",
    "#### 通过比对，发现在第二个地址中存放着关于疫情的数据，因此先对这个地址进行爬虫。"
   ]
  },
  {
   "cell_type": "code",
   "execution_count": null,
   "metadata": {
    "pycharm": {
     "is_executing": false,
     "name": "#%%\n"
    }
   },
   "outputs": [],
   "source": [
    "import requests\n",
    "import pandas as pd\n",
    "import time \n",
    "pd.set_option('max_rows',500)"
   ]
  },
  {
   "cell_type": "code",
   "execution_count": null,
   "metadata": {
    "pycharm": {
     "is_executing": false,
     "name": "#%%\n"
    }
   },
   "outputs": [],
   "source": [
    "# 设置请求头，伪装成游览器\n",
    "headers = {\n",
    "    'user-agent': 'Mozilla/5.0 (Windows NT 6.1; Win64; x64) AppleWebKit/537.36 (KHTML, like Gecko) Chrome/80.0.3987.149 Safari/537.36'\n",
    "}"
   ]
  },
  {
   "cell_type": "code",
   "execution_count": null,
   "metadata": {
    "pycharm": {
     "is_executing": false,
     "name": "#%%\n"
    }
   },
   "outputs": [],
   "source": [
    "url = 'https://c.m.163.com/ug/api/wuhan/app/data/list-total'   # 定义要访问的地址\n",
    "r = requests.get(url, headers=headers)  # 使用requests发起请求"
   ]
  },
  {
   "cell_type": "code",
   "execution_count": null,
   "metadata": {
    "pycharm": {
     "is_executing": false,
     "name": "#%%\n"
    }
   },
   "outputs": [],
   "source": [
    "print(r.status_code)  # 查看请求状态\n",
    "print(type(r.text))\n",
    "print(len(r.text))"
   ]
  },
  {
   "cell_type": "code",
   "execution_count": null,
   "metadata": {
    "pycharm": {
     "is_executing": false,
     "name": "#%%\n"
    }
   },
   "outputs": [],
   "source": [
    "import json\n",
    "data_json = json.loads(r.text)\n",
    "data_json.keys()"
   ]
  },
  {
   "cell_type": "code",
   "execution_count": null,
   "metadata": {
    "pycharm": {
     "is_executing": false,
     "name": "#%%\n"
    }
   },
   "outputs": [],
   "source": [
    "data = data_json['data'] # 取出json中的数据\n",
    "data.keys()"
   ]
  },
  {
   "cell_type": "markdown",
   "metadata": {},
   "source": [
    "### 2. 时事数据爬取\n",
    "#### 2.1 全国各省实时的实时数据爬取\n"
   ]
  },
  {
   "cell_type": "code",
   "execution_count": null,
   "metadata": {
    "pycharm": {
     "is_executing": false,
     "name": "#%%\n"
    }
   },
   "outputs": [],
   "source": [
    "data_province = data['areaTree'][2]['children']  #取出中国各省的实时数据\n",
    "type(data_province)"
   ]
  },
  {
   "cell_type": "code",
   "execution_count": null,
   "metadata": {
    "pycharm": {
     "is_executing": false,
     "name": "#%%\n"
    }
   },
   "outputs": [],
   "source": [
    "data_province[0].keys() #查看各个省键名称"
   ]
  },
  {
   "cell_type": "markdown",
   "metadata": {},
   "source": [
    "键名称|数据内容\n",
    "---|---:\n",
    "today|各省当日数据|\n",
    "total|各省当日累计数据\n",
    "extData|无任何数据\n",
    "name|各省名称\n",
    "id|各省行政编号\n",
    "lastUpdateTime|更新时间\n",
    "children|各省下一级数据"
   ]
  },
  {
   "cell_type": "code",
   "execution_count": null,
   "metadata": {
    "pycharm": {
     "is_executing": false,
     "name": "#%%\n"
    }
   },
   "outputs": [],
   "source": [
    "for i in range(len(data_province)):#遍历查看各省名称、更新时间\n",
    "    print(data_province[i]['name'],data_province[i]['lastUpdateTime'])\n",
    "    if i == 5:\n",
    "        break "
   ]
  },
  {
   "cell_type": "code",
   "execution_count": null,
   "metadata": {
    "pycharm": {
     "is_executing": false,
     "name": "#%%\n"
    }
   },
   "outputs": [],
   "source": [
    "pd.DataFrame(data_province).head() #直接生成数据效果并不理想"
   ]
  },
  {
   "cell_type": "code",
   "execution_count": null,
   "metadata": {
    "pycharm": {
     "is_executing": false,
     "name": "#%%\n"
    }
   },
   "outputs": [],
   "source": [
    "# 获取id、lastUpdateTime、name\n",
    "info = pd.DataFrame(data_province)[['id','lastUpdateTime','name']]\n",
    "info.head()"
   ]
  },
  {
   "cell_type": "code",
   "execution_count": null,
   "metadata": {
    "pycharm": {
     "is_executing": false,
     "name": "#%%\n"
    }
   },
   "outputs": [],
   "source": [
    "# 获取today中的数据\n",
    "today_data = pd.DataFrame([province['today'] for province in data_province])\n",
    "today_data.head()"
   ]
  },
  {
   "cell_type": "code",
   "execution_count": null,
   "metadata": {
    "pycharm": {
     "is_executing": false,
     "name": "#%%\n"
    }
   },
   "outputs": [],
   "source": [
    "['today_'+i for i in today_data.columns]"
   ]
  },
  {
   "cell_type": "code",
   "execution_count": null,
   "metadata": {
    "pycharm": {
     "is_executing": false,
     "name": "#%%\n"
    }
   },
   "outputs": [],
   "source": [
    "today_data.columns = ['today_'+i for i in today_data.columns] # 由于today中键名和total键名相同，因此需要修改列名称"
   ]
  },
  {
   "cell_type": "code",
   "execution_count": null,
   "metadata": {
    "pycharm": {
     "is_executing": false
    }
   },
   "outputs": [],
   "source": [
    "today_data.head()"
   ]
  },
  {
   "cell_type": "code",
   "execution_count": null,
   "metadata": {
    "pycharm": {
     "is_executing": false
    }
   },
   "outputs": [],
   "source": [
    "# 获取total中的数据\n",
    "total_data = pd.DataFrame([province['total'] for province in data_province ])\n",
    "total_data.columns = ['total_'+i for i in total_data.columns]\n",
    "total_data.head()"
   ]
  },
  {
   "cell_type": "code",
   "execution_count": null,
   "metadata": {
    "pycharm": {
     "is_executing": false
    }
   },
   "outputs": [],
   "source": [
    "pd.concat([info,total_data,today_data],axis=1).head() # 将三个数据合并"
   ]
  },
  {
   "cell_type": "code",
   "execution_count": null,
   "metadata": {
    "pycharm": {
     "is_executing": false
    }
   },
   "outputs": [],
   "source": [
    "# 将提取数据的方法封装为函数\n",
    "def get_data(data,info_list):\n",
    "    info = pd.DataFrame(data)[info_list] # 主要信息\n",
    "    \n",
    "    today_data = pd.DataFrame([i['today'] for i in data ]) # 生成today的数据\n",
    "    today_data.columns = ['today_'+i for i in today_data.columns] # 修改列名\n",
    "    \n",
    "    total_data = pd.DataFrame([i['total'] for i in data ]) # 生成total的数据\n",
    "    total_data.columns = ['total_'+i for i in total_data.columns] # 修改列名\n",
    "    \n",
    "    return pd.concat([info,total_data,today_data],axis=1) # info、today和total横向合并最终得到汇总的数据"
   ]
  },
  {
   "cell_type": "code",
   "execution_count": null,
   "metadata": {
    "pycharm": {
     "is_executing": false
    },
    "scrolled": true
   },
   "outputs": [],
   "source": [
    "today_province = get_data(data_province,['id','lastUpdateTime','name'])\n",
    "today_province.head()"
   ]
  },
  {
   "cell_type": "code",
   "execution_count": null,
   "metadata": {
    "pycharm": {
     "is_executing": false
    }
   },
   "outputs": [],
   "source": [
    "def save_data(data,name): # 定义保存数据方法\n",
    "    file_name = name+'_'+time.strftime('%Y_%m_%d',time.localtime(time.time()))+'.csv'\n",
    "    data.to_csv(file_name,index=None,encoding='utf_8_sig')\n",
    "    print(file_name+' 保存成功！')\n",
    "time.strftime('%Y_%m_%d',time.localtime(time.time()))\n",
    "save_data(today_province,'today_province')"
   ]
  },
  {
   "cell_type": "markdown",
   "metadata": {},
   "source": [
    "### 2.2 世界各国实时数据爬取\n",
    "#### 之前已经了解到在json数据data中的areaTree是列表格式，每个元素都是一个国家的实时数据，每个元素的children是各国家省份的数据，现在我们提取世界各国实时数据。"
   ]
  },
  {
   "cell_type": "code",
   "execution_count": null,
   "metadata": {
    "pycharm": {
     "is_executing": false
    }
   },
   "outputs": [],
   "source": [
    "areaTree = data['areaTree'] # 取出areaTree"
   ]
  },
  {
   "cell_type": "code",
   "execution_count": null,
   "metadata": {
    "pycharm": {
     "is_executing": false
    }
   },
   "outputs": [],
   "source": [
    "areaTree[0] # 查看第一个国家的数据"
   ]
  },
  {
   "cell_type": "code",
   "execution_count": null,
   "metadata": {
    "pycharm": {
     "is_executing": false
    }
   },
   "outputs": [],
   "source": [
    "areaTree[0].keys()"
   ]
  },
  {
   "cell_type": "code",
   "execution_count": null,
   "metadata": {
    "pycharm": {
     "is_executing": false
    }
   },
   "outputs": [],
   "source": [
    "for i in range(len(areaTree)):  # 查看各国家名称和更新时间\n",
    "    print(areaTree[i]['name'],areaTree[i]['lastUpdateTime'])\n",
    "    if i == 5:\n",
    "        break"
   ]
  },
  {
   "cell_type": "code",
   "execution_count": null,
   "metadata": {
    "pycharm": {
     "is_executing": false
    }
   },
   "outputs": [],
   "source": [
    "today_world = get_data(areaTree,['id','lastUpdateTime','name'])\n",
    "today_world.head()"
   ]
  },
  {
   "cell_type": "code",
   "execution_count": null,
   "metadata": {
    "pycharm": {
     "is_executing": false
    }
   },
   "outputs": [],
   "source": [
    "save_data(today_world,'today_world')"
   ]
  },
  {
   "cell_type": "markdown",
   "metadata": {},
   "source": [
    "### 3.历史数据爬取\n",
    "#### 3.1 全国历史数据爬取\n",
    "#### 在数据data中，总共有四个键，其中chinaDayList存放着中国的历史数据，我们将其取出。"
   ]
  },
  {
   "cell_type": "code",
   "execution_count": null,
   "metadata": {
    "pycharm": {
     "is_executing": false
    }
   },
   "outputs": [],
   "source": [
    "data.keys()"
   ]
  },
  {
   "cell_type": "code",
   "execution_count": null,
   "metadata": {
    "pycharm": {
     "is_executing": false
    }
   },
   "outputs": [],
   "source": [
    "chinaDayList = data['chinaDayList'] # 取出chinaDayList"
   ]
  },
  {
   "cell_type": "code",
   "execution_count": null,
   "metadata": {
    "pycharm": {
     "is_executing": false
    }
   },
   "outputs": [],
   "source": [
    "chinaDayList[0]"
   ]
  },
  {
   "cell_type": "code",
   "execution_count": null,
   "metadata": {
    "pycharm": {
     "is_executing": false
    }
   },
   "outputs": [],
   "source": [
    "alltime_China = get_data(chinaDayList,['date','lastUpdateTime'])\n",
    "alltime_China.head()"
   ]
  },
  {
   "cell_type": "code",
   "execution_count": null,
   "metadata": {
    "pycharm": {
     "is_executing": false
    }
   },
   "outputs": [],
   "source": [
    "save_data(alltime_China,'alltime_China')"
   ]
  },
  {
   "cell_type": "markdown",
   "metadata": {},
   "source": [
    "### 3.2 全国各省历史数据爬取\n",
    "#### 找到第二个数据地址https://c.m.163.com/ug/api/wuhan/app/data/list-by-area-code?areaCode=420000 ，在页面对比发现是湖北省的历史数据。"
   ]
  },
  {
   "cell_type": "code",
   "execution_count": null,
   "metadata": {
    "pycharm": {
     "is_executing": false
    }
   },
   "outputs": [],
   "source": [
    "url = 'https://c.m.163.com/ug/api/wuhan/app/data/list-by-area-code?areaCode=420000' # 定义数据地址\n",
    "r = requests.get(url, headers=headers) # 进行请求\n",
    "data_json = json.loads(r.text) # 获取json数据"
   ]
  },
  {
   "cell_type": "code",
   "execution_count": null,
   "metadata": {
    "pycharm": {
     "is_executing": false
    }
   },
   "outputs": [],
   "source": [
    "data_json.keys()"
   ]
  },
  {
   "cell_type": "code",
   "execution_count": null,
   "metadata": {
    "pycharm": {
     "is_executing": false
    }
   },
   "outputs": [],
   "source": [
    "data_json['data']['list'][0]"
   ]
  },
  {
   "cell_type": "code",
   "execution_count": null,
   "metadata": {
    "pycharm": {
     "is_executing": false
    }
   },
   "outputs": [],
   "source": [
    "data_test = get_data(data_json['data']['list'],['date'])\n",
    "data_test['name'] = '湖北省'\n",
    "data_test.head()"
   ]
  },
  {
   "cell_type": "code",
   "execution_count": null,
   "metadata": {
    "pycharm": {
     "is_executing": false
    }
   },
   "outputs": [],
   "source": [
    "today_province[['id','name']].head()"
   ]
  },
  {
   "cell_type": "markdown",
   "metadata": {},
   "source": [
    "在百度上查找全国各省的行政代码，结果发现和数据today_province中的id这一列一致，因此id这一列就是各省的行政代码。\n",
    "\n",
    "因此为了得到每个省的历史数据，我们只需要将各省的行政代码作为参数传入这个地址即可，如下所示：\n",
    "https://c.m.163.com/ug/api/wuhan/app/data/list-by-area-code?areaCode=各省行政代码\n",
    "例如广东省历史数据的地址为：https://c.m.163.com/ug/api/wuhan/app/data/list-by-area-code?areaCode=440000\n",
    "湖南省历史数据的地址为：https://c.m.163.com/ug/api/wuhan/app/data/list-by-area-code?areaCode=430000\n",
    "\n",
    "但是数据中并没有显示省的名称，因此需要写入每个省的名称。\n",
    "\n",
    "为了便于写入各省的名称，需要生成一个各省行政代码和省名称对应的字典。\n"
   ]
  },
  {
   "cell_type": "code",
   "execution_count": null,
   "metadata": {
    "pycharm": {
     "is_executing": false
    }
   },
   "outputs": [],
   "source": [
    "province_dict = {num:name for num,name in zip(today_province['id'],today_province['name'])}"
   ]
  },
  {
   "cell_type": "code",
   "execution_count": null,
   "metadata": {
    "pycharm": {
     "is_executing": false
    }
   },
   "outputs": [],
   "source": [
    "# 查看前五个内容\n",
    "count = 0\n",
    "for i in province_dict:\n",
    "    print(i,province_dict[i])\n",
    "    count += 1\n",
    "    if count == 5:\n",
    "        break"
   ]
  },
  {
   "cell_type": "markdown",
   "metadata": {},
   "source": [
    "每一个省的列名是相同的，因此多个省的数据合并起来就可以存入一个数据中"
   ]
  },
  {
   "cell_type": "code",
   "execution_count": null,
   "metadata": {
    "pycharm": {
     "is_executing": false
    }
   },
   "outputs": [],
   "source": [
    "start = time.time()\n",
    "for province_id in province_dict: # 遍历各省编号\n",
    "    \n",
    "    try:\n",
    "        # 按照省编号访问每个省的数据地址，并获取json数据\n",
    "        url = 'https://c.m.163.com/ug/api/wuhan/app/data/list-by-area-code?areaCode='+province_id\n",
    "        r = requests.get(url, headers=headers)\n",
    "        data_json = json.loads(r.text)\n",
    "        \n",
    "        # 提取各省数据，然后写入各省名称\n",
    "        province_data = get_data(data_json['data']['list'],['date'])\n",
    "        province_data['name'] = province_dict[province_id]\n",
    "        \n",
    "        # 合并数据\n",
    "        if province_id == '420000':\n",
    "            alltime_province = province_data\n",
    "        else:\n",
    "            alltime_province = pd.concat([alltime_province,province_data])\n",
    "            \n",
    "        print('-'*20,province_dict[province_id],'成功',\n",
    "              province_data.shape,alltime_province.shape,\n",
    "              ',累计耗时:',round(time.time()-start),'-'*20)\n",
    "        \n",
    "        # 设置延迟等待\n",
    "        time.sleep(20)\n",
    "        \n",
    "    except:\n",
    "        print('-'*20,province_dict[province_id],'wrong','-'*20)"
   ]
  },
  {
   "cell_type": "code",
   "execution_count": null,
   "metadata": {
    "pycharm": {
     "is_executing": false
    }
   },
   "outputs": [],
   "source": [
    "alltime_province.info()"
   ]
  },
  {
   "cell_type": "code",
   "execution_count": null,
   "metadata": {
    "pycharm": {
     "is_executing": false
    }
   },
   "outputs": [],
   "source": [
    "save_data(alltime_province,'alltime_province')"
   ]
  },
  {
   "cell_type": "code",
   "execution_count": null,
   "metadata": {
    "pycharm": {
     "is_executing": false
    }
   },
   "outputs": [],
   "source": []
  },
  {
   "cell_type": "markdown",
   "metadata": {},
   "source": [
    "### 3.3 世界各国历史数据爬取\n",
    "#### 接着找到下一个数据地址，对比后发现是意大利数据，首先尝试爬取意大利的历史数据，其他国家的数据可以用同样的方法爬取。"
   ]
  },
  {
   "cell_type": "code",
   "execution_count": null,
   "metadata": {
    "pycharm": {
     "is_executing": false
    }
   },
   "outputs": [],
   "source": [
    "import json"
   ]
  },
  {
   "cell_type": "code",
   "execution_count": null,
   "metadata": {
    "pycharm": {
     "is_executing": false
    }
   },
   "outputs": [],
   "source": [
    "url_italy = 'https://c.m.163.com/ug/api/wuhan/app/data/list-by-area-code?areaCode=15'  # 意大利的数据地址\n",
    "r = requests.get(url_italy, headers=headers) # 进行访问\n",
    "italy_json = json.loads(r.text) # 导出json数据"
   ]
  },
  {
   "cell_type": "code",
   "execution_count": null,
   "metadata": {
    "pycharm": {
     "is_executing": false
    }
   },
   "outputs": [],
   "source": [
    "italy_json.keys()"
   ]
  },
  {
   "cell_type": "code",
   "execution_count": null,
   "metadata": {
    "pycharm": {
     "is_executing": false
    }
   },
   "outputs": [],
   "source": [
    "italy_json['data'].keys()"
   ]
  },
  {
   "cell_type": "code",
   "execution_count": null,
   "metadata": {
    "pycharm": {
     "is_executing": false
    }
   },
   "outputs": [],
   "source": [
    "italy_json['data']['list'][0] # 查看数据内容"
   ]
  },
  {
   "cell_type": "code",
   "execution_count": null,
   "metadata": {
    "pycharm": {
     "is_executing": false
    }
   },
   "outputs": [],
   "source": [
    "data_italy = get_data(italy_json['data']['list'],['date']) # 生成数据\n",
    "data_italy['name'] = '意大利' # 写入国家名称\n",
    "data_italy.head()"
   ]
  },
  {
   "cell_type": "code",
   "execution_count": null,
   "metadata": {
    "pycharm": {
     "is_executing": false
    }
   },
   "outputs": [],
   "source": [
    "today_world[['id','name']].head()"
   ]
  },
  {
   "cell_type": "code",
   "execution_count": null,
   "metadata": {
    "pycharm": {
     "is_executing": false
    }
   },
   "outputs": [],
   "source": [
    "country_dict = {key:value for key,value in zip(today_world['id'], today_world['name'])}"
   ]
  },
  {
   "cell_type": "code",
   "execution_count": null,
   "metadata": {
    "pycharm": {
     "is_executing": false
    }
   },
   "outputs": [],
   "source": [
    "# 查看前五个内容\n",
    "count = 0\n",
    "for i in country_dict:\n",
    "    print(i,country_dict[i])\n",
    "    count += 1\n",
    "    if count == 5:\n",
    "        break"
   ]
  },
  {
   "cell_type": "markdown",
   "metadata": {},
   "source": [
    "通过每个国家的编号访问每个国家历史数据的地址，然后获取每一个国家的历史数据。"
   ]
  },
  {
   "cell_type": "code",
   "execution_count": null,
   "metadata": {
    "pycharm": {
     "is_executing": false
    }
   },
   "outputs": [],
   "source": [
    "start = time.time()\n",
    "for country_id in country_dict: # 遍历每个国家的编号\n",
    "    \n",
    "    try:\n",
    "        # 按照编号访问每个国家的数据地址，并获取json数据\n",
    "        url = 'https://c.m.163.com/ug/api/wuhan/app/data/list-by-area-code?areaCode='+country_id\n",
    "        r = requests.get(url, headers=headers)\n",
    "        json_data = json.loads(r.text)\n",
    "        \n",
    "        # 生成每个国家的数据\n",
    "        country_data = get_data(json_data['data']['list'],['date'])\n",
    "        country_data['name'] = country_dict[country_id]\n",
    "\n",
    "        # 数据叠加\n",
    "        if country_id == '9577772':\n",
    "            alltime_world = country_data\n",
    "        else:\n",
    "            alltime_world = pd.concat([alltime_world,country_data])\n",
    "            \n",
    "        print('-'*20,country_dict[country_id],'成功',country_data.shape,alltime_world.shape,\n",
    "              ',累计耗时:',round(time.time()-start),'-'*20)\n",
    "        \n",
    "        time.sleep(25)\n",
    "\n",
    "    except:\n",
    "        print('-'*20,country_dict[country_id],'wrong','-'*20)"
   ]
  },
  {
   "cell_type": "code",
   "execution_count": null,
   "metadata": {
    "pycharm": {
     "is_executing": false
    }
   },
   "outputs": [],
   "source": [
    "alltime_world.shape"
   ]
  },
  {
   "cell_type": "code",
   "execution_count": null,
   "metadata": {
    "pycharm": {
     "is_executing": false
    }
   },
   "outputs": [],
   "source": [
    "save_data(alltime_world,'alltime_world')"
   ]
  },
  {
   "cell_type": "code",
   "execution_count": null,
   "metadata": {
    "pycharm": {
     "is_executing": false
    }
   },
   "outputs": [],
   "source": [
    "# 更多相关学习,可阅读pymongo官网 :https://api.mongodb.com/python/3.4.0/\n",
    "# 其他详细操作,如索引等，可阅读mongo官网: https://docs.mongodb.com/manual/reference/operator/query/\n",
    "# 1.导入pymongo\n",
    "import pymongo"
   ]
  },
  {
   "cell_type": "code",
   "execution_count": null,
   "metadata": {
    "pycharm": {
     "is_executing": false
    }
   },
   "outputs": [],
   "source": [
    "# 2.测试mongo 连接\n",
    "client=pymongo.MongoClient(host='localhost',port=27017)  #本机上单节点mongo\n",
    "# client=pymongo.MongoClient('mongodb://192.168.28.201:27017')  虚拟机上单节点mongo\n",
    "#client=pymongo.MongoClient('mongodb://192.168.28.201:23000')  # 集群\n",
    "client\n"
   ]
  },
  {
   "cell_type": "code",
   "execution_count": null,
   "metadata": {
    "pycharm": {
     "is_executing": false
    }
   },
   "outputs": [],
   "source": [
    "# 3.指定数据库\n",
    "db=client['COVID-19']# database\n",
    "db\n",
    "# 4.指定集合  \n",
    "collection=db.alltime_China_2020_12_05\n",
    "collection\n"
   ]
  },
  {
   "cell_type": "markdown",
   "metadata": {},
   "source": [
    "### 数据处理"
   ]
  },
  {
   "cell_type": "code",
   "execution_count": null,
   "metadata": {
    "pycharm": {
     "is_executing": false
    }
   },
   "outputs": [],
   "source": [
    "import pandas as pd\n",
    "\n",
    "# 读取数据\n",
    "today_world = pd.read_csv(\"today_world_2020_12_05.csv\")"
   ]
  },
  {
   "cell_type": "code",
   "execution_count": null,
   "metadata": {
    "pycharm": {
     "is_executing": false
    }
   },
   "outputs": [],
   "source": [
    "# 查看世界各国实时数据 \n",
    "today_world.head()"
   ]
  },
  {
   "cell_type": "code",
   "execution_count": null,
   "metadata": {
    "pycharm": {
     "is_executing": false
    }
   },
   "outputs": [],
   "source": [
    "name_dict = {'date':'日期','name':'名称','id':'编号','lastUpdateTime':'更新时间',\n",
    "             'today_confirm':'当日新增确诊','today_suspect':'当日新增疑似',\n",
    "             'today_heal':'当日新增治愈','today_dead':'当日新增死亡',\n",
    "             'today_severe':'当日新增重症','today_storeConfirm':'当日现存确诊',\n",
    "             'total_confirm':'累计确诊','total_suspect':'累计疑似',\n",
    "             'total_heal':'累计治愈','total_dead':'累计死亡','total_severe':'累计重症'}\n",
    "\n",
    "# 更改列名\n",
    "today_world.rename(columns=name_dict,inplace=True)    # inplace参数判断是否在原数据上进行修改\n",
    "\n",
    "today_world.head()"
   ]
  },
  {
   "cell_type": "code",
   "execution_count": null,
   "metadata": {
    "pycharm": {
     "is_executing": false
    }
   },
   "outputs": [],
   "source": [
    "# 查看数据基本信息\n",
    "today_world.info()"
   ]
  },
  {
   "cell_type": "code",
   "execution_count": null,
   "metadata": {
    "pycharm": {
     "is_executing": false
    }
   },
   "outputs": [],
   "source": [
    "# 计算缺失值比例\n",
    "today_world_nan = today_world.isnull().sum()/len(today_world)\n",
    "\n",
    "# 转变为百分数\n",
    "today_world_nan.apply(lambda x: format(x, '.1%')) "
   ]
  },
  {
   "cell_type": "code",
   "execution_count": null,
   "metadata": {
    "pycharm": {
     "is_executing": false
    }
   },
   "outputs": [],
   "source": [
    "# 缺失值处理\n",
    "today_world['当日现存确诊'] = today_world['累计确诊']-today_world['累计治愈']-today_world['累计死亡']"
   ]
  },
  {
   "cell_type": "code",
   "execution_count": null,
   "metadata": {
    "pycharm": {
     "is_executing": false
    }
   },
   "outputs": [],
   "source": [
    "# 将国家名称设为索引\n",
    "today_world.set_index('名称',inplace=True)\n",
    "\n",
    "today_world.head(3)"
   ]
  },
  {
   "cell_type": "code",
   "execution_count": null,
   "metadata": {
    "pycharm": {
     "is_executing": false
    }
   },
   "outputs": [],
   "source": [
    "today_world.loc['中国']    #可以通过传入列表获取多个国家的数据"
   ]
  },
  {
   "cell_type": "code",
   "execution_count": 1,
   "metadata": {
    "pycharm": {
     "is_executing": false
    }
   },
   "outputs": [
    {
     "traceback": [
      "\u001b[1;31m---------------------------------------------------------------------------\u001b[0m",
      "\u001b[1;31mNameError\u001b[0m                                 Traceback (most recent call last)",
      "\u001b[1;32m<ipython-input-1-b442e06b75ca>\u001b[0m in \u001b[0;36m<module>\u001b[1;34m\u001b[0m\n\u001b[0;32m      1\u001b[0m \u001b[1;31m# 查看当前累计确诊人数前十国家\u001b[0m\u001b[1;33m\u001b[0m\u001b[1;33m\u001b[0m\u001b[1;33m\u001b[0m\u001b[0m\n\u001b[1;32m----> 2\u001b[1;33m \u001b[0mworld_top10\u001b[0m \u001b[1;33m=\u001b[0m \u001b[0mtoday_world\u001b[0m\u001b[1;33m.\u001b[0m\u001b[0msort_values\u001b[0m\u001b[1;33m(\u001b[0m\u001b[1;33m[\u001b[0m\u001b[1;34m'累计确诊'\u001b[0m\u001b[1;33m]\u001b[0m\u001b[1;33m,\u001b[0m\u001b[0mascending\u001b[0m\u001b[1;33m=\u001b[0m\u001b[1;32mFalse\u001b[0m\u001b[1;33m)\u001b[0m\u001b[1;33m[\u001b[0m\u001b[1;33m:\u001b[0m\u001b[1;36m10\u001b[0m\u001b[1;33m]\u001b[0m\u001b[1;33m\u001b[0m\u001b[1;33m\u001b[0m\u001b[0m\n\u001b[0m\u001b[0;32m      3\u001b[0m \u001b[1;33m\u001b[0m\u001b[0m\n\u001b[0;32m      4\u001b[0m \u001b[0mworld_top10\u001b[0m \u001b[1;33m=\u001b[0m \u001b[0mworld_top10\u001b[0m\u001b[1;33m[\u001b[0m\u001b[1;33m[\u001b[0m\u001b[1;34m'累计确诊'\u001b[0m\u001b[1;33m,\u001b[0m\u001b[1;34m'累计死亡'\u001b[0m\u001b[1;33m]\u001b[0m\u001b[1;33m]\u001b[0m\u001b[1;33m\u001b[0m\u001b[1;33m\u001b[0m\u001b[0m\n\u001b[0;32m      5\u001b[0m \u001b[1;33m\u001b[0m\u001b[0m\n",
      "\u001b[1;31mNameError\u001b[0m: name 'today_world' is not defined"
     ],
     "ename": "NameError",
     "evalue": "name 'today_world' is not defined",
     "output_type": "error"
    }
   ],
   "source": [
    "# 查看当前累计确诊人数前十国家\n",
    "world_top10 = today_world.sort_values(['累计确诊'],ascending=False)[:10]\n",
    "\n",
    "world_top10 = world_top10[['累计确诊','累计死亡']]"
   ]
  },
  {
   "cell_type": "code",
   "execution_count": 67,
   "metadata": {
    "pycharm": {
     "is_executing": false
    }
   },
   "outputs": [
    {
     "data": {
      "text/plain": "<Figure size 840x480 with 3 Axes>",
      "image/png": "[encoded data removed]"
     },
     "metadata": {
      "needs_background": "light"
     },
     "output_type": "display_data"
    }
   ],
   "source": [
    "# 导入matplotlib\n",
    "import matplotlib.pyplot as plt\n",
    "\n",
    "plt.rcParams['font.sans-serif']=['SimHei']    #正常显示中文\n",
    "plt.rcParams['figure.dpi'] = 120      #设置所有图片的清晰度\n",
    "# 绘制条形图\n",
    "world_top10.sort_values('累计确诊').plot.barh(subplots=True,layout=(1,3),sharex=False,\n",
    "                                             figsize=(7,4),legend=False,sharey=True)\n",
    "\n",
    "plt.tight_layout()   #调整子图间距\n",
    "plt.show()"
   ]
  },
  {
   "cell_type": "code",
   "execution_count": null,
   "metadata": {
    "pycharm": {
     "is_executing": false
    }
   },
   "outputs": [],
   "source": []
  }
 ],
 "metadata": {
  "kernelspec": {
   "display_name": "Python 3",
   "language": "python",
   "name": "python3"
  },
  "language_info": {
   "codemirror_mode": {
    "name": "ipython",
    "version": 3
   },
   "file_extension": ".py",
   "mimetype": "text/x-python",
   "name": "python",
   "nbconvert_exporter": "python",
   "pygments_lexer": "ipython3",
   "version": "3.7.8"
  },
  "pycharm": {
   "stem_cell": {
    "cell_type": "raw",
    "metadata": {
     "collapsed": false
    },
    "source": []
   }
  }
 },
 "nbformat": 4,
 "nbformat_minor": 1
}