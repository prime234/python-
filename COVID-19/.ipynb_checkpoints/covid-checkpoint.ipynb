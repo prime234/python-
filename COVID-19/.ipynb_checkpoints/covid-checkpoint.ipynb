{
 "cells": [
  {
   "cell_type": "markdown",
   "metadata": {
    "pycharm": {
     "name": "#%% md\n"
    }
   },
   "source": [
    "### 1. 初步探索   \n",
    "#### 通过比对，发现在第二个地址中存放着关于疫情的数据，因此先对这个地址进行爬虫。"
   ]
  },
  {
   "cell_type": "code",
   "execution_count": 1,
   "metadata": {
    "pycharm": {
     "is_executing": false,
     "name": "#%%\n"
    }
   },
   "outputs": [],
   "source": [
    "import requests\n",
    "import pandas as pd\n",
    "import time \n",
    "pd.set_option('max_rows',500)"
   ]
  },
  {
   "cell_type": "code",
   "execution_count": 2,
   "metadata": {
    "pycharm": {
     "is_executing": false,
     "name": "#%%\n"
    }
   },
   "outputs": [],
   "source": [
    "# 设置请求头，伪装成游览器\n",
    "headers = {\n",
    "    'user-agent': 'Mozilla/5.0 (Windows NT 6.1; Win64; x64) AppleWebKit/537.36 (KHTML, like Gecko) Chrome/80.0.3987.149 Safari/537.36'\n",
    "}"
   ]
  },
  {
   "cell_type": "code",
   "execution_count": 3,
   "metadata": {
    "pycharm": {
     "is_executing": false,
     "name": "#%%\n"
    }
   },
   "outputs": [],
   "source": [
    "url = 'https://c.m.163.com/ug/api/wuhan/app/data/list-total'   # 定义要访问的地址\n",
    "r = requests.get(url, headers=headers)  # 使用requests发起请求"
   ]
  },
  {
   "cell_type": "code",
   "execution_count": 4,
   "metadata": {
    "pycharm": {
     "is_executing": false,
     "name": "#%%\n"
    }
   },
   "outputs": [
    {
     "name": "stdout",
     "output_type": "stream",
     "text": [
      "200\n",
      "<class 'str'>\n",
      "366478\n"
     ]
    }
   ],
   "source": [
    "print(r.status_code)  # 查看请求状态\n",
    "print(type(r.text))\n",
    "print(len(r.text))"
   ]
  },
  {
   "cell_type": "code",
   "execution_count": 5,
   "metadata": {
    "pycharm": {
     "is_executing": false,
     "name": "#%%\n"
    }
   },
   "outputs": [
    {
     "data": {
      "text/plain": [
       "dict_keys(['reqId', 'code', 'msg', 'data', 'timestamp'])"
      ]
     },
     "execution_count": 5,
     "metadata": {},
     "output_type": "execute_result"
    }
   ],
   "source": [
    "import json\n",
    "data_json = json.loads(r.text)\n",
    "data_json.keys()"
   ]
  },
  {
   "cell_type": "code",
   "execution_count": 6,
   "metadata": {
    "pycharm": {
     "is_executing": false,
     "name": "#%%\n"
    }
   },
   "outputs": [
    {
     "data": {
      "text/plain": [
       "dict_keys(['chinaTotal', 'chinaDayList', 'lastUpdateTime', 'overseaLastUpdateTime', 'areaTree'])"
      ]
     },
     "execution_count": 6,
     "metadata": {},
     "output_type": "execute_result"
    }
   ],
   "source": [
    "data = data_json['data'] # 取出json中的数据\n",
    "data.keys()"
   ]
  },
  {
   "cell_type": "markdown",
   "metadata": {},
   "source": [
    "### 2. 时事数据爬取\n",
    "#### 2.1 全国各省实时的实时数据爬取\n"
   ]
  },
  {
   "cell_type": "code",
   "execution_count": 7,
   "metadata": {
    "pycharm": {
     "is_executing": false,
     "name": "#%%\n"
    }
   },
   "outputs": [
    {
     "data": {
      "text/plain": [
       "list"
      ]
     },
     "execution_count": 7,
     "metadata": {},
     "output_type": "execute_result"
    }
   ],
   "source": [
    "data_province = data['areaTree'][2]['children']  #取出中国各省的实时数据\n",
    "type(data_province)"
   ]
  },
  {
   "cell_type": "code",
   "execution_count": 8,
   "metadata": {
    "pycharm": {
     "is_executing": false,
     "name": "#%%\n"
    }
   },
   "outputs": [
    {
     "data": {
      "text/plain": [
       "dict_keys(['today', 'total', 'extData', 'name', 'id', 'lastUpdateTime', 'children'])"
      ]
     },
     "execution_count": 8,
     "metadata": {},
     "output_type": "execute_result"
    }
   ],
   "source": [
    "data_province[0].keys() #查看各个省键名称"
   ]
  },
  {
   "cell_type": "markdown",
   "metadata": {},
   "source": [
    "键名称|数据内容\n",
    "---|---:\n",
    "today|各省当日数据|\n",
    "total|各省当日累计数据\n",
    "extData|无任何数据\n",
    "name|各省名称\n",
    "id|各省行政编号\n",
    "lastUpdateTime|更新时间\n",
    "children|各省下一级数据"
   ]
  },
  {
   "cell_type": "code",
   "execution_count": 9,
   "metadata": {
    "pycharm": {
     "is_executing": false,
     "name": "#%%\n"
    }
   },
   "outputs": [
    {
     "name": "stdout",
     "output_type": "stream",
     "text": [
      "湖北 2020-12-05 08:23:37\n",
      "香港 2020-12-05 08:23:37\n",
      "广东 2020-12-05 08:23:37\n",
      "上海 2020-12-05 08:23:36\n",
      "浙江 2020-12-05 08:23:37\n",
      "河南 2020-12-05 08:23:36\n"
     ]
    }
   ],
   "source": [
    "for i in range(len(data_province)):#遍历查看各省名称、更新时间\n",
    "    print(data_province[i]['name'],data_province[i]['lastUpdateTime'])\n",
    "    if i == 5:\n",
    "        break "
   ]
  },
  {
   "cell_type": "code",
   "execution_count": 10,
   "metadata": {
    "pycharm": {
     "is_executing": false,
     "name": "#%%\n"
    }
   },
   "outputs": [
    {
     "data": {
      "text/html": [
       "<div>\n",
       "<style scoped>\n",
       "    .dataframe tbody tr th:only-of-type {\n",
       "        vertical-align: middle;\n",
       "    }\n",
       "\n",
       "    .dataframe tbody tr th {\n",
       "        vertical-align: top;\n",
       "    }\n",
       "\n",
       "    .dataframe thead th {\n",
       "        text-align: right;\n",
       "    }\n",
       "</style>\n",
       "<table border=\"1\" class=\"dataframe\">\n",
       "  <thead>\n",
       "    <tr style=\"text-align: right;\">\n",
       "      <th></th>\n",
       "      <th>today</th>\n",
       "      <th>total</th>\n",
       "      <th>extData</th>\n",
       "      <th>name</th>\n",
       "      <th>id</th>\n",
       "      <th>lastUpdateTime</th>\n",
       "      <th>children</th>\n",
       "    </tr>\n",
       "  </thead>\n",
       "  <tbody>\n",
       "    <tr>\n",
       "      <th>0</th>\n",
       "      <td>{'confirm': 0, 'suspect': None, 'heal': 0, 'de...</td>\n",
       "      <td>{'confirm': 68149, 'suspect': 0, 'heal': 63633...</td>\n",
       "      <td>{}</td>\n",
       "      <td>湖北</td>\n",
       "      <td>420000</td>\n",
       "      <td>2020-12-05 08:23:37</td>\n",
       "      <td>[{'today': {'confirm': 0, 'suspect': None, 'he...</td>\n",
       "    </tr>\n",
       "    <tr>\n",
       "      <th>1</th>\n",
       "      <td>{'confirm': 0, 'suspect': None, 'heal': 0, 'de...</td>\n",
       "      <td>{'confirm': 6701, 'suspect': 0, 'heal': 5465, ...</td>\n",
       "      <td>{}</td>\n",
       "      <td>香港</td>\n",
       "      <td>810000</td>\n",
       "      <td>2020-12-05 08:23:37</td>\n",
       "      <td>[{'today': {'confirm': 0, 'suspect': None, 'he...</td>\n",
       "    </tr>\n",
       "    <tr>\n",
       "      <th>2</th>\n",
       "      <td>{'confirm': 3, 'suspect': None, 'heal': 3, 'de...</td>\n",
       "      <td>{'confirm': 2000, 'suspect': 0, 'heal': 1956, ...</td>\n",
       "      <td>{}</td>\n",
       "      <td>广东</td>\n",
       "      <td>440000</td>\n",
       "      <td>2020-12-05 08:23:37</td>\n",
       "      <td>[{'today': {'confirm': 0, 'suspect': None, 'he...</td>\n",
       "    </tr>\n",
       "    <tr>\n",
       "      <th>3</th>\n",
       "      <td>{'confirm': 3, 'suspect': None, 'heal': 3, 'de...</td>\n",
       "      <td>{'confirm': 1353, 'suspect': 0, 'heal': 1288, ...</td>\n",
       "      <td>{}</td>\n",
       "      <td>上海</td>\n",
       "      <td>310000</td>\n",
       "      <td>2020-12-05 08:23:36</td>\n",
       "      <td>[{'today': {'confirm': 3, 'suspect': None, 'he...</td>\n",
       "    </tr>\n",
       "    <tr>\n",
       "      <th>4</th>\n",
       "      <td>{'confirm': 0, 'suspect': None, 'heal': 0, 'de...</td>\n",
       "      <td>{'confirm': 1294, 'suspect': 0, 'heal': 1288, ...</td>\n",
       "      <td>{}</td>\n",
       "      <td>浙江</td>\n",
       "      <td>330000</td>\n",
       "      <td>2020-12-05 08:23:37</td>\n",
       "      <td>[{'today': {'confirm': 0, 'suspect': None, 'he...</td>\n",
       "    </tr>\n",
       "  </tbody>\n",
       "</table>\n",
       "</div>"
      ],
      "text/plain": [
       "                                               today  \\\n",
       "0  {'confirm': 0, 'suspect': None, 'heal': 0, 'de...   \n",
       "1  {'confirm': 0, 'suspect': None, 'heal': 0, 'de...   \n",
       "2  {'confirm': 3, 'suspect': None, 'heal': 3, 'de...   \n",
       "3  {'confirm': 3, 'suspect': None, 'heal': 3, 'de...   \n",
       "4  {'confirm': 0, 'suspect': None, 'heal': 0, 'de...   \n",
       "\n",
       "                                               total extData name      id  \\\n",
       "0  {'confirm': 68149, 'suspect': 0, 'heal': 63633...      {}   湖北  420000   \n",
       "1  {'confirm': 6701, 'suspect': 0, 'heal': 5465, ...      {}   香港  810000   \n",
       "2  {'confirm': 2000, 'suspect': 0, 'heal': 1956, ...      {}   广东  440000   \n",
       "3  {'confirm': 1353, 'suspect': 0, 'heal': 1288, ...      {}   上海  310000   \n",
       "4  {'confirm': 1294, 'suspect': 0, 'heal': 1288, ...      {}   浙江  330000   \n",
       "\n",
       "        lastUpdateTime                                           children  \n",
       "0  2020-12-05 08:23:37  [{'today': {'confirm': 0, 'suspect': None, 'he...  \n",
       "1  2020-12-05 08:23:37  [{'today': {'confirm': 0, 'suspect': None, 'he...  \n",
       "2  2020-12-05 08:23:37  [{'today': {'confirm': 0, 'suspect': None, 'he...  \n",
       "3  2020-12-05 08:23:36  [{'today': {'confirm': 3, 'suspect': None, 'he...  \n",
       "4  2020-12-05 08:23:37  [{'today': {'confirm': 0, 'suspect': None, 'he...  "
      ]
     },
     "execution_count": 10,
     "metadata": {},
     "output_type": "execute_result"
    }
   ],
   "source": [
    "pd.DataFrame(data_province).head() #直接生成数据效果并不理想"
   ]
  },
  {
   "cell_type": "code",
   "execution_count": 11,
   "metadata": {
    "pycharm": {
     "is_executing": false,
     "name": "#%%\n"
    }
   },
   "outputs": [
    {
     "data": {
      "text/html": [
       "<div>\n",
       "<style scoped>\n",
       "    .dataframe tbody tr th:only-of-type {\n",
       "        vertical-align: middle;\n",
       "    }\n",
       "\n",
       "    .dataframe tbody tr th {\n",
       "        vertical-align: top;\n",
       "    }\n",
       "\n",
       "    .dataframe thead th {\n",
       "        text-align: right;\n",
       "    }\n",
       "</style>\n",
       "<table border=\"1\" class=\"dataframe\">\n",
       "  <thead>\n",
       "    <tr style=\"text-align: right;\">\n",
       "      <th></th>\n",
       "      <th>id</th>\n",
       "      <th>lastUpdateTime</th>\n",
       "      <th>name</th>\n",
       "    </tr>\n",
       "  </thead>\n",
       "  <tbody>\n",
       "    <tr>\n",
       "      <th>0</th>\n",
       "      <td>420000</td>\n",
       "      <td>2020-12-05 08:23:37</td>\n",
       "      <td>湖北</td>\n",
       "    </tr>\n",
       "    <tr>\n",
       "      <th>1</th>\n",
       "      <td>810000</td>\n",
       "      <td>2020-12-05 08:23:37</td>\n",
       "      <td>香港</td>\n",
       "    </tr>\n",
       "    <tr>\n",
       "      <th>2</th>\n",
       "      <td>440000</td>\n",
       "      <td>2020-12-05 08:23:37</td>\n",
       "      <td>广东</td>\n",
       "    </tr>\n",
       "    <tr>\n",
       "      <th>3</th>\n",
       "      <td>310000</td>\n",
       "      <td>2020-12-05 08:23:36</td>\n",
       "      <td>上海</td>\n",
       "    </tr>\n",
       "    <tr>\n",
       "      <th>4</th>\n",
       "      <td>330000</td>\n",
       "      <td>2020-12-05 08:23:37</td>\n",
       "      <td>浙江</td>\n",
       "    </tr>\n",
       "  </tbody>\n",
       "</table>\n",
       "</div>"
      ],
      "text/plain": [
       "       id       lastUpdateTime name\n",
       "0  420000  2020-12-05 08:23:37   湖北\n",
       "1  810000  2020-12-05 08:23:37   香港\n",
       "2  440000  2020-12-05 08:23:37   广东\n",
       "3  310000  2020-12-05 08:23:36   上海\n",
       "4  330000  2020-12-05 08:23:37   浙江"
      ]
     },
     "execution_count": 11,
     "metadata": {},
     "output_type": "execute_result"
    }
   ],
   "source": [
    "# 获取id、lastUpdateTime、name\n",
    "info = pd.DataFrame(data_province)[['id','lastUpdateTime','name']]\n",
    "info.head()"
   ]
  },
  {
   "cell_type": "code",
   "execution_count": 12,
   "metadata": {
    "pycharm": {
     "is_executing": false,
     "name": "#%%\n"
    }
   },
   "outputs": [
    {
     "data": {
      "text/html": [
       "<div>\n",
       "<style scoped>\n",
       "    .dataframe tbody tr th:only-of-type {\n",
       "        vertical-align: middle;\n",
       "    }\n",
       "\n",
       "    .dataframe tbody tr th {\n",
       "        vertical-align: top;\n",
       "    }\n",
       "\n",
       "    .dataframe thead th {\n",
       "        text-align: right;\n",
       "    }\n",
       "</style>\n",
       "<table border=\"1\" class=\"dataframe\">\n",
       "  <thead>\n",
       "    <tr style=\"text-align: right;\">\n",
       "      <th></th>\n",
       "      <th>confirm</th>\n",
       "      <th>suspect</th>\n",
       "      <th>heal</th>\n",
       "      <th>dead</th>\n",
       "      <th>severe</th>\n",
       "      <th>storeConfirm</th>\n",
       "    </tr>\n",
       "  </thead>\n",
       "  <tbody>\n",
       "    <tr>\n",
       "      <th>0</th>\n",
       "      <td>0</td>\n",
       "      <td>None</td>\n",
       "      <td>0</td>\n",
       "      <td>0</td>\n",
       "      <td>None</td>\n",
       "      <td>0</td>\n",
       "    </tr>\n",
       "    <tr>\n",
       "      <th>1</th>\n",
       "      <td>0</td>\n",
       "      <td>None</td>\n",
       "      <td>0</td>\n",
       "      <td>0</td>\n",
       "      <td>None</td>\n",
       "      <td>0</td>\n",
       "    </tr>\n",
       "    <tr>\n",
       "      <th>2</th>\n",
       "      <td>3</td>\n",
       "      <td>None</td>\n",
       "      <td>3</td>\n",
       "      <td>0</td>\n",
       "      <td>None</td>\n",
       "      <td>0</td>\n",
       "    </tr>\n",
       "    <tr>\n",
       "      <th>3</th>\n",
       "      <td>3</td>\n",
       "      <td>None</td>\n",
       "      <td>3</td>\n",
       "      <td>0</td>\n",
       "      <td>None</td>\n",
       "      <td>0</td>\n",
       "    </tr>\n",
       "    <tr>\n",
       "      <th>4</th>\n",
       "      <td>0</td>\n",
       "      <td>None</td>\n",
       "      <td>0</td>\n",
       "      <td>0</td>\n",
       "      <td>None</td>\n",
       "      <td>0</td>\n",
       "    </tr>\n",
       "  </tbody>\n",
       "</table>\n",
       "</div>"
      ],
      "text/plain": [
       "   confirm suspect  heal  dead severe  storeConfirm\n",
       "0        0    None     0     0   None             0\n",
       "1        0    None     0     0   None             0\n",
       "2        3    None     3     0   None             0\n",
       "3        3    None     3     0   None             0\n",
       "4        0    None     0     0   None             0"
      ]
     },
     "execution_count": 12,
     "metadata": {},
     "output_type": "execute_result"
    }
   ],
   "source": [
    "# 获取today中的数据\n",
    "today_data = pd.DataFrame([province['today'] for province in data_province])\n",
    "today_data.head()"
   ]
  },
  {
   "cell_type": "code",
   "execution_count": 13,
   "metadata": {
    "pycharm": {
     "is_executing": false,
     "name": "#%%\n"
    }
   },
   "outputs": [
    {
     "data": {
      "text/plain": [
       "['today_confirm',\n",
       " 'today_suspect',\n",
       " 'today_heal',\n",
       " 'today_dead',\n",
       " 'today_severe',\n",
       " 'today_storeConfirm']"
      ]
     },
     "execution_count": 13,
     "metadata": {},
     "output_type": "execute_result"
    }
   ],
   "source": [
    "['today_'+i for i in today_data.columns]"
   ]
  },
  {
   "cell_type": "code",
   "execution_count": 14,
   "metadata": {
    "pycharm": {
     "is_executing": false,
     "name": "#%%\n"
    }
   },
   "outputs": [],
   "source": [
    "today_data.columns = ['today_'+i for i in today_data.columns] # 由于today中键名和total键名相同，因此需要修改列名称"
   ]
  },
  {
   "cell_type": "code",
   "execution_count": 15,
   "metadata": {
    "pycharm": {
     "is_executing": false
    }
   },
   "outputs": [
    {
     "data": {
      "text/html": [
       "<div>\n",
       "<style scoped>\n",
       "    .dataframe tbody tr th:only-of-type {\n",
       "        vertical-align: middle;\n",
       "    }\n",
       "\n",
       "    .dataframe tbody tr th {\n",
       "        vertical-align: top;\n",
       "    }\n",
       "\n",
       "    .dataframe thead th {\n",
       "        text-align: right;\n",
       "    }\n",
       "</style>\n",
       "<table border=\"1\" class=\"dataframe\">\n",
       "  <thead>\n",
       "    <tr style=\"text-align: right;\">\n",
       "      <th></th>\n",
       "      <th>today_confirm</th>\n",
       "      <th>today_suspect</th>\n",
       "      <th>today_heal</th>\n",
       "      <th>today_dead</th>\n",
       "      <th>today_severe</th>\n",
       "      <th>today_storeConfirm</th>\n",
       "    </tr>\n",
       "  </thead>\n",
       "  <tbody>\n",
       "    <tr>\n",
       "      <th>0</th>\n",
       "      <td>0</td>\n",
       "      <td>None</td>\n",
       "      <td>0</td>\n",
       "      <td>0</td>\n",
       "      <td>None</td>\n",
       "      <td>0</td>\n",
       "    </tr>\n",
       "    <tr>\n",
       "      <th>1</th>\n",
       "      <td>0</td>\n",
       "      <td>None</td>\n",
       "      <td>0</td>\n",
       "      <td>0</td>\n",
       "      <td>None</td>\n",
       "      <td>0</td>\n",
       "    </tr>\n",
       "    <tr>\n",
       "      <th>2</th>\n",
       "      <td>3</td>\n",
       "      <td>None</td>\n",
       "      <td>3</td>\n",
       "      <td>0</td>\n",
       "      <td>None</td>\n",
       "      <td>0</td>\n",
       "    </tr>\n",
       "    <tr>\n",
       "      <th>3</th>\n",
       "      <td>3</td>\n",
       "      <td>None</td>\n",
       "      <td>3</td>\n",
       "      <td>0</td>\n",
       "      <td>None</td>\n",
       "      <td>0</td>\n",
       "    </tr>\n",
       "    <tr>\n",
       "      <th>4</th>\n",
       "      <td>0</td>\n",
       "      <td>None</td>\n",
       "      <td>0</td>\n",
       "      <td>0</td>\n",
       "      <td>None</td>\n",
       "      <td>0</td>\n",
       "    </tr>\n",
       "  </tbody>\n",
       "</table>\n",
       "</div>"
      ],
      "text/plain": [
       "   today_confirm today_suspect  today_heal  today_dead today_severe  \\\n",
       "0              0          None           0           0         None   \n",
       "1              0          None           0           0         None   \n",
       "2              3          None           3           0         None   \n",
       "3              3          None           3           0         None   \n",
       "4              0          None           0           0         None   \n",
       "\n",
       "   today_storeConfirm  \n",
       "0                   0  \n",
       "1                   0  \n",
       "2                   0  \n",
       "3                   0  \n",
       "4                   0  "
      ]
     },
     "execution_count": 15,
     "metadata": {},
     "output_type": "execute_result"
    }
   ],
   "source": [
    "today_data.head()"
   ]
  },
  {
   "cell_type": "code",
   "execution_count": 16,
   "metadata": {
    "pycharm": {
     "is_executing": false
    }
   },
   "outputs": [
    {
     "data": {
      "text/html": [
       "<div>\n",
       "<style scoped>\n",
       "    .dataframe tbody tr th:only-of-type {\n",
       "        vertical-align: middle;\n",
       "    }\n",
       "\n",
       "    .dataframe tbody tr th {\n",
       "        vertical-align: top;\n",
       "    }\n",
       "\n",
       "    .dataframe thead th {\n",
       "        text-align: right;\n",
       "    }\n",
       "</style>\n",
       "<table border=\"1\" class=\"dataframe\">\n",
       "  <thead>\n",
       "    <tr style=\"text-align: right;\">\n",
       "      <th></th>\n",
       "      <th>total_confirm</th>\n",
       "      <th>total_suspect</th>\n",
       "      <th>total_heal</th>\n",
       "      <th>total_dead</th>\n",
       "      <th>total_severe</th>\n",
       "      <th>total_input</th>\n",
       "      <th>total_newConfirm</th>\n",
       "      <th>total_newDead</th>\n",
       "      <th>total_newHeal</th>\n",
       "    </tr>\n",
       "  </thead>\n",
       "  <tbody>\n",
       "    <tr>\n",
       "      <th>0</th>\n",
       "      <td>68149</td>\n",
       "      <td>0</td>\n",
       "      <td>63633</td>\n",
       "      <td>4512</td>\n",
       "      <td>0</td>\n",
       "      <td>0</td>\n",
       "      <td>NaN</td>\n",
       "      <td>NaN</td>\n",
       "      <td>NaN</td>\n",
       "    </tr>\n",
       "    <tr>\n",
       "      <th>1</th>\n",
       "      <td>6701</td>\n",
       "      <td>0</td>\n",
       "      <td>5465</td>\n",
       "      <td>112</td>\n",
       "      <td>0</td>\n",
       "      <td>0</td>\n",
       "      <td>NaN</td>\n",
       "      <td>NaN</td>\n",
       "      <td>NaN</td>\n",
       "    </tr>\n",
       "    <tr>\n",
       "      <th>2</th>\n",
       "      <td>2000</td>\n",
       "      <td>0</td>\n",
       "      <td>1956</td>\n",
       "      <td>8</td>\n",
       "      <td>0</td>\n",
       "      <td>0</td>\n",
       "      <td>NaN</td>\n",
       "      <td>NaN</td>\n",
       "      <td>NaN</td>\n",
       "    </tr>\n",
       "    <tr>\n",
       "      <th>3</th>\n",
       "      <td>1353</td>\n",
       "      <td>0</td>\n",
       "      <td>1288</td>\n",
       "      <td>7</td>\n",
       "      <td>0</td>\n",
       "      <td>0</td>\n",
       "      <td>NaN</td>\n",
       "      <td>NaN</td>\n",
       "      <td>NaN</td>\n",
       "    </tr>\n",
       "    <tr>\n",
       "      <th>4</th>\n",
       "      <td>1294</td>\n",
       "      <td>0</td>\n",
       "      <td>1288</td>\n",
       "      <td>1</td>\n",
       "      <td>0</td>\n",
       "      <td>0</td>\n",
       "      <td>NaN</td>\n",
       "      <td>NaN</td>\n",
       "      <td>NaN</td>\n",
       "    </tr>\n",
       "  </tbody>\n",
       "</table>\n",
       "</div>"
      ],
      "text/plain": [
       "   total_confirm  total_suspect  total_heal  total_dead  total_severe  \\\n",
       "0          68149              0       63633        4512             0   \n",
       "1           6701              0        5465         112             0   \n",
       "2           2000              0        1956           8             0   \n",
       "3           1353              0        1288           7             0   \n",
       "4           1294              0        1288           1             0   \n",
       "\n",
       "   total_input  total_newConfirm  total_newDead  total_newHeal  \n",
       "0            0               NaN            NaN            NaN  \n",
       "1            0               NaN            NaN            NaN  \n",
       "2            0               NaN            NaN            NaN  \n",
       "3            0               NaN            NaN            NaN  \n",
       "4            0               NaN            NaN            NaN  "
      ]
     },
     "execution_count": 16,
     "metadata": {},
     "output_type": "execute_result"
    }
   ],
   "source": [
    "# 获取total中的数据\n",
    "total_data = pd.DataFrame([province['total'] for province in data_province ])\n",
    "total_data.columns = ['total_'+i for i in total_data.columns]\n",
    "total_data.head()"
   ]
  },
  {
   "cell_type": "code",
   "execution_count": 17,
   "metadata": {
    "pycharm": {
     "is_executing": false
    }
   },
   "outputs": [
    {
     "data": {
      "text/html": [
       "<div>\n",
       "<style scoped>\n",
       "    .dataframe tbody tr th:only-of-type {\n",
       "        vertical-align: middle;\n",
       "    }\n",
       "\n",
       "    .dataframe tbody tr th {\n",
       "        vertical-align: top;\n",
       "    }\n",
       "\n",
       "    .dataframe thead th {\n",
       "        text-align: right;\n",
       "    }\n",
       "</style>\n",
       "<table border=\"1\" class=\"dataframe\">\n",
       "  <thead>\n",
       "    <tr style=\"text-align: right;\">\n",
       "      <th></th>\n",
       "      <th>id</th>\n",
       "      <th>lastUpdateTime</th>\n",
       "      <th>name</th>\n",
       "      <th>total_confirm</th>\n",
       "      <th>total_suspect</th>\n",
       "      <th>total_heal</th>\n",
       "      <th>total_dead</th>\n",
       "      <th>total_severe</th>\n",
       "      <th>total_input</th>\n",
       "      <th>total_newConfirm</th>\n",
       "      <th>total_newDead</th>\n",
       "      <th>total_newHeal</th>\n",
       "      <th>today_confirm</th>\n",
       "      <th>today_suspect</th>\n",
       "      <th>today_heal</th>\n",
       "      <th>today_dead</th>\n",
       "      <th>today_severe</th>\n",
       "      <th>today_storeConfirm</th>\n",
       "    </tr>\n",
       "  </thead>\n",
       "  <tbody>\n",
       "    <tr>\n",
       "      <th>0</th>\n",
       "      <td>420000</td>\n",
       "      <td>2020-12-05 08:23:37</td>\n",
       "      <td>湖北</td>\n",
       "      <td>68149</td>\n",
       "      <td>0</td>\n",
       "      <td>63633</td>\n",
       "      <td>4512</td>\n",
       "      <td>0</td>\n",
       "      <td>0</td>\n",
       "      <td>NaN</td>\n",
       "      <td>NaN</td>\n",
       "      <td>NaN</td>\n",
       "      <td>0</td>\n",
       "      <td>None</td>\n",
       "      <td>0</td>\n",
       "      <td>0</td>\n",
       "      <td>None</td>\n",
       "      <td>0</td>\n",
       "    </tr>\n",
       "    <tr>\n",
       "      <th>1</th>\n",
       "      <td>810000</td>\n",
       "      <td>2020-12-05 08:23:37</td>\n",
       "      <td>香港</td>\n",
       "      <td>6701</td>\n",
       "      <td>0</td>\n",
       "      <td>5465</td>\n",
       "      <td>112</td>\n",
       "      <td>0</td>\n",
       "      <td>0</td>\n",
       "      <td>NaN</td>\n",
       "      <td>NaN</td>\n",
       "      <td>NaN</td>\n",
       "      <td>0</td>\n",
       "      <td>None</td>\n",
       "      <td>0</td>\n",
       "      <td>0</td>\n",
       "      <td>None</td>\n",
       "      <td>0</td>\n",
       "    </tr>\n",
       "    <tr>\n",
       "      <th>2</th>\n",
       "      <td>440000</td>\n",
       "      <td>2020-12-05 08:23:37</td>\n",
       "      <td>广东</td>\n",
       "      <td>2000</td>\n",
       "      <td>0</td>\n",
       "      <td>1956</td>\n",
       "      <td>8</td>\n",
       "      <td>0</td>\n",
       "      <td>0</td>\n",
       "      <td>NaN</td>\n",
       "      <td>NaN</td>\n",
       "      <td>NaN</td>\n",
       "      <td>3</td>\n",
       "      <td>None</td>\n",
       "      <td>3</td>\n",
       "      <td>0</td>\n",
       "      <td>None</td>\n",
       "      <td>0</td>\n",
       "    </tr>\n",
       "    <tr>\n",
       "      <th>3</th>\n",
       "      <td>310000</td>\n",
       "      <td>2020-12-05 08:23:36</td>\n",
       "      <td>上海</td>\n",
       "      <td>1353</td>\n",
       "      <td>0</td>\n",
       "      <td>1288</td>\n",
       "      <td>7</td>\n",
       "      <td>0</td>\n",
       "      <td>0</td>\n",
       "      <td>NaN</td>\n",
       "      <td>NaN</td>\n",
       "      <td>NaN</td>\n",
       "      <td>3</td>\n",
       "      <td>None</td>\n",
       "      <td>3</td>\n",
       "      <td>0</td>\n",
       "      <td>None</td>\n",
       "      <td>0</td>\n",
       "    </tr>\n",
       "    <tr>\n",
       "      <th>4</th>\n",
       "      <td>330000</td>\n",
       "      <td>2020-12-05 08:23:37</td>\n",
       "      <td>浙江</td>\n",
       "      <td>1294</td>\n",
       "      <td>0</td>\n",
       "      <td>1288</td>\n",
       "      <td>1</td>\n",
       "      <td>0</td>\n",
       "      <td>0</td>\n",
       "      <td>NaN</td>\n",
       "      <td>NaN</td>\n",
       "      <td>NaN</td>\n",
       "      <td>0</td>\n",
       "      <td>None</td>\n",
       "      <td>0</td>\n",
       "      <td>0</td>\n",
       "      <td>None</td>\n",
       "      <td>0</td>\n",
       "    </tr>\n",
       "  </tbody>\n",
       "</table>\n",
       "</div>"
      ],
      "text/plain": [
       "       id       lastUpdateTime name  total_confirm  total_suspect  total_heal  \\\n",
       "0  420000  2020-12-05 08:23:37   湖北          68149              0       63633   \n",
       "1  810000  2020-12-05 08:23:37   香港           6701              0        5465   \n",
       "2  440000  2020-12-05 08:23:37   广东           2000              0        1956   \n",
       "3  310000  2020-12-05 08:23:36   上海           1353              0        1288   \n",
       "4  330000  2020-12-05 08:23:37   浙江           1294              0        1288   \n",
       "\n",
       "   total_dead  total_severe  total_input  total_newConfirm  total_newDead  \\\n",
       "0        4512             0            0               NaN            NaN   \n",
       "1         112             0            0               NaN            NaN   \n",
       "2           8             0            0               NaN            NaN   \n",
       "3           7             0            0               NaN            NaN   \n",
       "4           1             0            0               NaN            NaN   \n",
       "\n",
       "   total_newHeal  today_confirm today_suspect  today_heal  today_dead  \\\n",
       "0            NaN              0          None           0           0   \n",
       "1            NaN              0          None           0           0   \n",
       "2            NaN              3          None           3           0   \n",
       "3            NaN              3          None           3           0   \n",
       "4            NaN              0          None           0           0   \n",
       "\n",
       "  today_severe  today_storeConfirm  \n",
       "0         None                   0  \n",
       "1         None                   0  \n",
       "2         None                   0  \n",
       "3         None                   0  \n",
       "4         None                   0  "
      ]
     },
     "execution_count": 17,
     "metadata": {},
     "output_type": "execute_result"
    }
   ],
   "source": [
    "pd.concat([info,total_data,today_data],axis=1).head() # 将三个数据合并"
   ]
  },
  {
   "cell_type": "code",
   "execution_count": 18,
   "metadata": {
    "pycharm": {
     "is_executing": false
    }
   },
   "outputs": [],
   "source": [
    "# 将提取数据的方法封装为函数\n",
    "def get_data(data,info_list):\n",
    "    info = pd.DataFrame(data)[info_list] # 主要信息\n",
    "    \n",
    "    today_data = pd.DataFrame([i['today'] for i in data ]) # 生成today的数据\n",
    "    today_data.columns = ['today_'+i for i in today_data.columns] # 修改列名\n",
    "    \n",
    "    total_data = pd.DataFrame([i['total'] for i in data ]) # 生成total的数据\n",
    "    total_data.columns = ['total_'+i for i in total_data.columns] # 修改列名\n",
    "    \n",
    "    return pd.concat([info,total_data,today_data],axis=1) # info、today和total横向合并最终得到汇总的数据"
   ]
  },
  {
   "cell_type": "code",
   "execution_count": 19,
   "metadata": {
    "pycharm": {
     "is_executing": false
    },
    "scrolled": true
   },
   "outputs": [
    {
     "data": {
      "text/html": [
       "<div>\n",
       "<style scoped>\n",
       "    .dataframe tbody tr th:only-of-type {\n",
       "        vertical-align: middle;\n",
       "    }\n",
       "\n",
       "    .dataframe tbody tr th {\n",
       "        vertical-align: top;\n",
       "    }\n",
       "\n",
       "    .dataframe thead th {\n",
       "        text-align: right;\n",
       "    }\n",
       "</style>\n",
       "<table border=\"1\" class=\"dataframe\">\n",
       "  <thead>\n",
       "    <tr style=\"text-align: right;\">\n",
       "      <th></th>\n",
       "      <th>id</th>\n",
       "      <th>lastUpdateTime</th>\n",
       "      <th>name</th>\n",
       "      <th>total_confirm</th>\n",
       "      <th>total_suspect</th>\n",
       "      <th>total_heal</th>\n",
       "      <th>total_dead</th>\n",
       "      <th>total_severe</th>\n",
       "      <th>total_input</th>\n",
       "      <th>total_newConfirm</th>\n",
       "      <th>total_newDead</th>\n",
       "      <th>total_newHeal</th>\n",
       "      <th>today_confirm</th>\n",
       "      <th>today_suspect</th>\n",
       "      <th>today_heal</th>\n",
       "      <th>today_dead</th>\n",
       "      <th>today_severe</th>\n",
       "      <th>today_storeConfirm</th>\n",
       "    </tr>\n",
       "  </thead>\n",
       "  <tbody>\n",
       "    <tr>\n",
       "      <th>0</th>\n",
       "      <td>420000</td>\n",
       "      <td>2020-12-05 08:23:37</td>\n",
       "      <td>湖北</td>\n",
       "      <td>68149</td>\n",
       "      <td>0</td>\n",
       "      <td>63633</td>\n",
       "      <td>4512</td>\n",
       "      <td>0</td>\n",
       "      <td>0</td>\n",
       "      <td>NaN</td>\n",
       "      <td>NaN</td>\n",
       "      <td>NaN</td>\n",
       "      <td>0</td>\n",
       "      <td>None</td>\n",
       "      <td>0</td>\n",
       "      <td>0</td>\n",
       "      <td>None</td>\n",
       "      <td>0</td>\n",
       "    </tr>\n",
       "    <tr>\n",
       "      <th>1</th>\n",
       "      <td>810000</td>\n",
       "      <td>2020-12-05 08:23:37</td>\n",
       "      <td>香港</td>\n",
       "      <td>6701</td>\n",
       "      <td>0</td>\n",
       "      <td>5465</td>\n",
       "      <td>112</td>\n",
       "      <td>0</td>\n",
       "      <td>0</td>\n",
       "      <td>NaN</td>\n",
       "      <td>NaN</td>\n",
       "      <td>NaN</td>\n",
       "      <td>0</td>\n",
       "      <td>None</td>\n",
       "      <td>0</td>\n",
       "      <td>0</td>\n",
       "      <td>None</td>\n",
       "      <td>0</td>\n",
       "    </tr>\n",
       "    <tr>\n",
       "      <th>2</th>\n",
       "      <td>440000</td>\n",
       "      <td>2020-12-05 08:23:37</td>\n",
       "      <td>广东</td>\n",
       "      <td>2000</td>\n",
       "      <td>0</td>\n",
       "      <td>1956</td>\n",
       "      <td>8</td>\n",
       "      <td>0</td>\n",
       "      <td>0</td>\n",
       "      <td>NaN</td>\n",
       "      <td>NaN</td>\n",
       "      <td>NaN</td>\n",
       "      <td>3</td>\n",
       "      <td>None</td>\n",
       "      <td>3</td>\n",
       "      <td>0</td>\n",
       "      <td>None</td>\n",
       "      <td>0</td>\n",
       "    </tr>\n",
       "    <tr>\n",
       "      <th>3</th>\n",
       "      <td>310000</td>\n",
       "      <td>2020-12-05 08:23:36</td>\n",
       "      <td>上海</td>\n",
       "      <td>1353</td>\n",
       "      <td>0</td>\n",
       "      <td>1288</td>\n",
       "      <td>7</td>\n",
       "      <td>0</td>\n",
       "      <td>0</td>\n",
       "      <td>NaN</td>\n",
       "      <td>NaN</td>\n",
       "      <td>NaN</td>\n",
       "      <td>3</td>\n",
       "      <td>None</td>\n",
       "      <td>3</td>\n",
       "      <td>0</td>\n",
       "      <td>None</td>\n",
       "      <td>0</td>\n",
       "    </tr>\n",
       "    <tr>\n",
       "      <th>4</th>\n",
       "      <td>330000</td>\n",
       "      <td>2020-12-05 08:23:37</td>\n",
       "      <td>浙江</td>\n",
       "      <td>1294</td>\n",
       "      <td>0</td>\n",
       "      <td>1288</td>\n",
       "      <td>1</td>\n",
       "      <td>0</td>\n",
       "      <td>0</td>\n",
       "      <td>NaN</td>\n",
       "      <td>NaN</td>\n",
       "      <td>NaN</td>\n",
       "      <td>0</td>\n",
       "      <td>None</td>\n",
       "      <td>0</td>\n",
       "      <td>0</td>\n",
       "      <td>None</td>\n",
       "      <td>0</td>\n",
       "    </tr>\n",
       "  </tbody>\n",
       "</table>\n",
       "</div>"
      ],
      "text/plain": [
       "       id       lastUpdateTime name  total_confirm  total_suspect  total_heal  \\\n",
       "0  420000  2020-12-05 08:23:37   湖北          68149              0       63633   \n",
       "1  810000  2020-12-05 08:23:37   香港           6701              0        5465   \n",
       "2  440000  2020-12-05 08:23:37   广东           2000              0        1956   \n",
       "3  310000  2020-12-05 08:23:36   上海           1353              0        1288   \n",
       "4  330000  2020-12-05 08:23:37   浙江           1294              0        1288   \n",
       "\n",
       "   total_dead  total_severe  total_input  total_newConfirm  total_newDead  \\\n",
       "0        4512             0            0               NaN            NaN   \n",
       "1         112             0            0               NaN            NaN   \n",
       "2           8             0            0               NaN            NaN   \n",
       "3           7             0            0               NaN            NaN   \n",
       "4           1             0            0               NaN            NaN   \n",
       "\n",
       "   total_newHeal  today_confirm today_suspect  today_heal  today_dead  \\\n",
       "0            NaN              0          None           0           0   \n",
       "1            NaN              0          None           0           0   \n",
       "2            NaN              3          None           3           0   \n",
       "3            NaN              3          None           3           0   \n",
       "4            NaN              0          None           0           0   \n",
       "\n",
       "  today_severe  today_storeConfirm  \n",
       "0         None                   0  \n",
       "1         None                   0  \n",
       "2         None                   0  \n",
       "3         None                   0  \n",
       "4         None                   0  "
      ]
     },
     "execution_count": 19,
     "metadata": {},
     "output_type": "execute_result"
    }
   ],
   "source": [
    "today_province = get_data(data_province,['id','lastUpdateTime','name'])\n",
    "today_province.head()"
   ]
  },
  {
   "cell_type": "code",
   "execution_count": 20,
   "metadata": {
    "pycharm": {
     "is_executing": false
    }
   },
   "outputs": [
    {
     "name": "stdout",
     "output_type": "stream",
     "text": [
      "today_province_2020_12_05.csv 保存成功！\n"
     ]
    }
   ],
   "source": [
    "def save_data(data,name): # 定义保存数据方法\n",
    "    file_name = name+'_'+time.strftime('%Y_%m_%d',time.localtime(time.time()))+'.csv'\n",
    "    data.to_csv(file_name,index=None,encoding='utf_8_sig')\n",
    "    print(file_name+' 保存成功！')\n",
    "time.strftime('%Y_%m_%d',time.localtime(time.time()))\n",
    "save_data(today_province,'today_province')"
   ]
  },
  {
   "cell_type": "markdown",
   "metadata": {},
   "source": [
    "### 2.2 世界各国实时数据爬取\n",
    "#### 之前已经了解到在json数据data中的areaTree是列表格式，每个元素都是一个国家的实时数据，每个元素的children是各国家省份的数据，现在我们提取世界各国实时数据。"
   ]
  },
  {
   "cell_type": "code",
   "execution_count": 21,
   "metadata": {
    "pycharm": {
     "is_executing": true
    }
   },
   "outputs": [],
   "source": [
    "areaTree = data['areaTree'] # 取出areaTree"
   ]
  },
  {
   "cell_type": "code",
   "execution_count": 22,
   "metadata": {
    "pycharm": {
     "is_executing": true
    }
   },
   "outputs": [
    {
     "data": {
      "text/plain": [
       "{'today': {'confirm': 2620,\n",
       "  'suspect': None,\n",
       "  'heal': 1857,\n",
       "  'dead': 122,\n",
       "  'severe': None,\n",
       "  'storeConfirm': None},\n",
       " 'total': {'confirm': 101900,\n",
       "  'suspect': 0,\n",
       "  'heal': 75464,\n",
       "  'dead': 3481,\n",
       "  'severe': 0,\n",
       "  'input': 0},\n",
       " 'extData': {},\n",
       " 'name': '突尼斯',\n",
       " 'id': '9577772',\n",
       " 'lastUpdateTime': '2020-12-05 08:23:36',\n",
       " 'children': []}"
      ]
     },
     "execution_count": 22,
     "metadata": {},
     "output_type": "execute_result"
    }
   ],
   "source": [
    "areaTree[0] # 查看第一个国家的数据"
   ]
  },
  {
   "cell_type": "code",
   "execution_count": 23,
   "metadata": {
    "pycharm": {
     "is_executing": true
    }
   },
   "outputs": [
    {
     "data": {
      "text/plain": [
       "dict_keys(['today', 'total', 'extData', 'name', 'id', 'lastUpdateTime', 'children'])"
      ]
     },
     "execution_count": 23,
     "metadata": {},
     "output_type": "execute_result"
    }
   ],
   "source": [
    "areaTree[0].keys()"
   ]
  },
  {
   "cell_type": "code",
   "execution_count": 24,
   "metadata": {
    "pycharm": {
     "is_executing": true
    }
   },
   "outputs": [
    {
     "name": "stdout",
     "output_type": "stream",
     "text": [
      "突尼斯 2020-12-05 08:23:36\n",
      "塞尔维亚 2020-12-05 08:23:36\n",
      "中国 2020-12-05 08:23:36\n",
      "日本本土 2020-12-05 08:23:35\n",
      "泰国 2020-12-05 08:23:35\n",
      "新加坡 2020-12-05 08:23:36\n"
     ]
    }
   ],
   "source": [
    "for i in range(len(areaTree)):  # 查看各国家名称和更新时间\n",
    "    print(areaTree[i]['name'],areaTree[i]['lastUpdateTime'])\n",
    "    if i == 5:\n",
    "        break"
   ]
  },
  {
   "cell_type": "code",
   "execution_count": 25,
   "metadata": {
    "pycharm": {
     "is_executing": true
    }
   },
   "outputs": [
    {
     "data": {
      "text/html": [
       "<div>\n",
       "<style scoped>\n",
       "    .dataframe tbody tr th:only-of-type {\n",
       "        vertical-align: middle;\n",
       "    }\n",
       "\n",
       "    .dataframe tbody tr th {\n",
       "        vertical-align: top;\n",
       "    }\n",
       "\n",
       "    .dataframe thead th {\n",
       "        text-align: right;\n",
       "    }\n",
       "</style>\n",
       "<table border=\"1\" class=\"dataframe\">\n",
       "  <thead>\n",
       "    <tr style=\"text-align: right;\">\n",
       "      <th></th>\n",
       "      <th>id</th>\n",
       "      <th>lastUpdateTime</th>\n",
       "      <th>name</th>\n",
       "      <th>total_confirm</th>\n",
       "      <th>total_suspect</th>\n",
       "      <th>total_heal</th>\n",
       "      <th>total_dead</th>\n",
       "      <th>total_severe</th>\n",
       "      <th>total_input</th>\n",
       "      <th>today_confirm</th>\n",
       "      <th>today_suspect</th>\n",
       "      <th>today_heal</th>\n",
       "      <th>today_dead</th>\n",
       "      <th>today_severe</th>\n",
       "      <th>today_storeConfirm</th>\n",
       "      <th>today_input</th>\n",
       "    </tr>\n",
       "  </thead>\n",
       "  <tbody>\n",
       "    <tr>\n",
       "      <th>0</th>\n",
       "      <td>9577772</td>\n",
       "      <td>2020-12-05 08:23:36</td>\n",
       "      <td>突尼斯</td>\n",
       "      <td>101900</td>\n",
       "      <td>0</td>\n",
       "      <td>75464</td>\n",
       "      <td>3481</td>\n",
       "      <td>0</td>\n",
       "      <td>0.0</td>\n",
       "      <td>2620.0</td>\n",
       "      <td>NaN</td>\n",
       "      <td>1857.0</td>\n",
       "      <td>122.0</td>\n",
       "      <td>NaN</td>\n",
       "      <td>NaN</td>\n",
       "      <td>NaN</td>\n",
       "    </tr>\n",
       "    <tr>\n",
       "      <th>1</th>\n",
       "      <td>9507896</td>\n",
       "      <td>2020-12-05 08:23:36</td>\n",
       "      <td>塞尔维亚</td>\n",
       "      <td>206940</td>\n",
       "      <td>0</td>\n",
       "      <td>15913</td>\n",
       "      <td>1834</td>\n",
       "      <td>0</td>\n",
       "      <td>0.0</td>\n",
       "      <td>7782.0</td>\n",
       "      <td>NaN</td>\n",
       "      <td>0.0</td>\n",
       "      <td>0.0</td>\n",
       "      <td>NaN</td>\n",
       "      <td>NaN</td>\n",
       "      <td>NaN</td>\n",
       "    </tr>\n",
       "    <tr>\n",
       "      <th>2</th>\n",
       "      <td>0</td>\n",
       "      <td>2020-12-05 08:23:36</td>\n",
       "      <td>中国</td>\n",
       "      <td>94038</td>\n",
       "      <td>0</td>\n",
       "      <td>87777</td>\n",
       "      <td>4753</td>\n",
       "      <td>0</td>\n",
       "      <td>3919.0</td>\n",
       "      <td>133.0</td>\n",
       "      <td>NaN</td>\n",
       "      <td>57.0</td>\n",
       "      <td>1.0</td>\n",
       "      <td>NaN</td>\n",
       "      <td>75.0</td>\n",
       "      <td>15.0</td>\n",
       "    </tr>\n",
       "    <tr>\n",
       "      <th>3</th>\n",
       "      <td>1</td>\n",
       "      <td>2020-12-05 08:23:35</td>\n",
       "      <td>日本本土</td>\n",
       "      <td>158387</td>\n",
       "      <td>0</td>\n",
       "      <td>131020</td>\n",
       "      <td>2210</td>\n",
       "      <td>0</td>\n",
       "      <td>0.0</td>\n",
       "      <td>2459.0</td>\n",
       "      <td>NaN</td>\n",
       "      <td>0.0</td>\n",
       "      <td>0.0</td>\n",
       "      <td>NaN</td>\n",
       "      <td>NaN</td>\n",
       "      <td>NaN</td>\n",
       "    </tr>\n",
       "    <tr>\n",
       "      <th>4</th>\n",
       "      <td>2</td>\n",
       "      <td>2020-12-05 08:23:35</td>\n",
       "      <td>泰国</td>\n",
       "      <td>4053</td>\n",
       "      <td>0</td>\n",
       "      <td>3839</td>\n",
       "      <td>60</td>\n",
       "      <td>0</td>\n",
       "      <td>0.0</td>\n",
       "      <td>14.0</td>\n",
       "      <td>NaN</td>\n",
       "      <td>0.0</td>\n",
       "      <td>0.0</td>\n",
       "      <td>NaN</td>\n",
       "      <td>NaN</td>\n",
       "      <td>NaN</td>\n",
       "    </tr>\n",
       "  </tbody>\n",
       "</table>\n",
       "</div>"
      ],
      "text/plain": [
       "        id       lastUpdateTime  name  total_confirm  total_suspect  \\\n",
       "0  9577772  2020-12-05 08:23:36   突尼斯         101900              0   \n",
       "1  9507896  2020-12-05 08:23:36  塞尔维亚         206940              0   \n",
       "2        0  2020-12-05 08:23:36    中国          94038              0   \n",
       "3        1  2020-12-05 08:23:35  日本本土         158387              0   \n",
       "4        2  2020-12-05 08:23:35    泰国           4053              0   \n",
       "\n",
       "   total_heal  total_dead  total_severe  total_input  today_confirm  \\\n",
       "0       75464        3481             0          0.0         2620.0   \n",
       "1       15913        1834             0          0.0         7782.0   \n",
       "2       87777        4753             0       3919.0          133.0   \n",
       "3      131020        2210             0          0.0         2459.0   \n",
       "4        3839          60             0          0.0           14.0   \n",
       "\n",
       "   today_suspect  today_heal  today_dead  today_severe  today_storeConfirm  \\\n",
       "0            NaN      1857.0       122.0           NaN                 NaN   \n",
       "1            NaN         0.0         0.0           NaN                 NaN   \n",
       "2            NaN        57.0         1.0           NaN                75.0   \n",
       "3            NaN         0.0         0.0           NaN                 NaN   \n",
       "4            NaN         0.0         0.0           NaN                 NaN   \n",
       "\n",
       "   today_input  \n",
       "0          NaN  \n",
       "1          NaN  \n",
       "2         15.0  \n",
       "3          NaN  \n",
       "4          NaN  "
      ]
     },
     "execution_count": 25,
     "metadata": {},
     "output_type": "execute_result"
    }
   ],
   "source": [
    "today_world = get_data(areaTree,['id','lastUpdateTime','name'])\n",
    "today_world.head()"
   ]
  },
  {
   "cell_type": "code",
   "execution_count": 26,
   "metadata": {
    "pycharm": {
     "is_executing": true
    }
   },
   "outputs": [
    {
     "name": "stdout",
     "output_type": "stream",
     "text": [
      "today_world_2020_12_05.csv 保存成功！\n"
     ]
    }
   ],
   "source": [
    "save_data(today_world,'today_world')"
   ]
  },
  {
   "cell_type": "markdown",
   "metadata": {},
   "source": [
    "### 3.历史数据爬取\n",
    "#### 3.1 全国历史数据爬取\n",
    "#### 在数据data中，总共有四个键，其中chinaDayList存放着中国的历史数据，我们将其取出。"
   ]
  },
  {
   "cell_type": "code",
   "execution_count": 27,
   "metadata": {
    "pycharm": {
     "is_executing": true
    }
   },
   "outputs": [
    {
     "data": {
      "text/plain": [
       "dict_keys(['chinaTotal', 'chinaDayList', 'lastUpdateTime', 'overseaLastUpdateTime', 'areaTree'])"
      ]
     },
     "execution_count": 27,
     "metadata": {},
     "output_type": "execute_result"
    }
   ],
   "source": [
    "data.keys()"
   ]
  },
  {
   "cell_type": "code",
   "execution_count": 28,
   "metadata": {
    "pycharm": {
     "is_executing": true
    }
   },
   "outputs": [],
   "source": [
    "chinaDayList = data['chinaDayList'] # 取出chinaDayList"
   ]
  },
  {
   "cell_type": "code",
   "execution_count": 29,
   "metadata": {
    "pycharm": {
     "is_executing": true
    }
   },
   "outputs": [
    {
     "data": {
      "text/plain": [
       "{'date': '2020-01-13',\n",
       " 'today': {'confirm': 0,\n",
       "  'suspect': 0,\n",
       "  'heal': 0,\n",
       "  'dead': 0,\n",
       "  'severe': None,\n",
       "  'storeConfirm': 0,\n",
       "  'input': 0},\n",
       " 'total': {'confirm': 41,\n",
       "  'suspect': 0,\n",
       "  'heal': 0,\n",
       "  'dead': 1,\n",
       "  'severe': None,\n",
       "  'input': 0,\n",
       "  'storeConfirm': 0},\n",
       " 'extData': None,\n",
       " 'lastUpdateTime': None}"
      ]
     },
     "execution_count": 29,
     "metadata": {},
     "output_type": "execute_result"
    }
   ],
   "source": [
    "chinaDayList[0]"
   ]
  },
  {
   "cell_type": "code",
   "execution_count": 30,
   "metadata": {
    "pycharm": {
     "is_executing": true
    }
   },
   "outputs": [
    {
     "data": {
      "text/html": [
       "<div>\n",
       "<style scoped>\n",
       "    .dataframe tbody tr th:only-of-type {\n",
       "        vertical-align: middle;\n",
       "    }\n",
       "\n",
       "    .dataframe tbody tr th {\n",
       "        vertical-align: top;\n",
       "    }\n",
       "\n",
       "    .dataframe thead th {\n",
       "        text-align: right;\n",
       "    }\n",
       "</style>\n",
       "<table border=\"1\" class=\"dataframe\">\n",
       "  <thead>\n",
       "    <tr style=\"text-align: right;\">\n",
       "      <th></th>\n",
       "      <th>date</th>\n",
       "      <th>lastUpdateTime</th>\n",
       "      <th>total_confirm</th>\n",
       "      <th>total_suspect</th>\n",
       "      <th>total_heal</th>\n",
       "      <th>total_dead</th>\n",
       "      <th>total_severe</th>\n",
       "      <th>total_input</th>\n",
       "      <th>total_storeConfirm</th>\n",
       "      <th>today_confirm</th>\n",
       "      <th>today_suspect</th>\n",
       "      <th>today_heal</th>\n",
       "      <th>today_dead</th>\n",
       "      <th>today_severe</th>\n",
       "      <th>today_storeConfirm</th>\n",
       "      <th>today_input</th>\n",
       "    </tr>\n",
       "  </thead>\n",
       "  <tbody>\n",
       "    <tr>\n",
       "      <th>0</th>\n",
       "      <td>2020-01-13</td>\n",
       "      <td>None</td>\n",
       "      <td>41</td>\n",
       "      <td>0</td>\n",
       "      <td>0</td>\n",
       "      <td>1</td>\n",
       "      <td>None</td>\n",
       "      <td>0</td>\n",
       "      <td>0</td>\n",
       "      <td>0</td>\n",
       "      <td>0</td>\n",
       "      <td>0</td>\n",
       "      <td>0</td>\n",
       "      <td>None</td>\n",
       "      <td>0</td>\n",
       "      <td>0</td>\n",
       "    </tr>\n",
       "    <tr>\n",
       "      <th>1</th>\n",
       "      <td>2020-01-14</td>\n",
       "      <td>None</td>\n",
       "      <td>41</td>\n",
       "      <td>0</td>\n",
       "      <td>0</td>\n",
       "      <td>1</td>\n",
       "      <td>None</td>\n",
       "      <td>0</td>\n",
       "      <td>0</td>\n",
       "      <td>0</td>\n",
       "      <td>0</td>\n",
       "      <td>0</td>\n",
       "      <td>0</td>\n",
       "      <td>None</td>\n",
       "      <td>0</td>\n",
       "      <td>0</td>\n",
       "    </tr>\n",
       "    <tr>\n",
       "      <th>2</th>\n",
       "      <td>2020-01-15</td>\n",
       "      <td>None</td>\n",
       "      <td>41</td>\n",
       "      <td>0</td>\n",
       "      <td>5</td>\n",
       "      <td>2</td>\n",
       "      <td>None</td>\n",
       "      <td>0</td>\n",
       "      <td>0</td>\n",
       "      <td>0</td>\n",
       "      <td>0</td>\n",
       "      <td>0</td>\n",
       "      <td>0</td>\n",
       "      <td>None</td>\n",
       "      <td>0</td>\n",
       "      <td>0</td>\n",
       "    </tr>\n",
       "    <tr>\n",
       "      <th>3</th>\n",
       "      <td>2020-01-16</td>\n",
       "      <td>None</td>\n",
       "      <td>45</td>\n",
       "      <td>0</td>\n",
       "      <td>8</td>\n",
       "      <td>2</td>\n",
       "      <td>None</td>\n",
       "      <td>0</td>\n",
       "      <td>0</td>\n",
       "      <td>0</td>\n",
       "      <td>0</td>\n",
       "      <td>0</td>\n",
       "      <td>0</td>\n",
       "      <td>None</td>\n",
       "      <td>0</td>\n",
       "      <td>0</td>\n",
       "    </tr>\n",
       "    <tr>\n",
       "      <th>4</th>\n",
       "      <td>2020-01-17</td>\n",
       "      <td>None</td>\n",
       "      <td>62</td>\n",
       "      <td>0</td>\n",
       "      <td>12</td>\n",
       "      <td>2</td>\n",
       "      <td>None</td>\n",
       "      <td>0</td>\n",
       "      <td>0</td>\n",
       "      <td>0</td>\n",
       "      <td>0</td>\n",
       "      <td>0</td>\n",
       "      <td>0</td>\n",
       "      <td>None</td>\n",
       "      <td>0</td>\n",
       "      <td>0</td>\n",
       "    </tr>\n",
       "  </tbody>\n",
       "</table>\n",
       "</div>"
      ],
      "text/plain": [
       "         date lastUpdateTime  total_confirm  total_suspect  total_heal  \\\n",
       "0  2020-01-13           None             41              0           0   \n",
       "1  2020-01-14           None             41              0           0   \n",
       "2  2020-01-15           None             41              0           5   \n",
       "3  2020-01-16           None             45              0           8   \n",
       "4  2020-01-17           None             62              0          12   \n",
       "\n",
       "   total_dead total_severe  total_input  total_storeConfirm  today_confirm  \\\n",
       "0           1         None            0                   0              0   \n",
       "1           1         None            0                   0              0   \n",
       "2           2         None            0                   0              0   \n",
       "3           2         None            0                   0              0   \n",
       "4           2         None            0                   0              0   \n",
       "\n",
       "   today_suspect  today_heal  today_dead today_severe  today_storeConfirm  \\\n",
       "0              0           0           0         None                   0   \n",
       "1              0           0           0         None                   0   \n",
       "2              0           0           0         None                   0   \n",
       "3              0           0           0         None                   0   \n",
       "4              0           0           0         None                   0   \n",
       "\n",
       "   today_input  \n",
       "0            0  \n",
       "1            0  \n",
       "2            0  \n",
       "3            0  \n",
       "4            0  "
      ]
     },
     "execution_count": 30,
     "metadata": {},
     "output_type": "execute_result"
    }
   ],
   "source": [
    "alltime_China = get_data(chinaDayList,['date','lastUpdateTime'])\n",
    "alltime_China.head()"
   ]
  },
  {
   "cell_type": "code",
   "execution_count": 31,
   "metadata": {
    "pycharm": {
     "is_executing": true
    }
   },
   "outputs": [
    {
     "name": "stdout",
     "output_type": "stream",
     "text": [
      "alltime_China_2020_12_05.csv 保存成功！\n"
     ]
    }
   ],
   "source": [
    "save_data(alltime_China,'alltime_China')"
   ]
  },
  {
   "cell_type": "markdown",
   "metadata": {},
   "source": [
    "### 3.2 全国各省历史数据爬取\n",
    "#### 找到第二个数据地址https://c.m.163.com/ug/api/wuhan/app/data/list-by-area-code?areaCode=420000 ，在页面对比发现是湖北省的历史数据。"
   ]
  },
  {
   "cell_type": "code",
   "execution_count": 32,
   "metadata": {
    "pycharm": {
     "is_executing": true
    }
   },
   "outputs": [],
   "source": [
    "url = 'https://c.m.163.com/ug/api/wuhan/app/data/list-by-area-code?areaCode=420000' # 定义数据地址\n",
    "r = requests.get(url, headers=headers) # 进行请求\n",
    "data_json = json.loads(r.text) # 获取json数据"
   ]
  },
  {
   "cell_type": "code",
   "execution_count": 33,
   "metadata": {
    "pycharm": {
     "is_executing": true
    }
   },
   "outputs": [
    {
     "data": {
      "text/plain": [
       "dict_keys(['reqId', 'code', 'msg', 'data', 'timestamp'])"
      ]
     },
     "execution_count": 33,
     "metadata": {},
     "output_type": "execute_result"
    }
   ],
   "source": [
    "data_json.keys()"
   ]
  },
  {
   "cell_type": "code",
   "execution_count": 34,
   "metadata": {
    "pycharm": {
     "is_executing": true
    }
   },
   "outputs": [
    {
     "data": {
      "text/plain": [
       "{'date': '2020-01-20',\n",
       " 'today': {'confirm': 0,\n",
       "  'suspect': 0,\n",
       "  'heal': 0,\n",
       "  'dead': 0,\n",
       "  'severe': None,\n",
       "  'storeConfirm': 0,\n",
       "  'input': 0},\n",
       " 'total': {'confirm': 270,\n",
       "  'suspect': 0,\n",
       "  'heal': 25,\n",
       "  'dead': 6,\n",
       "  'severe': None,\n",
       "  'input': 0,\n",
       "  'storeConfirm': 239},\n",
       " 'extData': None,\n",
       " 'lastUpdateTime': None}"
      ]
     },
     "execution_count": 34,
     "metadata": {},
     "output_type": "execute_result"
    }
   ],
   "source": [
    "data_json['data']['list'][0]"
   ]
  },
  {
   "cell_type": "code",
   "execution_count": 35,
   "metadata": {
    "pycharm": {
     "is_executing": true
    }
   },
   "outputs": [
    {
     "data": {
      "text/html": [
       "<div>\n",
       "<style scoped>\n",
       "    .dataframe tbody tr th:only-of-type {\n",
       "        vertical-align: middle;\n",
       "    }\n",
       "\n",
       "    .dataframe tbody tr th {\n",
       "        vertical-align: top;\n",
       "    }\n",
       "\n",
       "    .dataframe thead th {\n",
       "        text-align: right;\n",
       "    }\n",
       "</style>\n",
       "<table border=\"1\" class=\"dataframe\">\n",
       "  <thead>\n",
       "    <tr style=\"text-align: right;\">\n",
       "      <th></th>\n",
       "      <th>date</th>\n",
       "      <th>total_confirm</th>\n",
       "      <th>total_suspect</th>\n",
       "      <th>total_heal</th>\n",
       "      <th>total_dead</th>\n",
       "      <th>total_severe</th>\n",
       "      <th>total_input</th>\n",
       "      <th>total_storeConfirm</th>\n",
       "      <th>today_confirm</th>\n",
       "      <th>today_suspect</th>\n",
       "      <th>today_heal</th>\n",
       "      <th>today_dead</th>\n",
       "      <th>today_severe</th>\n",
       "      <th>today_storeConfirm</th>\n",
       "      <th>today_input</th>\n",
       "      <th>name</th>\n",
       "    </tr>\n",
       "  </thead>\n",
       "  <tbody>\n",
       "    <tr>\n",
       "      <th>0</th>\n",
       "      <td>2020-01-20</td>\n",
       "      <td>270</td>\n",
       "      <td>0</td>\n",
       "      <td>25</td>\n",
       "      <td>6</td>\n",
       "      <td>None</td>\n",
       "      <td>0</td>\n",
       "      <td>239</td>\n",
       "      <td>0</td>\n",
       "      <td>0</td>\n",
       "      <td>0</td>\n",
       "      <td>0</td>\n",
       "      <td>None</td>\n",
       "      <td>0</td>\n",
       "      <td>0</td>\n",
       "      <td>湖北省</td>\n",
       "    </tr>\n",
       "    <tr>\n",
       "      <th>1</th>\n",
       "      <td>2020-01-21</td>\n",
       "      <td>375</td>\n",
       "      <td>0</td>\n",
       "      <td>28</td>\n",
       "      <td>9</td>\n",
       "      <td>None</td>\n",
       "      <td>0</td>\n",
       "      <td>338</td>\n",
       "      <td>105</td>\n",
       "      <td>0</td>\n",
       "      <td>3</td>\n",
       "      <td>3</td>\n",
       "      <td>None</td>\n",
       "      <td>0</td>\n",
       "      <td>0</td>\n",
       "      <td>湖北省</td>\n",
       "    </tr>\n",
       "    <tr>\n",
       "      <th>2</th>\n",
       "      <td>2020-01-22</td>\n",
       "      <td>444</td>\n",
       "      <td>0</td>\n",
       "      <td>28</td>\n",
       "      <td>17</td>\n",
       "      <td>None</td>\n",
       "      <td>0</td>\n",
       "      <td>399</td>\n",
       "      <td>69</td>\n",
       "      <td>0</td>\n",
       "      <td>0</td>\n",
       "      <td>8</td>\n",
       "      <td>None</td>\n",
       "      <td>0</td>\n",
       "      <td>0</td>\n",
       "      <td>湖北省</td>\n",
       "    </tr>\n",
       "    <tr>\n",
       "      <th>3</th>\n",
       "      <td>2020-01-23</td>\n",
       "      <td>549</td>\n",
       "      <td>0</td>\n",
       "      <td>31</td>\n",
       "      <td>24</td>\n",
       "      <td>None</td>\n",
       "      <td>0</td>\n",
       "      <td>494</td>\n",
       "      <td>105</td>\n",
       "      <td>0</td>\n",
       "      <td>3</td>\n",
       "      <td>7</td>\n",
       "      <td>None</td>\n",
       "      <td>0</td>\n",
       "      <td>0</td>\n",
       "      <td>湖北省</td>\n",
       "    </tr>\n",
       "    <tr>\n",
       "      <th>4</th>\n",
       "      <td>2020-01-24</td>\n",
       "      <td>729</td>\n",
       "      <td>0</td>\n",
       "      <td>32</td>\n",
       "      <td>39</td>\n",
       "      <td>None</td>\n",
       "      <td>0</td>\n",
       "      <td>658</td>\n",
       "      <td>180</td>\n",
       "      <td>0</td>\n",
       "      <td>1</td>\n",
       "      <td>15</td>\n",
       "      <td>None</td>\n",
       "      <td>0</td>\n",
       "      <td>0</td>\n",
       "      <td>湖北省</td>\n",
       "    </tr>\n",
       "  </tbody>\n",
       "</table>\n",
       "</div>"
      ],
      "text/plain": [
       "         date  total_confirm  total_suspect  total_heal  total_dead  \\\n",
       "0  2020-01-20            270              0          25           6   \n",
       "1  2020-01-21            375              0          28           9   \n",
       "2  2020-01-22            444              0          28          17   \n",
       "3  2020-01-23            549              0          31          24   \n",
       "4  2020-01-24            729              0          32          39   \n",
       "\n",
       "  total_severe  total_input  total_storeConfirm  today_confirm  today_suspect  \\\n",
       "0         None            0                 239              0              0   \n",
       "1         None            0                 338            105              0   \n",
       "2         None            0                 399             69              0   \n",
       "3         None            0                 494            105              0   \n",
       "4         None            0                 658            180              0   \n",
       "\n",
       "   today_heal  today_dead today_severe  today_storeConfirm  today_input name  \n",
       "0           0           0         None                   0            0  湖北省  \n",
       "1           3           3         None                   0            0  湖北省  \n",
       "2           0           8         None                   0            0  湖北省  \n",
       "3           3           7         None                   0            0  湖北省  \n",
       "4           1          15         None                   0            0  湖北省  "
      ]
     },
     "execution_count": 35,
     "metadata": {},
     "output_type": "execute_result"
    }
   ],
   "source": [
    "data_test = get_data(data_json['data']['list'],['date'])\n",
    "data_test['name'] = '湖北省'\n",
    "data_test.head()"
   ]
  },
  {
   "cell_type": "code",
   "execution_count": 36,
   "metadata": {
    "pycharm": {
     "is_executing": true
    }
   },
   "outputs": [
    {
     "data": {
      "text/html": [
       "<div>\n",
       "<style scoped>\n",
       "    .dataframe tbody tr th:only-of-type {\n",
       "        vertical-align: middle;\n",
       "    }\n",
       "\n",
       "    .dataframe tbody tr th {\n",
       "        vertical-align: top;\n",
       "    }\n",
       "\n",
       "    .dataframe thead th {\n",
       "        text-align: right;\n",
       "    }\n",
       "</style>\n",
       "<table border=\"1\" class=\"dataframe\">\n",
       "  <thead>\n",
       "    <tr style=\"text-align: right;\">\n",
       "      <th></th>\n",
       "      <th>id</th>\n",
       "      <th>name</th>\n",
       "    </tr>\n",
       "  </thead>\n",
       "  <tbody>\n",
       "    <tr>\n",
       "      <th>0</th>\n",
       "      <td>420000</td>\n",
       "      <td>湖北</td>\n",
       "    </tr>\n",
       "    <tr>\n",
       "      <th>1</th>\n",
       "      <td>810000</td>\n",
       "      <td>香港</td>\n",
       "    </tr>\n",
       "    <tr>\n",
       "      <th>2</th>\n",
       "      <td>440000</td>\n",
       "      <td>广东</td>\n",
       "    </tr>\n",
       "    <tr>\n",
       "      <th>3</th>\n",
       "      <td>310000</td>\n",
       "      <td>上海</td>\n",
       "    </tr>\n",
       "    <tr>\n",
       "      <th>4</th>\n",
       "      <td>330000</td>\n",
       "      <td>浙江</td>\n",
       "    </tr>\n",
       "  </tbody>\n",
       "</table>\n",
       "</div>"
      ],
      "text/plain": [
       "       id name\n",
       "0  420000   湖北\n",
       "1  810000   香港\n",
       "2  440000   广东\n",
       "3  310000   上海\n",
       "4  330000   浙江"
      ]
     },
     "execution_count": 36,
     "metadata": {},
     "output_type": "execute_result"
    }
   ],
   "source": [
    "today_province[['id','name']].head()"
   ]
  },
  {
   "cell_type": "markdown",
   "metadata": {},
   "source": [
    "在百度上查找全国各省的行政代码，结果发现和数据today_province中的id这一列一致，因此id这一列就是各省的行政代码。\n",
    "\n",
    "因此为了得到每个省的历史数据，我们只需要将各省的行政代码作为参数传入这个地址即可，如下所示：\n",
    "https://c.m.163.com/ug/api/wuhan/app/data/list-by-area-code?areaCode=各省行政代码\n",
    "例如广东省历史数据的地址为：https://c.m.163.com/ug/api/wuhan/app/data/list-by-area-code?areaCode=440000\n",
    "湖南省历史数据的地址为：https://c.m.163.com/ug/api/wuhan/app/data/list-by-area-code?areaCode=430000\n",
    "\n",
    "但是数据中并没有显示省的名称，因此需要写入每个省的名称。\n",
    "\n",
    "为了便于写入各省的名称，需要生成一个各省行政代码和省名称对应的字典。\n"
   ]
  },
  {
   "cell_type": "code",
   "execution_count": 37,
   "metadata": {
    "pycharm": {
     "is_executing": true
    }
   },
   "outputs": [],
   "source": [
    "province_dict = {num:name for num,name in zip(today_province['id'],today_province['name'])}"
   ]
  },
  {
   "cell_type": "code",
   "execution_count": 38,
   "metadata": {
    "pycharm": {
     "is_executing": true
    }
   },
   "outputs": [
    {
     "name": "stdout",
     "output_type": "stream",
     "text": [
      "420000 湖北\n",
      "810000 香港\n",
      "440000 广东\n",
      "310000 上海\n",
      "330000 浙江\n"
     ]
    }
   ],
   "source": [
    "# 查看前五个内容\n",
    "count = 0\n",
    "for i in province_dict:\n",
    "    print(i,province_dict[i])\n",
    "    count += 1\n",
    "    if count == 5:\n",
    "        break"
   ]
  },
  {
   "cell_type": "markdown",
   "metadata": {},
   "source": [
    "每一个省的列名是相同的，因此多个省的数据合并起来就可以存入一个数据中"
   ]
  },
  {
   "cell_type": "code",
   "execution_count": 39,
   "metadata": {
    "pycharm": {
     "is_executing": true
    }
   },
   "outputs": [
    {
     "name": "stdout",
     "output_type": "stream",
     "text": [
      "-------------------- 湖北 成功 (320, 16) (320, 16) ,累计耗时: 0 --------------------\n",
      "-------------------- 香港 成功 (321, 16) (641, 16) ,累计耗时: 20 --------------------\n",
      "-------------------- 广东 成功 (319, 16) (960, 16) ,累计耗时: 41 --------------------\n",
      "-------------------- 上海 成功 (305, 16) (1265, 16) ,累计耗时: 61 --------------------\n",
      "-------------------- 浙江 成功 (316, 16) (1581, 16) ,累计耗时: 81 --------------------\n",
      "-------------------- 河南 成功 (318, 16) (1899, 16) ,累计耗时: 102 --------------------\n",
      "-------------------- 湖南 成功 (316, 16) (2215, 16) ,累计耗时: 122 --------------------\n",
      "-------------------- 安徽 成功 (317, 16) (2532, 16) ,累计耗时: 142 --------------------\n",
      "-------------------- 新疆 成功 (320, 16) (2852, 16) ,累计耗时: 163 --------------------\n",
      "-------------------- 北京 成功 (313, 16) (3165, 16) ,累计耗时: 183 --------------------\n",
      "-------------------- 黑龙江 成功 (309, 16) (3474, 16) ,累计耗时: 203 --------------------\n",
      "-------------------- 江西 成功 (318, 16) (3792, 16) ,累计耗时: 224 --------------------\n",
      "-------------------- 山东 成功 (312, 16) (4104, 16) ,累计耗时: 244 --------------------\n",
      "-------------------- 四川 成功 (313, 16) (4417, 16) ,累计耗时: 264 --------------------\n",
      "-------------------- 台湾 成功 (319, 16) (4736, 16) ,累计耗时: 285 --------------------\n",
      "-------------------- 江苏 成功 (318, 16) (5054, 16) ,累计耗时: 305 --------------------\n",
      "-------------------- 重庆 成功 (320, 16) (5374, 16) ,累计耗时: 325 --------------------\n",
      "-------------------- 陕西 成功 (311, 16) (5685, 16) ,累计耗时: 345 --------------------\n",
      "-------------------- 福建 成功 (311, 16) (5996, 16) ,累计耗时: 366 --------------------\n",
      "-------------------- 河北 成功 (311, 16) (6307, 16) ,累计耗时: 386 --------------------\n",
      "-------------------- 内蒙古 成功 (315, 16) (6622, 16) ,累计耗时: 406 --------------------\n",
      "-------------------- 天津 成功 (313, 16) (6935, 16) ,累计耗时: 427 --------------------\n",
      "-------------------- 辽宁 成功 (307, 16) (7242, 16) ,累计耗时: 447 --------------------\n",
      "-------------------- 广西 成功 (318, 16) (7560, 16) ,累计耗时: 467 --------------------\n",
      "-------------------- 山西 成功 (316, 16) (7876, 16) ,累计耗时: 488 --------------------\n",
      "-------------------- 云南 成功 (312, 16) (8188, 16) ,累计耗时: 508 --------------------\n",
      "-------------------- 甘肃 成功 (308, 16) (8496, 16) ,累计耗时: 528 --------------------\n",
      "-------------------- 海南 成功 (316, 16) (8812, 16) ,累计耗时: 548 --------------------\n",
      "-------------------- 吉林 成功 (314, 16) (9126, 16) ,累计耗时: 569 --------------------\n",
      "-------------------- 贵州 成功 (316, 16) (9442, 16) ,累计耗时: 589 --------------------\n",
      "-------------------- 宁夏 成功 (316, 16) (9758, 16) ,累计耗时: 609 --------------------\n",
      "-------------------- 澳门 成功 (314, 16) (10072, 16) ,累计耗时: 630 --------------------\n",
      "-------------------- 青海 成功 (320, 16) (10392, 16) ,累计耗时: 650 --------------------\n",
      "-------------------- 西藏 成功 (320, 16) (10712, 16) ,累计耗时: 670 --------------------\n"
     ]
    }
   ],
   "source": [
    "start = time.time()\n",
    "for province_id in province_dict: # 遍历各省编号\n",
    "    \n",
    "    try:\n",
    "        # 按照省编号访问每个省的数据地址，并获取json数据\n",
    "        url = 'https://c.m.163.com/ug/api/wuhan/app/data/list-by-area-code?areaCode='+province_id\n",
    "        r = requests.get(url, headers=headers)\n",
    "        data_json = json.loads(r.text)\n",
    "        \n",
    "        # 提取各省数据，然后写入各省名称\n",
    "        province_data = get_data(data_json['data']['list'],['date'])\n",
    "        province_data['name'] = province_dict[province_id]\n",
    "        \n",
    "        # 合并数据\n",
    "        if province_id == '420000':\n",
    "            alltime_province = province_data\n",
    "        else:\n",
    "            alltime_province = pd.concat([alltime_province,province_data])\n",
    "            \n",
    "        print('-'*20,province_dict[province_id],'成功',\n",
    "              province_data.shape,alltime_province.shape,\n",
    "              ',累计耗时:',round(time.time()-start),'-'*20)\n",
    "        \n",
    "        # 设置延迟等待\n",
    "        time.sleep(20)\n",
    "        \n",
    "    except:\n",
    "        print('-'*20,province_dict[province_id],'wrong','-'*20)"
   ]
  },
  {
   "cell_type": "code",
   "execution_count": 40,
   "metadata": {
    "pycharm": {
     "is_executing": true
    }
   },
   "outputs": [
    {
     "name": "stdout",
     "output_type": "stream",
     "text": [
      "<class 'pandas.core.frame.DataFrame'>\n",
      "Int64Index: 10712 entries, 0 to 319\n",
      "Data columns (total 16 columns):\n",
      " #   Column              Non-Null Count  Dtype \n",
      "---  ------              --------------  ----- \n",
      " 0   date                10712 non-null  object\n",
      " 1   total_confirm       10712 non-null  int64 \n",
      " 2   total_suspect       10712 non-null  int64 \n",
      " 3   total_heal          10712 non-null  int64 \n",
      " 4   total_dead          10712 non-null  int64 \n",
      " 5   total_severe        0 non-null      object\n",
      " 6   total_input         10712 non-null  int64 \n",
      " 7   total_storeConfirm  10712 non-null  int64 \n",
      " 8   today_confirm       10712 non-null  int64 \n",
      " 9   today_suspect       10712 non-null  int64 \n",
      " 10  today_heal          10712 non-null  int64 \n",
      " 11  today_dead          10712 non-null  int64 \n",
      " 12  today_severe        0 non-null      object\n",
      " 13  today_storeConfirm  10712 non-null  int64 \n",
      " 14  today_input         10712 non-null  int64 \n",
      " 15  name                10712 non-null  object\n",
      "dtypes: int64(12), object(4)\n",
      "memory usage: 1.4+ MB\n"
     ]
    }
   ],
   "source": [
    "alltime_province.info()"
   ]
  },
  {
   "cell_type": "code",
   "execution_count": 41,
   "metadata": {
    "pycharm": {
     "is_executing": true
    }
   },
   "outputs": [
    {
     "name": "stdout",
     "output_type": "stream",
     "text": [
      "alltime_province_2020_12_05.csv 保存成功！\n"
     ]
    }
   ],
   "source": [
    "save_data(alltime_province,'alltime_province')"
   ]
  },
  {
   "cell_type": "code",
   "execution_count": null,
   "metadata": {},
   "outputs": [],
   "source": []
  },
  {
   "cell_type": "markdown",
   "metadata": {},
   "source": [
    "### 3.3 世界各国历史数据爬取\n",
    "#### 接着找到下一个数据地址，对比后发现是意大利数据，首先尝试爬取意大利的历史数据，其他国家的数据可以用同样的方法爬取。"
   ]
  },
  {
   "cell_type": "code",
   "execution_count": 42,
   "metadata": {
    "pycharm": {
     "is_executing": true
    }
   },
   "outputs": [],
   "source": [
    "import json"
   ]
  },
  {
   "cell_type": "code",
   "execution_count": 43,
   "metadata": {
    "pycharm": {
     "is_executing": true
    }
   },
   "outputs": [],
   "source": [
    "url_italy = 'https://c.m.163.com/ug/api/wuhan/app/data/list-by-area-code?areaCode=15'  # 意大利的数据地址\n",
    "r = requests.get(url_italy, headers=headers) # 进行访问\n",
    "italy_json = json.loads(r.text) # 导出json数据"
   ]
  },
  {
   "cell_type": "code",
   "execution_count": 44,
   "metadata": {
    "pycharm": {
     "is_executing": true
    }
   },
   "outputs": [
    {
     "data": {
      "text/plain": [
       "dict_keys(['reqId', 'code', 'msg', 'data', 'timestamp'])"
      ]
     },
     "execution_count": 44,
     "metadata": {},
     "output_type": "execute_result"
    }
   ],
   "source": [
    "italy_json.keys()"
   ]
  },
  {
   "cell_type": "code",
   "execution_count": 45,
   "metadata": {
    "pycharm": {
     "is_executing": true
    }
   },
   "outputs": [
    {
     "data": {
      "text/plain": [
       "dict_keys(['list'])"
      ]
     },
     "execution_count": 45,
     "metadata": {},
     "output_type": "execute_result"
    }
   ],
   "source": [
    "italy_json['data'].keys()"
   ]
  },
  {
   "cell_type": "code",
   "execution_count": 46,
   "metadata": {
    "pycharm": {
     "is_executing": true
    }
   },
   "outputs": [
    {
     "data": {
      "text/plain": [
       "{'date': '2020-01-31',\n",
       " 'today': {'confirm': 2,\n",
       "  'suspect': 0,\n",
       "  'heal': 0,\n",
       "  'dead': 0,\n",
       "  'severe': None,\n",
       "  'storeConfirm': None},\n",
       " 'total': {'confirm': 2,\n",
       "  'suspect': 0,\n",
       "  'heal': 0,\n",
       "  'dead': 0,\n",
       "  'severe': 0,\n",
       "  'input': 0},\n",
       " 'extData': None,\n",
       " 'lastUpdateTime': None}"
      ]
     },
     "execution_count": 46,
     "metadata": {},
     "output_type": "execute_result"
    }
   ],
   "source": [
    "italy_json['data']['list'][0] # 查看数据内容"
   ]
  },
  {
   "cell_type": "code",
   "execution_count": 47,
   "metadata": {
    "pycharm": {
     "is_executing": true
    }
   },
   "outputs": [
    {
     "data": {
      "text/html": [
       "<div>\n",
       "<style scoped>\n",
       "    .dataframe tbody tr th:only-of-type {\n",
       "        vertical-align: middle;\n",
       "    }\n",
       "\n",
       "    .dataframe tbody tr th {\n",
       "        vertical-align: top;\n",
       "    }\n",
       "\n",
       "    .dataframe thead th {\n",
       "        text-align: right;\n",
       "    }\n",
       "</style>\n",
       "<table border=\"1\" class=\"dataframe\">\n",
       "  <thead>\n",
       "    <tr style=\"text-align: right;\">\n",
       "      <th></th>\n",
       "      <th>date</th>\n",
       "      <th>total_confirm</th>\n",
       "      <th>total_suspect</th>\n",
       "      <th>total_heal</th>\n",
       "      <th>total_dead</th>\n",
       "      <th>total_severe</th>\n",
       "      <th>total_input</th>\n",
       "      <th>today_confirm</th>\n",
       "      <th>today_suspect</th>\n",
       "      <th>today_heal</th>\n",
       "      <th>today_dead</th>\n",
       "      <th>today_severe</th>\n",
       "      <th>today_storeConfirm</th>\n",
       "      <th>today_input</th>\n",
       "      <th>name</th>\n",
       "    </tr>\n",
       "  </thead>\n",
       "  <tbody>\n",
       "    <tr>\n",
       "      <th>0</th>\n",
       "      <td>2020-01-31</td>\n",
       "      <td>2</td>\n",
       "      <td>0</td>\n",
       "      <td>0</td>\n",
       "      <td>0</td>\n",
       "      <td>0</td>\n",
       "      <td>0</td>\n",
       "      <td>2</td>\n",
       "      <td>0.0</td>\n",
       "      <td>0</td>\n",
       "      <td>0</td>\n",
       "      <td>NaN</td>\n",
       "      <td>None</td>\n",
       "      <td>NaN</td>\n",
       "      <td>意大利</td>\n",
       "    </tr>\n",
       "    <tr>\n",
       "      <th>1</th>\n",
       "      <td>2020-02-01</td>\n",
       "      <td>2</td>\n",
       "      <td>0</td>\n",
       "      <td>0</td>\n",
       "      <td>0</td>\n",
       "      <td>0</td>\n",
       "      <td>0</td>\n",
       "      <td>0</td>\n",
       "      <td>0.0</td>\n",
       "      <td>0</td>\n",
       "      <td>0</td>\n",
       "      <td>NaN</td>\n",
       "      <td>None</td>\n",
       "      <td>0.0</td>\n",
       "      <td>意大利</td>\n",
       "    </tr>\n",
       "    <tr>\n",
       "      <th>2</th>\n",
       "      <td>2020-02-02</td>\n",
       "      <td>2</td>\n",
       "      <td>0</td>\n",
       "      <td>0</td>\n",
       "      <td>0</td>\n",
       "      <td>0</td>\n",
       "      <td>0</td>\n",
       "      <td>0</td>\n",
       "      <td>0.0</td>\n",
       "      <td>0</td>\n",
       "      <td>0</td>\n",
       "      <td>NaN</td>\n",
       "      <td>None</td>\n",
       "      <td>0.0</td>\n",
       "      <td>意大利</td>\n",
       "    </tr>\n",
       "    <tr>\n",
       "      <th>3</th>\n",
       "      <td>2020-02-03</td>\n",
       "      <td>2</td>\n",
       "      <td>0</td>\n",
       "      <td>0</td>\n",
       "      <td>0</td>\n",
       "      <td>0</td>\n",
       "      <td>0</td>\n",
       "      <td>0</td>\n",
       "      <td>0.0</td>\n",
       "      <td>0</td>\n",
       "      <td>0</td>\n",
       "      <td>NaN</td>\n",
       "      <td>None</td>\n",
       "      <td>0.0</td>\n",
       "      <td>意大利</td>\n",
       "    </tr>\n",
       "    <tr>\n",
       "      <th>4</th>\n",
       "      <td>2020-02-04</td>\n",
       "      <td>2</td>\n",
       "      <td>0</td>\n",
       "      <td>0</td>\n",
       "      <td>0</td>\n",
       "      <td>0</td>\n",
       "      <td>0</td>\n",
       "      <td>0</td>\n",
       "      <td>0.0</td>\n",
       "      <td>0</td>\n",
       "      <td>0</td>\n",
       "      <td>NaN</td>\n",
       "      <td>None</td>\n",
       "      <td>0.0</td>\n",
       "      <td>意大利</td>\n",
       "    </tr>\n",
       "  </tbody>\n",
       "</table>\n",
       "</div>"
      ],
      "text/plain": [
       "         date  total_confirm  total_suspect  total_heal  total_dead  \\\n",
       "0  2020-01-31              2              0           0           0   \n",
       "1  2020-02-01              2              0           0           0   \n",
       "2  2020-02-02              2              0           0           0   \n",
       "3  2020-02-03              2              0           0           0   \n",
       "4  2020-02-04              2              0           0           0   \n",
       "\n",
       "   total_severe  total_input  today_confirm  today_suspect  today_heal  \\\n",
       "0             0            0              2            0.0           0   \n",
       "1             0            0              0            0.0           0   \n",
       "2             0            0              0            0.0           0   \n",
       "3             0            0              0            0.0           0   \n",
       "4             0            0              0            0.0           0   \n",
       "\n",
       "   today_dead  today_severe today_storeConfirm  today_input name  \n",
       "0           0           NaN               None          NaN  意大利  \n",
       "1           0           NaN               None          0.0  意大利  \n",
       "2           0           NaN               None          0.0  意大利  \n",
       "3           0           NaN               None          0.0  意大利  \n",
       "4           0           NaN               None          0.0  意大利  "
      ]
     },
     "execution_count": 47,
     "metadata": {},
     "output_type": "execute_result"
    }
   ],
   "source": [
    "data_italy = get_data(italy_json['data']['list'],['date']) # 生成数据\n",
    "data_italy['name'] = '意大利' # 写入国家名称\n",
    "data_italy.head()"
   ]
  },
  {
   "cell_type": "code",
   "execution_count": 48,
   "metadata": {
    "pycharm": {
     "is_executing": true
    }
   },
   "outputs": [
    {
     "data": {
      "text/html": [
       "<div>\n",
       "<style scoped>\n",
       "    .dataframe tbody tr th:only-of-type {\n",
       "        vertical-align: middle;\n",
       "    }\n",
       "\n",
       "    .dataframe tbody tr th {\n",
       "        vertical-align: top;\n",
       "    }\n",
       "\n",
       "    .dataframe thead th {\n",
       "        text-align: right;\n",
       "    }\n",
       "</style>\n",
       "<table border=\"1\" class=\"dataframe\">\n",
       "  <thead>\n",
       "    <tr style=\"text-align: right;\">\n",
       "      <th></th>\n",
       "      <th>id</th>\n",
       "      <th>name</th>\n",
       "    </tr>\n",
       "  </thead>\n",
       "  <tbody>\n",
       "    <tr>\n",
       "      <th>0</th>\n",
       "      <td>9577772</td>\n",
       "      <td>突尼斯</td>\n",
       "    </tr>\n",
       "    <tr>\n",
       "      <th>1</th>\n",
       "      <td>9507896</td>\n",
       "      <td>塞尔维亚</td>\n",
       "    </tr>\n",
       "    <tr>\n",
       "      <th>2</th>\n",
       "      <td>0</td>\n",
       "      <td>中国</td>\n",
       "    </tr>\n",
       "    <tr>\n",
       "      <th>3</th>\n",
       "      <td>1</td>\n",
       "      <td>日本本土</td>\n",
       "    </tr>\n",
       "    <tr>\n",
       "      <th>4</th>\n",
       "      <td>2</td>\n",
       "      <td>泰国</td>\n",
       "    </tr>\n",
       "  </tbody>\n",
       "</table>\n",
       "</div>"
      ],
      "text/plain": [
       "        id  name\n",
       "0  9577772   突尼斯\n",
       "1  9507896  塞尔维亚\n",
       "2        0    中国\n",
       "3        1  日本本土\n",
       "4        2    泰国"
      ]
     },
     "execution_count": 48,
     "metadata": {},
     "output_type": "execute_result"
    }
   ],
   "source": [
    "today_world[['id','name']].head()"
   ]
  },
  {
   "cell_type": "code",
   "execution_count": 49,
   "metadata": {
    "pycharm": {
     "is_executing": true
    }
   },
   "outputs": [],
   "source": [
    "country_dict = {key:value for key,value in zip(today_world['id'], today_world['name'])}"
   ]
  },
  {
   "cell_type": "code",
   "execution_count": 50,
   "metadata": {
    "pycharm": {
     "is_executing": true
    }
   },
   "outputs": [
    {
     "name": "stdout",
     "output_type": "stream",
     "text": [
      "9577772 突尼斯\n",
      "9507896 塞尔维亚\n",
      "0 中国\n",
      "1 日本本土\n",
      "2 泰国\n"
     ]
    }
   ],
   "source": [
    "# 查看前五个内容\n",
    "count = 0\n",
    "for i in country_dict:\n",
    "    print(i,country_dict[i])\n",
    "    count += 1\n",
    "    if count == 5:\n",
    "        break"
   ]
  },
  {
   "cell_type": "markdown",
   "metadata": {},
   "source": [
    "通过每个国家的编号访问每个国家历史数据的地址，然后获取每一个国家的历史数据。"
   ]
  },
  {
   "cell_type": "code",
   "execution_count": 51,
   "metadata": {
    "pycharm": {
     "is_executing": true
    }
   },
   "outputs": [
    {
     "name": "stdout",
     "output_type": "stream",
     "text": [
      "-------------------- 突尼斯 成功 (260, 15) (260, 15) ,累计耗时: 0 --------------------\n",
      "-------------------- 塞尔维亚 成功 (265, 15) (525, 15) ,累计耗时: 26 --------------------\n",
      "-------------------- 中国 成功 (302, 15) (827, 15) ,累计耗时: 51 --------------------\n",
      "-------------------- 日本本土 成功 (279, 15) (1106, 15) ,累计耗时: 76 --------------------\n",
      "-------------------- 泰国 成功 (276, 15) (1382, 15) ,累计耗时: 101 --------------------\n",
      "-------------------- 新加坡 成功 (293, 15) (1675, 15) ,累计耗时: 127 --------------------\n",
      "-------------------- 韩国 成功 (316, 15) (1991, 15) ,累计耗时: 152 --------------------\n",
      "-------------------- 澳大利亚 成功 (275, 15) (2266, 15) ,累计耗时: 178 --------------------\n",
      "-------------------- 德国 成功 (282, 15) (2548, 15) ,累计耗时: 203 --------------------\n",
      "-------------------- 美国 成功 (287, 15) (2835, 15) ,累计耗时: 228 --------------------\n",
      "-------------------- 马来西亚 成功 (279, 15) (3114, 15) ,累计耗时: 253 --------------------\n",
      "-------------------- 越南 成功 (250, 15) (3364, 15) ,累计耗时: 279 --------------------\n",
      "-------------------- 圣巴泰勒米 成功 (30, 15) (3394, 15) ,累计耗时: 304 --------------------\n",
      "-------------------- 肯尼亚 成功 (254, 15) (3648, 15) ,累计耗时: 329 --------------------\n",
      "-------------------- 伊朗 成功 (287, 15) (3935, 15) ,累计耗时: 355 --------------------\n",
      "-------------------- 以色列 成功 (279, 15) (4214, 15) ,累计耗时: 380 --------------------\n",
      "-------------------- 毛利亚尼亚 成功 (12, 15) (4226, 15) ,累计耗时: 405 --------------------\n",
      "-------------------- 黎巴嫩 成功 (262, 15) (4488, 15) ,累计耗时: 431 --------------------\n",
      "-------------------- 克罗地亚 成功 (263, 15) (4751, 15) ,累计耗时: 456 --------------------\n",
      "-------------------- 奥地利 成功 (273, 15) (5024, 15) ,累计耗时: 481 --------------------\n",
      "-------------------- 瑞士 成功 (279, 15) (5303, 15) ,累计耗时: 506 --------------------\n",
      "-------------------- 希腊 成功 (268, 15) (5571, 15) ,累计耗时: 532 --------------------\n",
      "-------------------- 毛里求斯 成功 (240, 15) (5811, 15) ,累计耗时: 557 --------------------\n",
      "-------------------- 爱沙尼亚 成功 (262, 15) (6073, 15) ,累计耗时: 582 --------------------\n",
      "-------------------- 北马其顿 成功 (252, 15) (6325, 15) ,累计耗时: 608 --------------------\n",
      "-------------------- 白俄罗斯 成功 (257, 15) (6582, 15) ,累计耗时: 633 --------------------\n",
      "-------------------- 立陶宛 成功 (259, 15) (6841, 15) ,累计耗时: 658 --------------------\n",
      "-------------------- 阿塞拜疆 成功 (258, 15) (7099, 15) ,累计耗时: 684 --------------------\n",
      "-------------------- 美属维尔京群岛 成功 (30, 15) (7129, 15) ,累计耗时: 709 --------------------\n",
      "-------------------- 蒙古 成功 (61, 15) (7190, 15) ,累计耗时: 734 --------------------\n",
      "-------------------- 乌克兰 成功 (262, 15) (7452, 15) ,累计耗时: 759 --------------------\n",
      "-------------------- 波兰 成功 (267, 15) (7719, 15) ,累计耗时: 785 --------------------\n",
      "-------------------- 波黑 成功 (254, 15) (7973, 15) ,累计耗时: 810 --------------------\n",
      "-------------------- 蒙特塞拉特 成功 (34, 15) (8007, 15) ,累计耗时: 835 --------------------\n",
      "-------------------- 南非 成功 (268, 15) (8275, 15) ,累计耗时: 861 --------------------\n",
      "-------------------- 布隆迪 成功 (40, 15) (8315, 15) ,累计耗时: 886 --------------------\n",
      "-------------------- 南苏丹 成功 (48, 15) (8363, 15) ,累计耗时: 911 --------------------\n",
      "-------------------- 马耳他 成功 (239, 15) (8602, 15) ,累计耗时: 937 --------------------\n",
      "-------------------- 摩尔多瓦 成功 (256, 15) (8858, 15) ,累计耗时: 962 --------------------\n",
      "-------------------- 保加利亚 成功 (260, 15) (9118, 15) ,累计耗时: 987 --------------------\n",
      "-------------------- 孟加拉 成功 (250, 15) (9368, 15) ,累计耗时: 1013 --------------------\n",
      "-------------------- 阿尔巴尼亚 成功 (88, 15) (9456, 15) ,累计耗时: 1038 --------------------\n",
      "-------------------- 巴勒斯坦 成功 (250, 15) (9706, 15) ,累计耗时: 1063 --------------------\n",
      "-------------------- 科摩罗 成功 (34, 15) (9740, 15) ,累计耗时: 1088 --------------------\n",
      "-------------------- 阿富汗 成功 (258, 15) (9998, 15) ,累计耗时: 1114 --------------------\n",
      "-------------------- 沙特阿拉伯 成功 (270, 15) (10268, 15) ,累计耗时: 1139 --------------------\n",
      "-------------------- 新西兰 成功 (263, 15) (10531, 15) ,累计耗时: 1164 --------------------\n",
      "-------------------- 塔吉克斯坦 成功 (208, 15) (10739, 15) ,累计耗时: 1190 --------------------\n",
      "-------------------- 泽西岛 成功 (30, 15) (10769, 15) ,累计耗时: 1215 --------------------\n",
      "-------------------- 叙利亚 成功 (50, 15) (10819, 15) ,累计耗时: 1240 --------------------\n",
      "-------------------- 巴拿马 成功 (253, 15) (11072, 15) ,累计耗时: 1265 --------------------\n",
      "-------------------- 古巴 成功 (241, 15) (11313, 15) ,累计耗时: 1291 --------------------\n",
      "-------------------- 尼日利亚 成功 (260, 15) (11573, 15) ,累计耗时: 1316 --------------------\n",
      "-------------------- 摩洛哥 成功 (267, 15) (11840, 15) ,累计耗时: 1341 --------------------\n",
      "-------------------- 塞内加尔 成功 (263, 15) (12103, 15) ,累计耗时: 1367 --------------------\n",
      "-------------------- 老挝 成功 (44, 15) (12147, 15) ,累计耗时: 1392 --------------------\n",
      "-------------------- 巴哈马 成功 (216, 15) (12363, 15) ,累计耗时: 1417 --------------------\n",
      "-------------------- 马约特岛 成功 (40, 15) (12403, 15) ,累计耗时: 1442 --------------------\n",
      "-------------------- 斯洛文尼亚 成功 (256, 15) (12659, 15) ,累计耗时: 1468 --------------------\n",
      "-------------------- 卢森堡 成功 (261, 15) (12920, 15) ,累计耗时: 1493 --------------------\n",
      "-------------------- 爱尔兰 成功 (270, 15) (13190, 15) ,累计耗时: 1518 --------------------\n",
      "-------------------- 厄瓜多尔 成功 (257, 15) (13447, 15) ,累计耗时: 1544 --------------------\n",
      "-------------------- 捷克 成功 (271, 15) (13718, 15) ,累计耗时: 1569 --------------------\n",
      "-------------------- 匈牙利 成功 (269, 15) (13987, 15) ,累计耗时: 1594 --------------------\n",
      "-------------------- 法属圭亚那 成功 (48, 15) (14035, 15) ,累计耗时: 1620 --------------------\n",
      "-------------------- 多哥共和国 成功 (68, 15) (14103, 15) ,累计耗时: 1645 --------------------\n",
      "-------------------- 哥斯达黎加 成功 (245, 15) (14348, 15) ,累计耗时: 1670 --------------------\n",
      "-------------------- 文莱 成功 (234, 15) (14582, 15) ,累计耗时: 1696 --------------------\n",
      "-------------------- 法罗群岛 成功 (47, 15) (14629, 15) ,累计耗时: 1721 --------------------\n",
      "-------------------- 马提尼克岛 成功 (211, 15) (14840, 15) ,累计耗时: 1746 --------------------\n",
      "-------------------- 荷兰 成功 (280, 15) (15120, 15) ,累计耗时: 1772 --------------------\n",
      "-------------------- 巴西 成功 (273, 15) (15393, 15) ,累计耗时: 1797 --------------------\n",
      "-------------------- 洪都拉斯 成功 (237, 15) (15630, 15) ,累计耗时: 1822 --------------------\n",
      "-------------------- 乌拉圭 成功 (250, 15) (15880, 15) ,累计耗时: 1848 --------------------\n",
      "-------------------- 秘鲁 成功 (265, 15) (16145, 15) ,累计耗时: 1873 --------------------\n",
      "-------------------- 智利 成功 (272, 15) (16417, 15) ,累计耗时: 1898 --------------------\n",
      "-------------------- 格陵兰 成功 (37, 15) (16454, 15) ,累计耗时: 1924 --------------------\n",
      "-------------------- 圣巴托洛谬岛 成功 (30, 15) (16484, 15) ,累计耗时: 1949 --------------------\n",
      "-------------------- 马尔代夫 成功 (237, 15) (16721, 15) ,累计耗时: 1974 --------------------\n",
      "-------------------- 委内瑞拉 成功 (234, 15) (16955, 15) ,累计耗时: 2000 --------------------\n",
      "-------------------- 毛里塔尼亚 成功 (222, 15) (17177, 15) ,累计耗时: 2025 --------------------\n",
      "-------------------- 纳米比亚 成功 (44, 15) (17221, 15) ,累计耗时: 2050 --------------------\n",
      "-------------------- 法属留尼汪岛 成功 (41, 15) (17262, 15) ,累计耗时: 2075 --------------------\n",
      "-------------------- 波多黎各 成功 (47, 15) (17309, 15) ,累计耗时: 2101 --------------------\n",
      "-------------------- 加纳 成功 (242, 15) (17551, 15) ,累计耗时: 2126 --------------------\n",
      "-------------------- 赤道几内亚 成功 (226, 15) (17777, 15) ,累计耗时: 2151 --------------------\n",
      "-------------------- 几内亚 成功 (247, 15) (18024, 15) ,累计耗时: 2177 --------------------\n",
      "-------------------- 卢旺达 成功 (247, 15) (18271, 15) ,累计耗时: 2202 --------------------\n",
      "-------------------- 格林纳达 成功 (39, 15) (18310, 15) ,累计耗时: 2227 --------------------\n",
      "-------------------- 斯威士兰 成功 (227, 15) (18537, 15) ,累计耗时: 2252 --------------------\n",
      "-------------------- 坦桑尼亚 成功 (229, 15) (18766, 15) ,累计耗时: 2279 --------------------\n",
      "-------------------- 贝宁 成功 (223, 15) (18989, 15) ,累计耗时: 2304 --------------------\n",
      "-------------------- 刚果（金） 成功 (253, 15) (19242, 15) ,累计耗时: 2330 --------------------\n",
      "-------------------- 中非共和国 成功 (222, 15) (19464, 15) ,累计耗时: 2355 --------------------\n",
      "-------------------- 利比里亚 成功 (224, 15) (19688, 15) ,累计耗时: 2380 --------------------\n",
      "-------------------- 索马里 成功 (231, 15) (19919, 15) ,累计耗时: 2406 --------------------\n",
      "-------------------- 塞拉利昂 成功 (226, 15) (20145, 15) ,累计耗时: 2431 --------------------\n",
      "-------------------- 乍得 成功 (221, 15) (20366, 15) ,累计耗时: 2456 --------------------\n",
      "-------------------- 赞比亚 成功 (240, 15) (20606, 15) ,累计耗时: 2482 --------------------\n",
      "-------------------- 巴巴多斯 成功 (52, 15) (20658, 15) ,累计耗时: 2507 --------------------\n"
     ]
    },
    {
     "name": "stdout",
     "output_type": "stream",
     "text": [
      "-------------------- 马里 成功 (242, 15) (20900, 15) ,累计耗时: 2532 --------------------\n",
      "-------------------- 阿根廷 成功 (266, 15) (21166, 15) ,累计耗时: 2558 --------------------\n",
      "-------------------- 法属波利尼西亚 成功 (36, 15) (21202, 15) ,累计耗时: 2583 --------------------\n",
      "-------------------- 巴林 成功 (271, 15) (21473, 15) ,累计耗时: 2608 --------------------\n",
      "-------------------- 莫桑比克 成功 (233, 15) (21706, 15) ,累计耗时: 2634 --------------------\n",
      "-------------------- 喀麦隆 成功 (247, 15) (21953, 15) ,累计耗时: 2659 --------------------\n",
      "-------------------- 乌干达 成功 (244, 15) (22197, 15) ,累计耗时: 2684 --------------------\n",
      "-------------------- 厄立特里亚 成功 (50, 15) (22247, 15) ,累计耗时: 2710 --------------------\n",
      "-------------------- 刚果（布） 成功 (228, 15) (22475, 15) ,累计耗时: 2735 --------------------\n",
      "-------------------- 津巴布韦 成功 (232, 15) (22707, 15) ,累计耗时: 2760 --------------------\n",
      "-------------------- 丹麦 成功 (276, 15) (22983, 15) ,累计耗时: 2786 --------------------\n",
      "-------------------- 阿鲁巴 成功 (34, 15) (23017, 15) ,累计耗时: 2811 --------------------\n",
      "-------------------- 斐济 成功 (211, 15) (23228, 15) ,累计耗时: 2836 --------------------\n",
      "-------------------- 伯利兹 成功 (211, 15) (23439, 15) ,累计耗时: 2862 --------------------\n",
      "-------------------- 缅甸 成功 (237, 15) (23676, 15) ,累计耗时: 2887 --------------------\n",
      "-------------------- 塞浦路斯 成功 (257, 15) (23933, 15) ,累计耗时: 2912 --------------------\n",
      "-------------------- 关岛 成功 (33, 15) (23966, 15) ,累计耗时: 2938 --------------------\n",
      "-------------------- 科索沃 成功 (34, 15) (24000, 15) ,累计耗时: 2963 --------------------\n",
      "-------------------- 圣皮埃尔岛和密克隆岛 成功 (21, 15) (24021, 15) ,累计耗时: 2988 --------------------\n",
      "-------------------- 吉尔吉斯斯坦 成功 (243, 15) (24264, 15) ,累计耗时: 3014 --------------------\n",
      "-------------------- 博茨瓦纳 成功 (38, 15) (24302, 15) ,累计耗时: 3039 --------------------\n",
      "-------------------- 尼日尔 成功 (244, 15) (24546, 15) ,累计耗时: 3064 --------------------\n",
      "-------------------- 苏里南 成功 (213, 15) (24759, 15) ,累计耗时: 3090 --------------------\n",
      "-------------------- 佛得角 成功 (225, 15) (24984, 15) ,累计耗时: 3115 --------------------\n",
      "-------------------- 萨尔瓦多 成功 (225, 15) (25209, 15) ,累计耗时: 3140 --------------------\n",
      "-------------------- 圭亚那 成功 (60, 15) (25269, 15) ,累计耗时: 3166 --------------------\n",
      "-------------------- 尼加拉瓜 成功 (215, 15) (25484, 15) ,累计耗时: 3191 --------------------\n",
      "-------------------- 冈比亚 成功 (41, 15) (25525, 15) ,累计耗时: 3216 --------------------\n",
      "-------------------- 东帝汶 成功 (38, 15) (25563, 15) ,累计耗时: 3241 --------------------\n",
      "-------------------- 巴基斯坦 成功 (272, 15) (25835, 15) ,累计耗时: 3267 --------------------\n",
      "-------------------- 埃及 成功 (270, 15) (26105, 15) ,累计耗时: 3292 --------------------\n",
      "-------------------- 科威特 成功 (269, 15) (26374, 15) ,累计耗时: 3317 --------------------\n",
      "-------------------- 斯洛伐克 成功 (256, 15) (26630, 15) ,累计耗时: 3343 --------------------\n",
      "-------------------- 直布罗陀 成功 (39, 15) (26669, 15) ,累计耗时: 3368 --------------------\n",
      "-------------------- 摩纳哥 成功 (69, 15) (26738, 15) ,累计耗时: 3393 --------------------\n",
      "-------------------- 巴拉圭 成功 (240, 15) (26978, 15) ,累计耗时: 3419 --------------------\n",
      "-------------------- 荷属安的列斯 成功 (27, 15) (27005, 15) ,累计耗时: 3444 --------------------\n",
      "-------------------- 多米尼克 成功 (38, 15) (27043, 15) ,累计耗时: 3469 --------------------\n",
      "-------------------- 乌兹别克斯坦 成功 (256, 15) (27299, 15) ,累计耗时: 3495 --------------------\n",
      "-------------------- 黑山 成功 (239, 15) (27538, 15) ,累计耗时: 3520 --------------------\n",
      "-------------------- 危地马拉 成功 (232, 15) (27770, 15) ,累计耗时: 3545 --------------------\n",
      "-------------------- 加蓬 成功 (243, 15) (28013, 15) ,累计耗时: 3571 --------------------\n",
      "-------------------- 苏丹 成功 (238, 15) (28251, 15) ,累计耗时: 3596 --------------------\n",
      "-------------------- 利比亚 成功 (227, 15) (28478, 15) ,累计耗时: 3621 --------------------\n",
      "-------------------- 圣马丁岛 成功 (36, 15) (28514, 15) ,累计耗时: 3647 --------------------\n",
      "-------------------- 土耳其 成功 (267, 15) (28781, 15) ,累计耗时: 3672 --------------------\n",
      "-------------------- 巴布亚新几内亚 成功 (36, 15) (28817, 15) ,累计耗时: 3697 --------------------\n",
      "-------------------- 多米尼加 成功 (243, 15) (29060, 15) ,累计耗时: 3723 --------------------\n",
      "-------------------- 约旦 成功 (255, 15) (29315, 15) ,累计耗时: 3748 --------------------\n",
      "-------------------- 亚美尼亚 成功 (261, 15) (29576, 15) ,累计耗时: 3773 --------------------\n",
      "-------------------- 圣基茨和尼维斯 成功 (39, 15) (29615, 15) ,累计耗时: 3799 --------------------\n",
      "-------------------- 瓜德罗普 成功 (40, 15) (29655, 15) ,累计耗时: 3824 --------------------\n",
      "-------------------- 安提瓜和巴布达 成功 (208, 15) (29863, 15) ,累计耗时: 3849 --------------------\n",
      "-------------------- 玻利维亚 成功 (237, 15) (30100, 15) ,累计耗时: 3875 --------------------\n",
      "-------------------- 哥伦比亚 成功 (260, 15) (30360, 15) ,累计耗时: 3900 --------------------\n",
      "-------------------- 圣文森特和格林纳丁斯 成功 (37, 15) (30397, 15) ,累计耗时: 3925 --------------------\n",
      "-------------------- 圣卢西亚 成功 (37, 15) (30434, 15) ,累计耗时: 3951 --------------------\n",
      "-------------------- 法国 成功 (283, 15) (30717, 15) ,累计耗时: 3976 --------------------\n",
      "-------------------- 阿联酋 成功 (270, 15) (30987, 15) ,累计耗时: 4001 --------------------\n",
      "-------------------- 加拿大 成功 (281, 15) (31268, 15) ,累计耗时: 4026 --------------------\n",
      "-------------------- 印度 成功 (277, 15) (31545, 15) ,累计耗时: 4052 --------------------\n",
      "-------------------- 英国 成功 (283, 15) (31828, 15) ,累计耗时: 4077 --------------------\n",
      "-------------------- 意大利 成功 (305, 15) (32133, 15) ,累计耗时: 4102 --------------------\n",
      "-------------------- 俄罗斯 成功 (275, 15) (32408, 15) ,累计耗时: 4128 --------------------\n",
      "-------------------- 菲律宾 成功 (271, 15) (32679, 15) ,累计耗时: 4153 --------------------\n",
      "-------------------- 芬兰 成功 (275, 15) (32954, 15) ,累计耗时: 4179 --------------------\n",
      "-------------------- 尼泊尔 成功 (227, 15) (33181, 15) ,累计耗时: 4204 --------------------\n",
      "-------------------- 葡萄牙 成功 (266, 15) (33447, 15) ,累计耗时: 4229 --------------------\n",
      "-------------------- 也门 成功 (211, 15) (33658, 15) ,累计耗时: 4255 --------------------\n",
      "-------------------- 塞舌尔 成功 (41, 15) (33699, 15) ,累计耗时: 4280 --------------------\n",
      "-------------------- 西班牙 成功 (284, 15) (33983, 15) ,累计耗时: 4305 --------------------\n",
      "-------------------- 斯里兰卡 成功 (259, 15) (34242, 15) ,累计耗时: 4331 --------------------\n",
      "-------------------- 阿尔及利亚 成功 (263, 15) (34505, 15) ,累计耗时: 4356 --------------------\n",
      "-------------------- 柬埔寨 成功 (227, 15) (34732, 15) ,累计耗时: 4382 --------------------\n",
      "-------------------- 海地 成功 (221, 15) (34953, 15) ,累计耗时: 4407 --------------------\n",
      "-------------------- 瑞典 成功 (276, 15) (35229, 15) ,累计耗时: 4432 --------------------\n",
      "-------------------- 特里尼达和多巴哥 成功 (45, 15) (35274, 15) ,累计耗时: 4458 --------------------\n",
      "-------------------- 吉布提 成功 (238, 15) (35512, 15) ,累计耗时: 4483 --------------------\n",
      "-------------------- 圣多美与普林西比 成功 (36, 15) (35548, 15) ,累计耗时: 4508 --------------------\n",
      "-------------------- 布基纳法索 成功 (254, 15) (35802, 15) ,累计耗时: 4534 --------------------\n",
      "-------------------- 比利时 成功 (277, 15) (36079, 15) ,累计耗时: 4559 --------------------\n",
      "-------------------- 伊拉克 成功 (278, 15) (36357, 15) ,累计耗时: 4584 --------------------\n",
      "-------------------- 马拉维 成功 (219, 15) (36576, 15) ,累计耗时: 4610 --------------------\n",
      "-------------------- 冰岛 成功 (264, 15) (36840, 15) ,累计耗时: 4635 --------------------\n",
      "-------------------- 几内亚比绍 成功 (225, 15) (37065, 15) ,累计耗时: 4660 --------------------\n",
      "-------------------- 拉脱维亚 成功 (262, 15) (37327, 15) ,累计耗时: 4685 --------------------\n",
      "-------------------- 不丹 成功 (43, 15) (37370, 15) ,累计耗时: 4711 --------------------\n",
      "-------------------- 挪威 成功 (277, 15) (37647, 15) ,累计耗时: 4737 --------------------\n",
      "-------------------- 印度尼西亚 成功 (268, 15) (37915, 15) ,累计耗时: 4762 --------------------\n",
      "-------------------- 安哥拉 成功 (223, 15) (38138, 15) ,累计耗时: 4787 --------------------\n",
      "-------------------- 开曼群岛 成功 (37, 15) (38175, 15) ,累计耗时: 4812 --------------------\n",
      "-------------------- 埃塞俄比亚 成功 (242, 15) (38417, 15) ,累计耗时: 4838 --------------------\n",
      "-------------------- 梵蒂冈 成功 (42, 15) (38459, 15) ,累计耗时: 4863 --------------------\n",
      "-------------------- 科特迪瓦 成功 (255, 15) (38714, 15) ,累计耗时: 4888 --------------------\n",
      "-------------------- 卡塔尔 成功 (270, 15) (38984, 15) ,累计耗时: 4913 --------------------\n",
      "-------------------- 莱索托 成功 (26, 15) (39010, 15) ,累计耗时: 4939 --------------------\n",
      "-------------------- 格鲁吉亚 成功 (262, 15) (39272, 15) ,累计耗时: 4964 --------------------\n",
      "-------------------- 墨西哥 成功 (267, 15) (39539, 15) ,累计耗时: 4989 --------------------\n",
      "-------------------- 圣马力诺 成功 (235, 15) (39774, 15) ,累计耗时: 5014 --------------------\n"
     ]
    },
    {
     "name": "stdout",
     "output_type": "stream",
     "text": [
      "-------------------- 哈萨克斯坦 成功 (260, 15) (40034, 15) ,累计耗时: 5040 --------------------\n",
      "-------------------- 安道尔 成功 (245, 15) (40279, 15) ,累计耗时: 5065 --------------------\n",
      "-------------------- 牙买加 成功 (229, 15) (40508, 15) ,累计耗时: 5090 --------------------\n",
      "-------------------- 格恩西岛 成功 (29, 15) (40537, 15) ,累计耗时: 5115 --------------------\n",
      "-------------------- 罗马尼亚 成功 (269, 15) (40806, 15) ,累计耗时: 5140 --------------------\n",
      "-------------------- 阿曼 成功 (270, 15) (41076, 15) ,累计耗时: 5166 --------------------\n",
      "-------------------- 列支敦士登 成功 (48, 15) (41124, 15) ,累计耗时: 5191 --------------------\n",
      "-------------------- 马达加斯加 成功 (233, 15) (41357, 15) ,累计耗时: 5216 --------------------\n"
     ]
    }
   ],
   "source": [
    "start = time.time()\n",
    "for country_id in country_dict: # 遍历每个国家的编号\n",
    "    \n",
    "    try:\n",
    "        # 按照编号访问每个国家的数据地址，并获取json数据\n",
    "        url = 'https://c.m.163.com/ug/api/wuhan/app/data/list-by-area-code?areaCode='+country_id\n",
    "        r = requests.get(url, headers=headers)\n",
    "        json_data = json.loads(r.text)\n",
    "        \n",
    "        # 生成每个国家的数据\n",
    "        country_data = get_data(json_data['data']['list'],['date'])\n",
    "        country_data['name'] = country_dict[country_id]\n",
    "\n",
    "        # 数据叠加\n",
    "        if country_id == '9577772':\n",
    "            alltime_world = country_data\n",
    "        else:\n",
    "            alltime_world = pd.concat([alltime_world,country_data])\n",
    "            \n",
    "        print('-'*20,country_dict[country_id],'成功',country_data.shape,alltime_world.shape,\n",
    "              ',累计耗时:',round(time.time()-start),'-'*20)\n",
    "        \n",
    "        time.sleep(25)\n",
    "\n",
    "    except:\n",
    "        print('-'*20,country_dict[country_id],'wrong','-'*20)"
   ]
  },
  {
   "cell_type": "code",
   "execution_count": 52,
   "metadata": {
    "pycharm": {
     "is_executing": true
    }
   },
   "outputs": [
    {
     "data": {
      "text/plain": [
       "(41357, 15)"
      ]
     },
     "execution_count": 52,
     "metadata": {},
     "output_type": "execute_result"
    }
   ],
   "source": [
    "alltime_world.shape"
   ]
  },
  {
   "cell_type": "code",
   "execution_count": 53,
   "metadata": {
    "pycharm": {
     "is_executing": true
    }
   },
   "outputs": [
    {
     "name": "stdout",
     "output_type": "stream",
     "text": [
      "alltime_world_2020_12_05.csv 保存成功！\n"
     ]
    }
   ],
   "source": [
    "save_data(alltime_world,'alltime_world')"
   ]
  },
  {
   "cell_type": "code",
   "execution_count": 54,
   "metadata": {},
   "outputs": [],
   "source": [
    "# 更多相关学习,可阅读pymongo官网 :https://api.mongodb.com/python/3.4.0/\n",
    "# 其他详细操作,如索引等，可阅读mongo官网: https://docs.mongodb.com/manual/reference/operator/query/\n",
    "# 1.导入pymongo\n",
    "import pymongo"
   ]
  },
  {
   "cell_type": "code",
   "execution_count": 56,
   "metadata": {
    "pycharm": {
     "is_executing": true
    }
   },
   "outputs": [
    {
     "data": {
      "text/plain": [
       "MongoClient(host=['localhost:27017'], document_class=dict, tz_aware=False, connect=True)"
      ]
     },
     "execution_count": 56,
     "metadata": {},
     "output_type": "execute_result"
    }
   ],
   "source": [
    "# 2.测试mongo 连接\n",
    "client=pymongo.MongoClient(host='localhost',port=27017)  #本机上单节点mongo\n",
    "# client=pymongo.MongoClient('mongodb://192.168.28.201:27017')  虚拟机上单节点mongo\n",
    "#client=pymongo.MongoClient('mongodb://192.168.28.201:23000')  # 集群\n",
    "client\n"
   ]
  },
  {
   "cell_type": "code",
   "execution_count": 61,
   "metadata": {},
   "outputs": [
    {
     "data": {
      "text/plain": [
       "Collection(Database(MongoClient(host=['localhost:27017'], document_class=dict, tz_aware=False, connect=True), 'COVID-19'), 'alltime_China_2020_12_05')"
      ]
     },
     "execution_count": 61,
     "metadata": {},
     "output_type": "execute_result"
    }
   ],
   "source": [
    "# 3.指定数据库\n",
    "db=client['COVID-19']# database\n",
    "db\n",
    "# 4.指定集合  \n",
    "collection=db.alltime_China_2020_12_05\n",
    "collection\n"
   ]
  },
  {
   "cell_type": "markdown",
   "metadata": {},
   "source": [
    "### 数据处理"
   ]
  },
  {
   "cell_type": "code",
   "execution_count": 84,
   "metadata": {},
   "outputs": [],
   "source": [
    "import pandas as pd\n",
    "\n",
    "# 读取数据\n",
    "today_world = pd.read_csv(\"today_world_2020_12_05.csv\")"
   ]
  },
  {
   "cell_type": "code",
   "execution_count": 85,
   "metadata": {},
   "outputs": [
    {
     "data": {
      "text/html": [
       "<div>\n",
       "<style scoped>\n",
       "    .dataframe tbody tr th:only-of-type {\n",
       "        vertical-align: middle;\n",
       "    }\n",
       "\n",
       "    .dataframe tbody tr th {\n",
       "        vertical-align: top;\n",
       "    }\n",
       "\n",
       "    .dataframe thead th {\n",
       "        text-align: right;\n",
       "    }\n",
       "</style>\n",
       "<table border=\"1\" class=\"dataframe\">\n",
       "  <thead>\n",
       "    <tr style=\"text-align: right;\">\n",
       "      <th></th>\n",
       "      <th>id</th>\n",
       "      <th>lastUpdateTime</th>\n",
       "      <th>name</th>\n",
       "      <th>total_confirm</th>\n",
       "      <th>total_suspect</th>\n",
       "      <th>total_heal</th>\n",
       "      <th>total_dead</th>\n",
       "      <th>total_severe</th>\n",
       "      <th>total_input</th>\n",
       "      <th>today_confirm</th>\n",
       "      <th>today_suspect</th>\n",
       "      <th>today_heal</th>\n",
       "      <th>today_dead</th>\n",
       "      <th>today_severe</th>\n",
       "      <th>today_storeConfirm</th>\n",
       "      <th>today_input</th>\n",
       "    </tr>\n",
       "  </thead>\n",
       "  <tbody>\n",
       "    <tr>\n",
       "      <th>0</th>\n",
       "      <td>9577772</td>\n",
       "      <td>2020-12-05 08:23:36</td>\n",
       "      <td>突尼斯</td>\n",
       "      <td>101900</td>\n",
       "      <td>0</td>\n",
       "      <td>75464</td>\n",
       "      <td>3481</td>\n",
       "      <td>0</td>\n",
       "      <td>0.0</td>\n",
       "      <td>2620.0</td>\n",
       "      <td>NaN</td>\n",
       "      <td>1857.0</td>\n",
       "      <td>122.0</td>\n",
       "      <td>NaN</td>\n",
       "      <td>NaN</td>\n",
       "      <td>NaN</td>\n",
       "    </tr>\n",
       "    <tr>\n",
       "      <th>1</th>\n",
       "      <td>9507896</td>\n",
       "      <td>2020-12-05 08:23:36</td>\n",
       "      <td>塞尔维亚</td>\n",
       "      <td>206940</td>\n",
       "      <td>0</td>\n",
       "      <td>15913</td>\n",
       "      <td>1834</td>\n",
       "      <td>0</td>\n",
       "      <td>0.0</td>\n",
       "      <td>7782.0</td>\n",
       "      <td>NaN</td>\n",
       "      <td>0.0</td>\n",
       "      <td>0.0</td>\n",
       "      <td>NaN</td>\n",
       "      <td>NaN</td>\n",
       "      <td>NaN</td>\n",
       "    </tr>\n",
       "    <tr>\n",
       "      <th>2</th>\n",
       "      <td>0</td>\n",
       "      <td>2020-12-05 08:23:36</td>\n",
       "      <td>中国</td>\n",
       "      <td>94038</td>\n",
       "      <td>0</td>\n",
       "      <td>87777</td>\n",
       "      <td>4753</td>\n",
       "      <td>0</td>\n",
       "      <td>3919.0</td>\n",
       "      <td>133.0</td>\n",
       "      <td>NaN</td>\n",
       "      <td>57.0</td>\n",
       "      <td>1.0</td>\n",
       "      <td>NaN</td>\n",
       "      <td>75.0</td>\n",
       "      <td>15.0</td>\n",
       "    </tr>\n",
       "    <tr>\n",
       "      <th>3</th>\n",
       "      <td>1</td>\n",
       "      <td>2020-12-05 08:23:35</td>\n",
       "      <td>日本本土</td>\n",
       "      <td>158387</td>\n",
       "      <td>0</td>\n",
       "      <td>131020</td>\n",
       "      <td>2210</td>\n",
       "      <td>0</td>\n",
       "      <td>0.0</td>\n",
       "      <td>2459.0</td>\n",
       "      <td>NaN</td>\n",
       "      <td>0.0</td>\n",
       "      <td>0.0</td>\n",
       "      <td>NaN</td>\n",
       "      <td>NaN</td>\n",
       "      <td>NaN</td>\n",
       "    </tr>\n",
       "    <tr>\n",
       "      <th>4</th>\n",
       "      <td>2</td>\n",
       "      <td>2020-12-05 08:23:35</td>\n",
       "      <td>泰国</td>\n",
       "      <td>4053</td>\n",
       "      <td>0</td>\n",
       "      <td>3839</td>\n",
       "      <td>60</td>\n",
       "      <td>0</td>\n",
       "      <td>0.0</td>\n",
       "      <td>14.0</td>\n",
       "      <td>NaN</td>\n",
       "      <td>0.0</td>\n",
       "      <td>0.0</td>\n",
       "      <td>NaN</td>\n",
       "      <td>NaN</td>\n",
       "      <td>NaN</td>\n",
       "    </tr>\n",
       "  </tbody>\n",
       "</table>\n",
       "</div>"
      ],
      "text/plain": [
       "        id       lastUpdateTime  name  total_confirm  total_suspect  \\\n",
       "0  9577772  2020-12-05 08:23:36   突尼斯         101900              0   \n",
       "1  9507896  2020-12-05 08:23:36  塞尔维亚         206940              0   \n",
       "2        0  2020-12-05 08:23:36    中国          94038              0   \n",
       "3        1  2020-12-05 08:23:35  日本本土         158387              0   \n",
       "4        2  2020-12-05 08:23:35    泰国           4053              0   \n",
       "\n",
       "   total_heal  total_dead  total_severe  total_input  today_confirm  \\\n",
       "0       75464        3481             0          0.0         2620.0   \n",
       "1       15913        1834             0          0.0         7782.0   \n",
       "2       87777        4753             0       3919.0          133.0   \n",
       "3      131020        2210             0          0.0         2459.0   \n",
       "4        3839          60             0          0.0           14.0   \n",
       "\n",
       "   today_suspect  today_heal  today_dead  today_severe  today_storeConfirm  \\\n",
       "0            NaN      1857.0       122.0           NaN                 NaN   \n",
       "1            NaN         0.0         0.0           NaN                 NaN   \n",
       "2            NaN        57.0         1.0           NaN                75.0   \n",
       "3            NaN         0.0         0.0           NaN                 NaN   \n",
       "4            NaN         0.0         0.0           NaN                 NaN   \n",
       "\n",
       "   today_input  \n",
       "0          NaN  \n",
       "1          NaN  \n",
       "2         15.0  \n",
       "3          NaN  \n",
       "4          NaN  "
      ]
     },
     "execution_count": 85,
     "metadata": {},
     "output_type": "execute_result"
    }
   ],
   "source": [
    "# 查看世界各国实时数据 \n",
    "today_world.head()"
   ]
  },
  {
   "cell_type": "code",
   "execution_count": 86,
   "metadata": {},
   "outputs": [
    {
     "data": {
      "text/html": [
       "<div>\n",
       "<style scoped>\n",
       "    .dataframe tbody tr th:only-of-type {\n",
       "        vertical-align: middle;\n",
       "    }\n",
       "\n",
       "    .dataframe tbody tr th {\n",
       "        vertical-align: top;\n",
       "    }\n",
       "\n",
       "    .dataframe thead th {\n",
       "        text-align: right;\n",
       "    }\n",
       "</style>\n",
       "<table border=\"1\" class=\"dataframe\">\n",
       "  <thead>\n",
       "    <tr style=\"text-align: right;\">\n",
       "      <th></th>\n",
       "      <th>编号</th>\n",
       "      <th>更新时间</th>\n",
       "      <th>名称</th>\n",
       "      <th>累计确诊</th>\n",
       "      <th>累计疑似</th>\n",
       "      <th>累计治愈</th>\n",
       "      <th>累计死亡</th>\n",
       "      <th>累计重症</th>\n",
       "      <th>total_input</th>\n",
       "      <th>当日新增确诊</th>\n",
       "      <th>当日新增疑似</th>\n",
       "      <th>当日新增治愈</th>\n",
       "      <th>当日新增死亡</th>\n",
       "      <th>当日新增重症</th>\n",
       "      <th>当日现存确诊</th>\n",
       "      <th>today_input</th>\n",
       "    </tr>\n",
       "  </thead>\n",
       "  <tbody>\n",
       "    <tr>\n",
       "      <th>0</th>\n",
       "      <td>9577772</td>\n",
       "      <td>2020-12-05 08:23:36</td>\n",
       "      <td>突尼斯</td>\n",
       "      <td>101900</td>\n",
       "      <td>0</td>\n",
       "      <td>75464</td>\n",
       "      <td>3481</td>\n",
       "      <td>0</td>\n",
       "      <td>0.0</td>\n",
       "      <td>2620.0</td>\n",
       "      <td>NaN</td>\n",
       "      <td>1857.0</td>\n",
       "      <td>122.0</td>\n",
       "      <td>NaN</td>\n",
       "      <td>NaN</td>\n",
       "      <td>NaN</td>\n",
       "    </tr>\n",
       "    <tr>\n",
       "      <th>1</th>\n",
       "      <td>9507896</td>\n",
       "      <td>2020-12-05 08:23:36</td>\n",
       "      <td>塞尔维亚</td>\n",
       "      <td>206940</td>\n",
       "      <td>0</td>\n",
       "      <td>15913</td>\n",
       "      <td>1834</td>\n",
       "      <td>0</td>\n",
       "      <td>0.0</td>\n",
       "      <td>7782.0</td>\n",
       "      <td>NaN</td>\n",
       "      <td>0.0</td>\n",
       "      <td>0.0</td>\n",
       "      <td>NaN</td>\n",
       "      <td>NaN</td>\n",
       "      <td>NaN</td>\n",
       "    </tr>\n",
       "    <tr>\n",
       "      <th>2</th>\n",
       "      <td>0</td>\n",
       "      <td>2020-12-05 08:23:36</td>\n",
       "      <td>中国</td>\n",
       "      <td>94038</td>\n",
       "      <td>0</td>\n",
       "      <td>87777</td>\n",
       "      <td>4753</td>\n",
       "      <td>0</td>\n",
       "      <td>3919.0</td>\n",
       "      <td>133.0</td>\n",
       "      <td>NaN</td>\n",
       "      <td>57.0</td>\n",
       "      <td>1.0</td>\n",
       "      <td>NaN</td>\n",
       "      <td>75.0</td>\n",
       "      <td>15.0</td>\n",
       "    </tr>\n",
       "    <tr>\n",
       "      <th>3</th>\n",
       "      <td>1</td>\n",
       "      <td>2020-12-05 08:23:35</td>\n",
       "      <td>日本本土</td>\n",
       "      <td>158387</td>\n",
       "      <td>0</td>\n",
       "      <td>131020</td>\n",
       "      <td>2210</td>\n",
       "      <td>0</td>\n",
       "      <td>0.0</td>\n",
       "      <td>2459.0</td>\n",
       "      <td>NaN</td>\n",
       "      <td>0.0</td>\n",
       "      <td>0.0</td>\n",
       "      <td>NaN</td>\n",
       "      <td>NaN</td>\n",
       "      <td>NaN</td>\n",
       "    </tr>\n",
       "    <tr>\n",
       "      <th>4</th>\n",
       "      <td>2</td>\n",
       "      <td>2020-12-05 08:23:35</td>\n",
       "      <td>泰国</td>\n",
       "      <td>4053</td>\n",
       "      <td>0</td>\n",
       "      <td>3839</td>\n",
       "      <td>60</td>\n",
       "      <td>0</td>\n",
       "      <td>0.0</td>\n",
       "      <td>14.0</td>\n",
       "      <td>NaN</td>\n",
       "      <td>0.0</td>\n",
       "      <td>0.0</td>\n",
       "      <td>NaN</td>\n",
       "      <td>NaN</td>\n",
       "      <td>NaN</td>\n",
       "    </tr>\n",
       "  </tbody>\n",
       "</table>\n",
       "</div>"
      ],
      "text/plain": [
       "        编号                 更新时间    名称    累计确诊  累计疑似    累计治愈  累计死亡  累计重症  \\\n",
       "0  9577772  2020-12-05 08:23:36   突尼斯  101900     0   75464  3481     0   \n",
       "1  9507896  2020-12-05 08:23:36  塞尔维亚  206940     0   15913  1834     0   \n",
       "2        0  2020-12-05 08:23:36    中国   94038     0   87777  4753     0   \n",
       "3        1  2020-12-05 08:23:35  日本本土  158387     0  131020  2210     0   \n",
       "4        2  2020-12-05 08:23:35    泰国    4053     0    3839    60     0   \n",
       "\n",
       "   total_input  当日新增确诊  当日新增疑似  当日新增治愈  当日新增死亡  当日新增重症  当日现存确诊  today_input  \n",
       "0          0.0  2620.0     NaN  1857.0   122.0     NaN     NaN          NaN  \n",
       "1          0.0  7782.0     NaN     0.0     0.0     NaN     NaN          NaN  \n",
       "2       3919.0   133.0     NaN    57.0     1.0     NaN    75.0         15.0  \n",
       "3          0.0  2459.0     NaN     0.0     0.0     NaN     NaN          NaN  \n",
       "4          0.0    14.0     NaN     0.0     0.0     NaN     NaN          NaN  "
      ]
     },
     "execution_count": 86,
     "metadata": {},
     "output_type": "execute_result"
    }
   ],
   "source": [
    "name_dict = {'date':'日期','name':'名称','id':'编号','lastUpdateTime':'更新时间',\n",
    "             'today_confirm':'当日新增确诊','today_suspect':'当日新增疑似',\n",
    "             'today_heal':'当日新增治愈','today_dead':'当日新增死亡',\n",
    "             'today_severe':'当日新增重症','today_storeConfirm':'当日现存确诊',\n",
    "             'total_confirm':'累计确诊','total_suspect':'累计疑似',\n",
    "             'total_heal':'累计治愈','total_dead':'累计死亡','total_severe':'累计重症'}\n",
    "\n",
    "# 更改列名\n",
    "today_world.rename(columns=name_dict,inplace=True)    # inplace参数判断是否在原数据上进行修改\n",
    "\n",
    "today_world.head()"
   ]
  },
  {
   "cell_type": "code",
   "execution_count": 87,
   "metadata": {},
   "outputs": [
    {
     "name": "stdout",
     "output_type": "stream",
     "text": [
      "<class 'pandas.core.frame.DataFrame'>\n",
      "RangeIndex: 207 entries, 0 to 206\n",
      "Data columns (total 16 columns):\n",
      " #   Column       Non-Null Count  Dtype  \n",
      "---  ------       --------------  -----  \n",
      " 0   编号           207 non-null    object \n",
      " 1   更新时间         207 non-null    object \n",
      " 2   名称           207 non-null    object \n",
      " 3   累计确诊         207 non-null    int64  \n",
      " 4   累计疑似         207 non-null    int64  \n",
      " 5   累计治愈         207 non-null    int64  \n",
      " 6   累计死亡         207 non-null    int64  \n",
      " 7   累计重症         207 non-null    int64  \n",
      " 8   total_input  170 non-null    float64\n",
      " 9   当日新增确诊       160 non-null    float64\n",
      " 10  当日新增疑似       13 non-null     float64\n",
      " 11  当日新增治愈       160 non-null    float64\n",
      " 12  当日新增死亡       160 non-null    float64\n",
      " 13  当日新增重症       13 non-null     float64\n",
      " 14  当日现存确诊       1 non-null      float64\n",
      " 15  today_input  6 non-null      float64\n",
      "dtypes: float64(8), int64(5), object(3)\n",
      "memory usage: 26.0+ KB\n"
     ]
    }
   ],
   "source": [
    "# 查看数据基本信息\n",
    "today_world.info()"
   ]
  },
  {
   "cell_type": "code",
   "execution_count": 88,
   "metadata": {},
   "outputs": [
    {
     "data": {
      "text/plain": [
       "编号              0.0%\n",
       "更新时间            0.0%\n",
       "名称              0.0%\n",
       "累计确诊            0.0%\n",
       "累计疑似            0.0%\n",
       "累计治愈            0.0%\n",
       "累计死亡            0.0%\n",
       "累计重症            0.0%\n",
       "total_input    17.9%\n",
       "当日新增确诊         22.7%\n",
       "当日新增疑似         93.7%\n",
       "当日新增治愈         22.7%\n",
       "当日新增死亡         22.7%\n",
       "当日新增重症         93.7%\n",
       "当日现存确诊         99.5%\n",
       "today_input    97.1%\n",
       "dtype: object"
      ]
     },
     "execution_count": 88,
     "metadata": {},
     "output_type": "execute_result"
    }
   ],
   "source": [
    "# 计算缺失值比例\n",
    "today_world_nan = today_world.isnull().sum()/len(today_world)\n",
    "\n",
    "# 转变为百分数\n",
    "today_world_nan.apply(lambda x: format(x, '.1%')) "
   ]
  },
  {
   "cell_type": "code",
   "execution_count": 89,
   "metadata": {},
   "outputs": [],
   "source": [
    "# 缺失值处理\n",
    "today_world['当日现存确诊'] = today_world['累计确诊']-today_world['累计治愈']-today_world['累计死亡']"
   ]
  },
  {
   "cell_type": "code",
   "execution_count": 90,
   "metadata": {},
   "outputs": [
    {
     "data": {
      "text/html": [
       "<div>\n",
       "<style scoped>\n",
       "    .dataframe tbody tr th:only-of-type {\n",
       "        vertical-align: middle;\n",
       "    }\n",
       "\n",
       "    .dataframe tbody tr th {\n",
       "        vertical-align: top;\n",
       "    }\n",
       "\n",
       "    .dataframe thead th {\n",
       "        text-align: right;\n",
       "    }\n",
       "</style>\n",
       "<table border=\"1\" class=\"dataframe\">\n",
       "  <thead>\n",
       "    <tr style=\"text-align: right;\">\n",
       "      <th></th>\n",
       "      <th>编号</th>\n",
       "      <th>更新时间</th>\n",
       "      <th>累计确诊</th>\n",
       "      <th>累计疑似</th>\n",
       "      <th>累计治愈</th>\n",
       "      <th>累计死亡</th>\n",
       "      <th>累计重症</th>\n",
       "      <th>total_input</th>\n",
       "      <th>当日新增确诊</th>\n",
       "      <th>当日新增疑似</th>\n",
       "      <th>当日新增治愈</th>\n",
       "      <th>当日新增死亡</th>\n",
       "      <th>当日新增重症</th>\n",
       "      <th>当日现存确诊</th>\n",
       "      <th>today_input</th>\n",
       "    </tr>\n",
       "    <tr>\n",
       "      <th>名称</th>\n",
       "      <th></th>\n",
       "      <th></th>\n",
       "      <th></th>\n",
       "      <th></th>\n",
       "      <th></th>\n",
       "      <th></th>\n",
       "      <th></th>\n",
       "      <th></th>\n",
       "      <th></th>\n",
       "      <th></th>\n",
       "      <th></th>\n",
       "      <th></th>\n",
       "      <th></th>\n",
       "      <th></th>\n",
       "      <th></th>\n",
       "    </tr>\n",
       "  </thead>\n",
       "  <tbody>\n",
       "    <tr>\n",
       "      <th>突尼斯</th>\n",
       "      <td>9577772</td>\n",
       "      <td>2020-12-05 08:23:36</td>\n",
       "      <td>101900</td>\n",
       "      <td>0</td>\n",
       "      <td>75464</td>\n",
       "      <td>3481</td>\n",
       "      <td>0</td>\n",
       "      <td>0.0</td>\n",
       "      <td>2620.0</td>\n",
       "      <td>NaN</td>\n",
       "      <td>1857.0</td>\n",
       "      <td>122.0</td>\n",
       "      <td>NaN</td>\n",
       "      <td>22955</td>\n",
       "      <td>NaN</td>\n",
       "    </tr>\n",
       "    <tr>\n",
       "      <th>塞尔维亚</th>\n",
       "      <td>9507896</td>\n",
       "      <td>2020-12-05 08:23:36</td>\n",
       "      <td>206940</td>\n",
       "      <td>0</td>\n",
       "      <td>15913</td>\n",
       "      <td>1834</td>\n",
       "      <td>0</td>\n",
       "      <td>0.0</td>\n",
       "      <td>7782.0</td>\n",
       "      <td>NaN</td>\n",
       "      <td>0.0</td>\n",
       "      <td>0.0</td>\n",
       "      <td>NaN</td>\n",
       "      <td>189193</td>\n",
       "      <td>NaN</td>\n",
       "    </tr>\n",
       "    <tr>\n",
       "      <th>中国</th>\n",
       "      <td>0</td>\n",
       "      <td>2020-12-05 08:23:36</td>\n",
       "      <td>94038</td>\n",
       "      <td>0</td>\n",
       "      <td>87777</td>\n",
       "      <td>4753</td>\n",
       "      <td>0</td>\n",
       "      <td>3919.0</td>\n",
       "      <td>133.0</td>\n",
       "      <td>NaN</td>\n",
       "      <td>57.0</td>\n",
       "      <td>1.0</td>\n",
       "      <td>NaN</td>\n",
       "      <td>1508</td>\n",
       "      <td>15.0</td>\n",
       "    </tr>\n",
       "  </tbody>\n",
       "</table>\n",
       "</div>"
      ],
      "text/plain": [
       "           编号                 更新时间    累计确诊  累计疑似   累计治愈  累计死亡  累计重症  \\\n",
       "名称                                                                    \n",
       "突尼斯   9577772  2020-12-05 08:23:36  101900     0  75464  3481     0   \n",
       "塞尔维亚  9507896  2020-12-05 08:23:36  206940     0  15913  1834     0   \n",
       "中国          0  2020-12-05 08:23:36   94038     0  87777  4753     0   \n",
       "\n",
       "      total_input  当日新增确诊  当日新增疑似  当日新增治愈  当日新增死亡  当日新增重症  当日现存确诊  today_input  \n",
       "名称                                                                              \n",
       "突尼斯           0.0  2620.0     NaN  1857.0   122.0     NaN   22955          NaN  \n",
       "塞尔维亚          0.0  7782.0     NaN     0.0     0.0     NaN  189193          NaN  \n",
       "中国         3919.0   133.0     NaN    57.0     1.0     NaN    1508         15.0  "
      ]
     },
     "execution_count": 90,
     "metadata": {},
     "output_type": "execute_result"
    }
   ],
   "source": [
    "# 将国家名称设为索引\n",
    "today_world.set_index('名称',inplace=True)\n",
    "\n",
    "today_world.head(3)"
   ]
  },
  {
   "cell_type": "code",
   "execution_count": 91,
   "metadata": {},
   "outputs": [
    {
     "data": {
      "text/plain": [
       "编号                               0\n",
       "更新时间           2020-12-05 08:23:36\n",
       "累计确诊                         94038\n",
       "累计疑似                             0\n",
       "累计治愈                         87777\n",
       "累计死亡                          4753\n",
       "累计重症                             0\n",
       "total_input                   3919\n",
       "当日新增确诊                         133\n",
       "当日新增疑似                         NaN\n",
       "当日新增治愈                          57\n",
       "当日新增死亡                           1\n",
       "当日新增重症                         NaN\n",
       "当日现存确诊                        1508\n",
       "today_input                     15\n",
       "Name: 中国, dtype: object"
      ]
     },
     "execution_count": 91,
     "metadata": {},
     "output_type": "execute_result"
    }
   ],
   "source": [
    "today_world.loc['中国']    #可以通过传入列表获取多个国家的数据"
   ]
  },
  {
   "cell_type": "code",
   "execution_count": 93,
   "metadata": {},
   "outputs": [],
   "source": [
    "# 查看当前累计确诊人数前十国家\n",
    "world_top10 = today_world.sort_values(['累计确诊'],ascending=False)[:10]\n",
    "\n",
    "world_top10 = world_top10[['累计确诊','累计死亡']]"
   ]
  },
  {
   "cell_type": "code",
   "execution_count": 94,
   "metadata": {},
   "outputs": [
    {
     "data": {
      "image/png": "[encoded data removed]",
      "text/plain": [
       "<Figure size 840x480 with 3 Axes>"
      ]
     },
     "metadata": {
      "needs_background": "light"
     },
     "output_type": "display_data"
    }
   ],
   "source": [
    "# 导入matplotlib\n",
    "import matplotlib.pyplot as plt\n",
    "\n",
    "plt.rcParams['font.sans-serif']=['SimHei']    #正常显示中文\n",
    "plt.rcParams['figure.dpi'] = 120      #设置所有图片的清晰度\n",
    "# 绘制条形图\n",
    "world_top10.sort_values('累计确诊').plot.barh(subplots=True,layout=(1,3),sharex=False,\n",
    "                                             figsize=(7,4),legend=False,sharey=True)\n",
    "\n",
    "plt.tight_layout()   #调整子图间距\n",
    "plt.show()"
   ]
  },
  {
   "cell_type": "code",
   "execution_count": null,
   "metadata": {},
   "outputs": [],
   "source": []
  }
 ],
 "metadata": {
  "kernelspec": {
   "display_name": "Python 3",
   "language": "python",
   "name": "python3"
  },
  "language_info": {
   "codemirror_mode": {
    "name": "ipython",
    "version": 3
   },
   "file_extension": ".py",
   "mimetype": "text/x-python",
   "name": "python",
   "nbconvert_exporter": "python",
   "pygments_lexer": "ipython3",
   "version": "3.7.8"
  },
  "pycharm": {
   "stem_cell": {
    "cell_type": "raw",
    "metadata": {
     "collapsed": false
    },
    "source": []
   }
  }
 },
 "nbformat": 4,
 "nbformat_minor": 1
}
